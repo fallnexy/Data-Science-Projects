{
 "cells": [
  {
   "cell_type": "markdown",
   "metadata": {},
   "source": [
    "# Cars sale"
   ]
  },
  {
   "cell_type": "markdown",
   "metadata": {},
   "source": [
    "Сервис по продаже автомобилей с пробегом разрабатывает приложение для привлечения новых клиентов. В нём можно быстро узнать рыночную стоимость своего автомобиля. В распоряжении находятся исторические данные: технические характеристики, комплектации и цены автомобилей.  \n",
    "\n",
    "#### Цель  \n",
    "Необходимо построить модель для определения рыночной стоимости автомобиля.  \n",
    "\n",
    "Заказчику важны:\n",
    "\n",
    "- качество предсказания;\n",
    "- скорость предсказания;\n",
    "- время обучения."
   ]
  },
  {
   "cell_type": "markdown",
   "metadata": {},
   "source": [
    "#### Описание данных  \n",
    "\n",
    "**Признаки**  \n",
    "DateCrawled — дата скачивания анкеты из базы  \n",
    "VehicleType — тип автомобильного кузова  \n",
    "RegistrationYear — год регистрации автомобиля  \n",
    "Gearbox — тип коробки передач  \n",
    "Power — мощность (л. с.)  \n",
    "Model — модель автомобиля  \n",
    "Kilometer — пробег (км)  \n",
    "RegistrationMonth — месяц регистрации автомобиля  \n",
    "FuelType — тип топлива  \n",
    "Brand — марка автомобиля  \n",
    "NotRepaired — была машина в ремонте или нет  \n",
    "DateCreated — дата создания анкеты  \n",
    "NumberOfPictures — количество фотографий автомобиля  \n",
    "PostalCode — почтовый индекс владельца анкеты (пользователя)  \n",
    "LastSeen — дата последней активности пользователя  \n",
    "**Целевой признак**  \n",
    "Price — цена (евро)  "
   ]
  },
  {
   "cell_type": "markdown",
   "metadata": {},
   "source": [
    "# 1. Подготовка данных"
   ]
  },
  {
   "cell_type": "code",
   "execution_count": 1,
   "metadata": {},
   "outputs": [],
   "source": [
    "import pandas as pd\n",
    "import numpy as np\n",
    "import seaborn as sns\n",
    "import lightgbm as lgb\n",
    "from catboost import CatBoostRegressor\n",
    "from sklearn.model_selection import train_test_split, cross_val_score\n",
    "from sklearn.metrics import mean_squared_error, make_scorer\n",
    "from sklearn.model_selection import GridSearchCV\n",
    "from sklearn.ensemble import RandomForestRegressor\n",
    "from sklearn.preprocessing import LabelEncoder"
   ]
  },
  {
   "cell_type": "markdown",
   "metadata": {},
   "source": [
    "Открываем данные"
   ]
  },
  {
   "cell_type": "code",
   "execution_count": 37,
   "metadata": {},
   "outputs": [],
   "source": [
    "data_auto = pd.read_csv('/datasets/autos.csv')"
   ]
  },
  {
   "cell_type": "code",
   "execution_count": 38,
   "metadata": {
    "scrolled": false
   },
   "outputs": [
    {
     "name": "stdout",
     "output_type": "stream",
     "text": [
      "<class 'pandas.core.frame.DataFrame'>\n",
      "RangeIndex: 354369 entries, 0 to 354368\n",
      "Data columns (total 16 columns):\n",
      "DateCrawled          354369 non-null object\n",
      "Price                354369 non-null int64\n",
      "VehicleType          316879 non-null object\n",
      "RegistrationYear     354369 non-null int64\n",
      "Gearbox              334536 non-null object\n",
      "Power                354369 non-null int64\n",
      "Model                334664 non-null object\n",
      "Kilometer            354369 non-null int64\n",
      "RegistrationMonth    354369 non-null int64\n",
      "FuelType             321474 non-null object\n",
      "Brand                354369 non-null object\n",
      "NotRepaired          283215 non-null object\n",
      "DateCreated          354369 non-null object\n",
      "NumberOfPictures     354369 non-null int64\n",
      "PostalCode           354369 non-null int64\n",
      "LastSeen             354369 non-null object\n",
      "dtypes: int64(7), object(9)\n",
      "memory usage: 43.3+ MB\n"
     ]
    },
    {
     "data": {
      "text/html": [
       "<div>\n",
       "<style scoped>\n",
       "    .dataframe tbody tr th:only-of-type {\n",
       "        vertical-align: middle;\n",
       "    }\n",
       "\n",
       "    .dataframe tbody tr th {\n",
       "        vertical-align: top;\n",
       "    }\n",
       "\n",
       "    .dataframe thead th {\n",
       "        text-align: right;\n",
       "    }\n",
       "</style>\n",
       "<table border=\"1\" class=\"dataframe\">\n",
       "  <thead>\n",
       "    <tr style=\"text-align: right;\">\n",
       "      <th></th>\n",
       "      <th>DateCrawled</th>\n",
       "      <th>Price</th>\n",
       "      <th>VehicleType</th>\n",
       "      <th>RegistrationYear</th>\n",
       "      <th>Gearbox</th>\n",
       "      <th>Power</th>\n",
       "      <th>Model</th>\n",
       "      <th>Kilometer</th>\n",
       "      <th>RegistrationMonth</th>\n",
       "      <th>FuelType</th>\n",
       "      <th>Brand</th>\n",
       "      <th>NotRepaired</th>\n",
       "      <th>DateCreated</th>\n",
       "      <th>NumberOfPictures</th>\n",
       "      <th>PostalCode</th>\n",
       "      <th>LastSeen</th>\n",
       "    </tr>\n",
       "  </thead>\n",
       "  <tbody>\n",
       "    <tr>\n",
       "      <td>0</td>\n",
       "      <td>2016-03-24 11:52:17</td>\n",
       "      <td>480</td>\n",
       "      <td>NaN</td>\n",
       "      <td>1993</td>\n",
       "      <td>manual</td>\n",
       "      <td>0</td>\n",
       "      <td>golf</td>\n",
       "      <td>150000</td>\n",
       "      <td>0</td>\n",
       "      <td>petrol</td>\n",
       "      <td>volkswagen</td>\n",
       "      <td>NaN</td>\n",
       "      <td>2016-03-24 00:00:00</td>\n",
       "      <td>0</td>\n",
       "      <td>70435</td>\n",
       "      <td>2016-04-07 03:16:57</td>\n",
       "    </tr>\n",
       "    <tr>\n",
       "      <td>1</td>\n",
       "      <td>2016-03-24 10:58:45</td>\n",
       "      <td>18300</td>\n",
       "      <td>coupe</td>\n",
       "      <td>2011</td>\n",
       "      <td>manual</td>\n",
       "      <td>190</td>\n",
       "      <td>NaN</td>\n",
       "      <td>125000</td>\n",
       "      <td>5</td>\n",
       "      <td>gasoline</td>\n",
       "      <td>audi</td>\n",
       "      <td>yes</td>\n",
       "      <td>2016-03-24 00:00:00</td>\n",
       "      <td>0</td>\n",
       "      <td>66954</td>\n",
       "      <td>2016-04-07 01:46:50</td>\n",
       "    </tr>\n",
       "    <tr>\n",
       "      <td>2</td>\n",
       "      <td>2016-03-14 12:52:21</td>\n",
       "      <td>9800</td>\n",
       "      <td>suv</td>\n",
       "      <td>2004</td>\n",
       "      <td>auto</td>\n",
       "      <td>163</td>\n",
       "      <td>grand</td>\n",
       "      <td>125000</td>\n",
       "      <td>8</td>\n",
       "      <td>gasoline</td>\n",
       "      <td>jeep</td>\n",
       "      <td>NaN</td>\n",
       "      <td>2016-03-14 00:00:00</td>\n",
       "      <td>0</td>\n",
       "      <td>90480</td>\n",
       "      <td>2016-04-05 12:47:46</td>\n",
       "    </tr>\n",
       "    <tr>\n",
       "      <td>3</td>\n",
       "      <td>2016-03-17 16:54:04</td>\n",
       "      <td>1500</td>\n",
       "      <td>small</td>\n",
       "      <td>2001</td>\n",
       "      <td>manual</td>\n",
       "      <td>75</td>\n",
       "      <td>golf</td>\n",
       "      <td>150000</td>\n",
       "      <td>6</td>\n",
       "      <td>petrol</td>\n",
       "      <td>volkswagen</td>\n",
       "      <td>no</td>\n",
       "      <td>2016-03-17 00:00:00</td>\n",
       "      <td>0</td>\n",
       "      <td>91074</td>\n",
       "      <td>2016-03-17 17:40:17</td>\n",
       "    </tr>\n",
       "    <tr>\n",
       "      <td>4</td>\n",
       "      <td>2016-03-31 17:25:20</td>\n",
       "      <td>3600</td>\n",
       "      <td>small</td>\n",
       "      <td>2008</td>\n",
       "      <td>manual</td>\n",
       "      <td>69</td>\n",
       "      <td>fabia</td>\n",
       "      <td>90000</td>\n",
       "      <td>7</td>\n",
       "      <td>gasoline</td>\n",
       "      <td>skoda</td>\n",
       "      <td>no</td>\n",
       "      <td>2016-03-31 00:00:00</td>\n",
       "      <td>0</td>\n",
       "      <td>60437</td>\n",
       "      <td>2016-04-06 10:17:21</td>\n",
       "    </tr>\n",
       "  </tbody>\n",
       "</table>\n",
       "</div>"
      ],
      "text/plain": [
       "           DateCrawled  Price VehicleType  RegistrationYear Gearbox  Power  \\\n",
       "0  2016-03-24 11:52:17    480         NaN              1993  manual      0   \n",
       "1  2016-03-24 10:58:45  18300       coupe              2011  manual    190   \n",
       "2  2016-03-14 12:52:21   9800         suv              2004    auto    163   \n",
       "3  2016-03-17 16:54:04   1500       small              2001  manual     75   \n",
       "4  2016-03-31 17:25:20   3600       small              2008  manual     69   \n",
       "\n",
       "   Model  Kilometer  RegistrationMonth  FuelType       Brand NotRepaired  \\\n",
       "0   golf     150000                  0    petrol  volkswagen         NaN   \n",
       "1    NaN     125000                  5  gasoline        audi         yes   \n",
       "2  grand     125000                  8  gasoline        jeep         NaN   \n",
       "3   golf     150000                  6    petrol  volkswagen          no   \n",
       "4  fabia      90000                  7  gasoline       skoda          no   \n",
       "\n",
       "           DateCreated  NumberOfPictures  PostalCode             LastSeen  \n",
       "0  2016-03-24 00:00:00                 0       70435  2016-04-07 03:16:57  \n",
       "1  2016-03-24 00:00:00                 0       66954  2016-04-07 01:46:50  \n",
       "2  2016-03-14 00:00:00                 0       90480  2016-04-05 12:47:46  \n",
       "3  2016-03-17 00:00:00                 0       91074  2016-03-17 17:40:17  \n",
       "4  2016-03-31 00:00:00                 0       60437  2016-04-06 10:17:21  "
      ]
     },
     "execution_count": 38,
     "metadata": {},
     "output_type": "execute_result"
    }
   ],
   "source": [
    "data_auto.info()\n",
    "data_auto.head()"
   ]
  },
  {
   "cell_type": "code",
   "execution_count": 39,
   "metadata": {
    "scrolled": false
   },
   "outputs": [
    {
     "data": {
      "text/html": [
       "<div>\n",
       "<style scoped>\n",
       "    .dataframe tbody tr th:only-of-type {\n",
       "        vertical-align: middle;\n",
       "    }\n",
       "\n",
       "    .dataframe tbody tr th {\n",
       "        vertical-align: top;\n",
       "    }\n",
       "\n",
       "    .dataframe thead th {\n",
       "        text-align: right;\n",
       "    }\n",
       "</style>\n",
       "<table border=\"1\" class=\"dataframe\">\n",
       "  <thead>\n",
       "    <tr style=\"text-align: right;\">\n",
       "      <th></th>\n",
       "      <th>Price</th>\n",
       "      <th>RegistrationYear</th>\n",
       "      <th>Power</th>\n",
       "      <th>Kilometer</th>\n",
       "      <th>RegistrationMonth</th>\n",
       "      <th>NumberOfPictures</th>\n",
       "      <th>PostalCode</th>\n",
       "    </tr>\n",
       "  </thead>\n",
       "  <tbody>\n",
       "    <tr>\n",
       "      <td>count</td>\n",
       "      <td>354369.000000</td>\n",
       "      <td>354369.000000</td>\n",
       "      <td>354369.000000</td>\n",
       "      <td>354369.000000</td>\n",
       "      <td>354369.000000</td>\n",
       "      <td>354369.0</td>\n",
       "      <td>354369.000000</td>\n",
       "    </tr>\n",
       "    <tr>\n",
       "      <td>mean</td>\n",
       "      <td>4416.656776</td>\n",
       "      <td>2004.234448</td>\n",
       "      <td>110.094337</td>\n",
       "      <td>128211.172535</td>\n",
       "      <td>5.714645</td>\n",
       "      <td>0.0</td>\n",
       "      <td>50508.689087</td>\n",
       "    </tr>\n",
       "    <tr>\n",
       "      <td>std</td>\n",
       "      <td>4514.158514</td>\n",
       "      <td>90.227958</td>\n",
       "      <td>189.850405</td>\n",
       "      <td>37905.341530</td>\n",
       "      <td>3.726421</td>\n",
       "      <td>0.0</td>\n",
       "      <td>25783.096248</td>\n",
       "    </tr>\n",
       "    <tr>\n",
       "      <td>min</td>\n",
       "      <td>0.000000</td>\n",
       "      <td>1000.000000</td>\n",
       "      <td>0.000000</td>\n",
       "      <td>5000.000000</td>\n",
       "      <td>0.000000</td>\n",
       "      <td>0.0</td>\n",
       "      <td>1067.000000</td>\n",
       "    </tr>\n",
       "    <tr>\n",
       "      <td>25%</td>\n",
       "      <td>1050.000000</td>\n",
       "      <td>1999.000000</td>\n",
       "      <td>69.000000</td>\n",
       "      <td>125000.000000</td>\n",
       "      <td>3.000000</td>\n",
       "      <td>0.0</td>\n",
       "      <td>30165.000000</td>\n",
       "    </tr>\n",
       "    <tr>\n",
       "      <td>50%</td>\n",
       "      <td>2700.000000</td>\n",
       "      <td>2003.000000</td>\n",
       "      <td>105.000000</td>\n",
       "      <td>150000.000000</td>\n",
       "      <td>6.000000</td>\n",
       "      <td>0.0</td>\n",
       "      <td>49413.000000</td>\n",
       "    </tr>\n",
       "    <tr>\n",
       "      <td>75%</td>\n",
       "      <td>6400.000000</td>\n",
       "      <td>2008.000000</td>\n",
       "      <td>143.000000</td>\n",
       "      <td>150000.000000</td>\n",
       "      <td>9.000000</td>\n",
       "      <td>0.0</td>\n",
       "      <td>71083.000000</td>\n",
       "    </tr>\n",
       "    <tr>\n",
       "      <td>max</td>\n",
       "      <td>20000.000000</td>\n",
       "      <td>9999.000000</td>\n",
       "      <td>20000.000000</td>\n",
       "      <td>150000.000000</td>\n",
       "      <td>12.000000</td>\n",
       "      <td>0.0</td>\n",
       "      <td>99998.000000</td>\n",
       "    </tr>\n",
       "  </tbody>\n",
       "</table>\n",
       "</div>"
      ],
      "text/plain": [
       "               Price  RegistrationYear          Power      Kilometer  \\\n",
       "count  354369.000000     354369.000000  354369.000000  354369.000000   \n",
       "mean     4416.656776       2004.234448     110.094337  128211.172535   \n",
       "std      4514.158514         90.227958     189.850405   37905.341530   \n",
       "min         0.000000       1000.000000       0.000000    5000.000000   \n",
       "25%      1050.000000       1999.000000      69.000000  125000.000000   \n",
       "50%      2700.000000       2003.000000     105.000000  150000.000000   \n",
       "75%      6400.000000       2008.000000     143.000000  150000.000000   \n",
       "max     20000.000000       9999.000000   20000.000000  150000.000000   \n",
       "\n",
       "       RegistrationMonth  NumberOfPictures     PostalCode  \n",
       "count      354369.000000          354369.0  354369.000000  \n",
       "mean            5.714645               0.0   50508.689087  \n",
       "std             3.726421               0.0   25783.096248  \n",
       "min             0.000000               0.0    1067.000000  \n",
       "25%             3.000000               0.0   30165.000000  \n",
       "50%             6.000000               0.0   49413.000000  \n",
       "75%             9.000000               0.0   71083.000000  \n",
       "max            12.000000               0.0   99998.000000  "
      ]
     },
     "execution_count": 39,
     "metadata": {},
     "output_type": "execute_result"
    }
   ],
   "source": [
    "data_auto.describe()"
   ]
  },
  {
   "cell_type": "markdown",
   "metadata": {},
   "source": [
    "В столбце **NumberOfPictures** все значения равны нулю, то есть такой столбец будет бесполезен при обучении, поэтому его стоит убрать. Также стоит убрать столбцы **DateCrawled**, **RegistrationMonth**, **DateCreated**, **LastSeen**, **PostalCode**, как невлияющие на цену."
   ]
  },
  {
   "cell_type": "code",
   "execution_count": 40,
   "metadata": {},
   "outputs": [],
   "source": [
    "data_auto.drop(['DateCrawled', 'RegistrationMonth', 'DateCreated', 'NumberOfPictures', 'LastSeen', 'PostalCode'], axis = 1, inplace = True)"
   ]
  },
  {
   "cell_type": "markdown",
   "metadata": {},
   "source": [
    "Приведем данные некоторых столбцов к типу **category**, так как это требуется для некоторых моделей"
   ]
  },
  {
   "cell_type": "code",
   "execution_count": 41,
   "metadata": {},
   "outputs": [],
   "source": [
    "for feat in ['VehicleType', 'Gearbox', 'Model', 'FuelType', 'Brand', 'NotRepaired']:\n",
    "    data_auto[feat] = data_auto[feat].astype('category')"
   ]
  },
  {
   "cell_type": "code",
   "execution_count": 42,
   "metadata": {},
   "outputs": [],
   "source": [
    "cat = ['VehicleType', 'Gearbox', 'Model', 'FuelType', 'Brand', 'NotRepaired']\n",
    "data_auto[cat] = data_auto[cat].astype('category')"
   ]
  },
  {
   "cell_type": "markdown",
   "metadata": {},
   "source": [
    "Посмотрим какой результат выдаст модель **LGBMRegressor** без обработки данных"
   ]
  },
  {
   "cell_type": "code",
   "execution_count": 43,
   "metadata": {},
   "outputs": [],
   "source": [
    "data_target = data_auto['Price']\n",
    "data_features = data_auto.drop(['Price'], axis = 1)"
   ]
  },
  {
   "cell_type": "code",
   "execution_count": 44,
   "metadata": {},
   "outputs": [],
   "source": [
    "data_features_train, data_features_test, data_target_train, data_target_test = train_test_split(data_features, data_target, test_size=0.2, random_state=12345)"
   ]
  },
  {
   "cell_type": "code",
   "execution_count": 45,
   "metadata": {
    "scrolled": false
   },
   "outputs": [
    {
     "name": "stdout",
     "output_type": "stream",
     "text": [
      "CPU times: user 3.7 s, sys: 0 ns, total: 3.7 s\n",
      "Wall time: 3.69 s\n"
     ]
    },
    {
     "data": {
      "text/plain": [
       "LGBMRegressor(boosting_type='gbdt', class_weight=None, colsample_bytree=1.0,\n",
       "              importance_type='split', learning_rate=0.1, max_depth=-1,\n",
       "              min_child_samples=20, min_child_weight=0.001, min_split_gain=0.0,\n",
       "              n_estimators=100, n_jobs=-1, num_leaves=31, num_threads=2,\n",
       "              objective=None, random_state=12345, reg_alpha=0.0, reg_lambda=0.0,\n",
       "              silent=True, subsample=1.0, subsample_for_bin=200000,\n",
       "              subsample_freq=0)"
      ]
     },
     "execution_count": 45,
     "metadata": {},
     "output_type": "execute_result"
    }
   ],
   "source": [
    "%%time\n",
    "model = lgb.LGBMRegressor(num_threads = 2,  random_state = 12345)\n",
    "model.fit(data_features_train, data_target_train)"
   ]
  },
  {
   "cell_type": "code",
   "execution_count": 46,
   "metadata": {
    "scrolled": true
   },
   "outputs": [
    {
     "name": "stdout",
     "output_type": "stream",
     "text": [
      "CPU times: user 822 ms, sys: 1.45 ms, total: 823 ms\n",
      "Wall time: 814 ms\n"
     ]
    }
   ],
   "source": [
    "%%time\n",
    "pred = model.predict(data_features_test)"
   ]
  },
  {
   "cell_type": "code",
   "execution_count": 47,
   "metadata": {},
   "outputs": [
    {
     "name": "stdout",
     "output_type": "stream",
     "text": [
      "rmse = 1785.7374916790977\n"
     ]
    }
   ],
   "source": [
    "print('rmse =', mean_squared_error(data_target_test, pred)**0.5)"
   ]
  },
  {
   "cell_type": "markdown",
   "metadata": {},
   "source": [
    "Без обработки данных среднеквадратическая ошибка составила 1785 евро. Сравним это значение со случаем, когда вместо предсказанных значений используется константа - среднее значение:"
   ]
  },
  {
   "cell_type": "code",
   "execution_count": 48,
   "metadata": {},
   "outputs": [],
   "source": [
    "const_check = np.full((len(data_target_test), 1), data_target_test.mean())"
   ]
  },
  {
   "cell_type": "code",
   "execution_count": 49,
   "metadata": {
    "scrolled": false
   },
   "outputs": [
    {
     "name": "stdout",
     "output_type": "stream",
     "text": [
      "rmse = 4520.743927126966\n"
     ]
    }
   ],
   "source": [
    "print('rmse =', mean_squared_error(data_target_test, const_check)**0.5)"
   ]
  },
  {
   "cell_type": "markdown",
   "metadata": {},
   "source": [
    "Модель **LGBMRegressor** без предобработки данных показывает результат лучше, чем константная модель"
   ]
  },
  {
   "cell_type": "markdown",
   "metadata": {},
   "source": [
    "### Предобработка"
   ]
  },
  {
   "cell_type": "markdown",
   "metadata": {},
   "source": [
    "Посмотрим, какой процент пропусков в каждом столбце"
   ]
  },
  {
   "cell_type": "code",
   "execution_count": 50,
   "metadata": {
    "scrolled": true
   },
   "outputs": [
    {
     "data": {
      "text/plain": [
       "NotRepaired         20.079070\n",
       "VehicleType         10.579368\n",
       "FuelType             9.282697\n",
       "Gearbox              5.596709\n",
       "Model                5.560588\n",
       "Brand                0.000000\n",
       "Kilometer            0.000000\n",
       "Power                0.000000\n",
       "RegistrationYear     0.000000\n",
       "Price                0.000000\n",
       "dtype: float64"
      ]
     },
     "execution_count": 50,
     "metadata": {},
     "output_type": "execute_result"
    }
   ],
   "source": [
    "(data_auto.isnull().sum() / data_auto.shape[0] * 100).sort_values(ascending = False)"
   ]
  },
  {
   "cell_type": "markdown",
   "metadata": {},
   "source": [
    "#### столбцы RegistrationYear, Price и Power"
   ]
  },
  {
   "cell_type": "markdown",
   "metadata": {},
   "source": [
    "Так как сервис занимается продажей автомобилей с пробегом, а не антикварных автомобилей, то поставим ограничимся временым промежутком с 1970 по 2020 (если предположить, что данные собирались и до настоящего времени), также будем рассматривать только те машины, цена которых больше 50 евро, а мощность больше 20 л.с.:"
   ]
  },
  {
   "cell_type": "code",
   "execution_count": 51,
   "metadata": {},
   "outputs": [],
   "source": [
    "data_auto = data_auto.query(\"RegistrationYear > 1970 and RegistrationYear <= 2020 and Price > 50 and Power > 20\")"
   ]
  },
  {
   "cell_type": "markdown",
   "metadata": {},
   "source": [
    "#### столбец NotRepaired"
   ]
  },
  {
   "cell_type": "markdown",
   "metadata": {},
   "source": [
    "В описании говорится, что этот столбец означает, была машина в ремонте или нет. Но остается непонятно, какой имеется ввиду ремонт: крупный, после аварии или текущий. Кроме того, получается, что если машина сломана и не ремонтировалась, то ей присваивается знаечение **yes** - не ремонтировалась.  \n",
    "Получается, что признак сам по себе важный, но критерии присвоения значания непонятны. Поэтому пропущенные значения оставим в отдельной категории **nan**"
   ]
  },
  {
   "cell_type": "code",
   "execution_count": 52,
   "metadata": {},
   "outputs": [],
   "source": [
    "def make_nan(feature):\n",
    "    data_auto[feature] = data_auto[feature].astype('object')\n",
    "    data_auto[feature].fillna('nan', inplace = True)\n",
    "    data_auto[feature] = data_auto[feature].astype('category')"
   ]
  },
  {
   "cell_type": "code",
   "execution_count": 53,
   "metadata": {},
   "outputs": [],
   "source": [
    "make_nan('NotRepaired')"
   ]
  },
  {
   "cell_type": "code",
   "execution_count": 54,
   "metadata": {},
   "outputs": [
    {
     "data": {
      "text/plain": [
       "no     229119\n",
       "nan     46532\n",
       "yes     29381\n",
       "Name: NotRepaired, dtype: int64"
      ]
     },
     "execution_count": 54,
     "metadata": {},
     "output_type": "execute_result"
    }
   ],
   "source": [
    "data_auto['NotRepaired'].value_counts()"
   ]
  },
  {
   "cell_type": "markdown",
   "metadata": {},
   "source": [
    "#### столбец VehicleType"
   ]
  },
  {
   "cell_type": "markdown",
   "metadata": {},
   "source": [
    "В столбце **VehicleType** тоже пропуски заменим значением **nan**"
   ]
  },
  {
   "cell_type": "code",
   "execution_count": 55,
   "metadata": {},
   "outputs": [],
   "source": [
    "make_nan('VehicleType')"
   ]
  },
  {
   "cell_type": "markdown",
   "metadata": {},
   "source": [
    "#### столбец FuelType"
   ]
  },
  {
   "cell_type": "code",
   "execution_count": 56,
   "metadata": {
    "scrolled": true
   },
   "outputs": [
    {
     "data": {
      "text/plain": [
       "petrol      190654\n",
       "gasoline     89295\n",
       "lpg           4785\n",
       "cng            497\n",
       "hybrid         204\n",
       "other           79\n",
       "electric        40\n",
       "Name: FuelType, dtype: int64"
      ]
     },
     "execution_count": 56,
     "metadata": {},
     "output_type": "execute_result"
    }
   ],
   "source": [
    "data_auto['FuelType'].value_counts()"
   ]
  },
  {
   "cell_type": "markdown",
   "metadata": {},
   "source": [
    "Заполним пропуски в столбце **FuelType** значением **gasoline**, так как бензиновый двигатель самый распространенный и можно с ожидать, что если клиент приложения не знает какой у него двигатель, то этот двигатель бензиновый, иначе клиент бы знал у него двигатель.  \n",
    "Также заменим значение **petrol** на **gasoline**, потому что это одно и то же - безин"
   ]
  },
  {
   "cell_type": "code",
   "execution_count": 57,
   "metadata": {},
   "outputs": [],
   "source": [
    "data_auto['FuelType'].fillna('gasoline', inplace = True)\n",
    "data_auto['FuelType'] = data_auto['FuelType'].replace({'petrol' : 'gasoline'})\n",
    "data_auto['FuelType'] = data_auto['FuelType'].astype('category')"
   ]
  },
  {
   "cell_type": "markdown",
   "metadata": {},
   "source": [
    "#### стобец Model"
   ]
  },
  {
   "cell_type": "markdown",
   "metadata": {},
   "source": [
    "В данном столбце пропуски просто удалим, потому что моделей у брендов много и в ценообразовании должны играть немалую роль, поэтому заполнять чем попало не хочется."
   ]
  },
  {
   "cell_type": "code",
   "execution_count": 58,
   "metadata": {},
   "outputs": [],
   "source": [
    "data_auto.dropna(subset = ['Model'], inplace = True)"
   ]
  },
  {
   "cell_type": "markdown",
   "metadata": {},
   "source": [
    "#### столбец Gearbox"
   ]
  },
  {
   "cell_type": "code",
   "execution_count": 59,
   "metadata": {},
   "outputs": [
    {
     "data": {
      "text/plain": [
       "manual    230287\n",
       "auto       57631\n",
       "Name: Gearbox, dtype: int64"
      ]
     },
     "execution_count": 59,
     "metadata": {},
     "output_type": "execute_result"
    }
   ],
   "source": [
    "data_auto['Gearbox'].value_counts()"
   ]
  },
  {
   "cell_type": "markdown",
   "metadata": {},
   "source": [
    "Заполним пропуски значением **manual**, так как оно встречается гораздо чаще значения **auto**"
   ]
  },
  {
   "cell_type": "code",
   "execution_count": 60,
   "metadata": {},
   "outputs": [],
   "source": [
    "data_auto['Gearbox'].fillna('manual', inplace = True)"
   ]
  },
  {
   "cell_type": "markdown",
   "metadata": {},
   "source": [
    "### Вывод"
   ]
  },
  {
   "cell_type": "code",
   "execution_count": 27,
   "metadata": {
    "scrolled": true
   },
   "outputs": [
    {
     "name": "stdout",
     "output_type": "stream",
     "text": [
      "<class 'pandas.core.frame.DataFrame'>\n",
      "Int64Index: 293091 entries, 2 to 354368\n",
      "Data columns (total 10 columns):\n",
      "Price               293091 non-null int64\n",
      "VehicleType         293091 non-null category\n",
      "RegistrationYear    293091 non-null int64\n",
      "Gearbox             293091 non-null category\n",
      "Power               293091 non-null int64\n",
      "Model               293091 non-null category\n",
      "Kilometer           293091 non-null int64\n",
      "FuelType            293091 non-null category\n",
      "Brand               293091 non-null category\n",
      "NotRepaired         293091 non-null category\n",
      "dtypes: category(6), int64(4)\n",
      "memory usage: 13.2 MB\n"
     ]
    }
   ],
   "source": [
    "data_auto.info()"
   ]
  },
  {
   "cell_type": "markdown",
   "metadata": {},
   "source": [
    "Пропуски заполнены или удалены"
   ]
  },
  {
   "cell_type": "markdown",
   "metadata": {},
   "source": [
    "# 2. Обучение моделей"
   ]
  },
  {
   "cell_type": "markdown",
   "metadata": {},
   "source": [
    "### Модель LightGBM"
   ]
  },
  {
   "cell_type": "markdown",
   "metadata": {},
   "source": [
    "Разделим данные на признаки и целевой признак"
   ]
  },
  {
   "cell_type": "code",
   "execution_count": 38,
   "metadata": {},
   "outputs": [],
   "source": [
    "data_target = data_auto['Price']\n",
    "data_features = data_auto.drop(['Price'], axis = 1)"
   ]
  },
  {
   "cell_type": "markdown",
   "metadata": {},
   "source": [
    "Разделим данные на тренировочную и тестовую выборки"
   ]
  },
  {
   "cell_type": "code",
   "execution_count": 39,
   "metadata": {},
   "outputs": [],
   "source": [
    "data_features_train, data_features_test, data_target_train, data_target_test = train_test_split(data_features, data_target, test_size=0.2, random_state=12345)"
   ]
  },
  {
   "cell_type": "markdown",
   "metadata": {},
   "source": [
    "Задаем параметры модели"
   ]
  },
  {
   "cell_type": "code",
   "execution_count": 59,
   "metadata": {},
   "outputs": [],
   "source": [
    "my_scorer = make_scorer(mean_squared_error, greater_is_better=False)"
   ]
  },
  {
   "cell_type": "code",
   "execution_count": 60,
   "metadata": {},
   "outputs": [],
   "source": [
    "param_grid = {'max_depth': [20, 30], 'num_leaves': [501, 701], 'subsample_for_bin': [50000, 100000, 150000, 200000]}"
   ]
  },
  {
   "cell_type": "code",
   "execution_count": 61,
   "metadata": {},
   "outputs": [],
   "source": [
    "model_grid = GridSearchCV(lgb.LGBMRegressor(num_threads = 2,  random_state = 12345), param_grid = param_grid, scoring=my_scorer)"
   ]
  },
  {
   "cell_type": "markdown",
   "metadata": {},
   "source": [
    "Обучим модель"
   ]
  },
  {
   "cell_type": "code",
   "execution_count": 62,
   "metadata": {
    "scrolled": true
   },
   "outputs": [
    {
     "name": "stderr",
     "output_type": "stream",
     "text": [
      "/opt/conda/lib/python3.7/site-packages/sklearn/model_selection/_split.py:1978: FutureWarning: The default value of cv will change from 3 to 5 in version 0.22. Specify it explicitly to silence this warning.\n",
      "  warnings.warn(CV_WARNING, FutureWarning)\n"
     ]
    },
    {
     "name": "stdout",
     "output_type": "stream",
     "text": [
      "CPU times: user 8min 57s, sys: 13 s, total: 9min 10s\n",
      "Wall time: 9min 10s\n"
     ]
    },
    {
     "data": {
      "text/plain": [
       "GridSearchCV(cv='warn', error_score='raise-deprecating',\n",
       "             estimator=LGBMRegressor(boosting_type='gbdt', class_weight=None,\n",
       "                                     colsample_bytree=1.0,\n",
       "                                     importance_type='split', learning_rate=0.1,\n",
       "                                     max_depth=-1, min_child_samples=20,\n",
       "                                     min_child_weight=0.001, min_split_gain=0.0,\n",
       "                                     n_estimators=100, n_jobs=-1, num_leaves=31,\n",
       "                                     num_threads=2, objective=None,\n",
       "                                     random_state=12345, reg_...0.0,\n",
       "                                     reg_lambda=0.0, silent=True, subsample=1.0,\n",
       "                                     subsample_for_bin=200000,\n",
       "                                     subsample_freq=0),\n",
       "             iid='warn', n_jobs=None,\n",
       "             param_grid={'max_depth': [20, 30], 'num_leaves': [501, 701],\n",
       "                         'subsample_for_bin': [50000, 100000, 150000, 200000]},\n",
       "             pre_dispatch='2*n_jobs', refit=True, return_train_score=False,\n",
       "             scoring=make_scorer(mean_squared_error, greater_is_better=False),\n",
       "             verbose=0)"
      ]
     },
     "execution_count": 62,
     "metadata": {},
     "output_type": "execute_result"
    }
   ],
   "source": [
    "%%time\n",
    "model_grid.fit(data_features_train, data_target_train)"
   ]
  },
  {
   "cell_type": "markdown",
   "metadata": {},
   "source": [
    "Лучшие параметры и среднеквадратичная ошибка следующие:"
   ]
  },
  {
   "cell_type": "code",
   "execution_count": 63,
   "metadata": {
    "scrolled": false
   },
   "outputs": [
    {
     "name": "stdout",
     "output_type": "stream",
     "text": [
      "best_params: {'max_depth': 30, 'num_leaves': 701, 'subsample_for_bin': 100000}\n",
      "rmse = 1505.8756422194226\n"
     ]
    }
   ],
   "source": [
    "print('best_params:', model_grid.best_params_)\n",
    "print('rmse =', (abs(model_grid.best_score_))**0.5)"
   ]
  },
  {
   "cell_type": "markdown",
   "metadata": {},
   "source": [
    "Посмотрим, что будет на тестовой выборке"
   ]
  },
  {
   "cell_type": "code",
   "execution_count": 64,
   "metadata": {
    "scrolled": true
   },
   "outputs": [
    {
     "name": "stdout",
     "output_type": "stream",
     "text": [
      "CPU times: user 2.78 s, sys: 3.97 ms, total: 2.78 s\n",
      "Wall time: 2.8 s\n"
     ]
    }
   ],
   "source": [
    "%%time\n",
    "pred = model_grid.predict(data_features_test)"
   ]
  },
  {
   "cell_type": "code",
   "execution_count": 65,
   "metadata": {},
   "outputs": [
    {
     "name": "stdout",
     "output_type": "stream",
     "text": [
      "rmse = 1477.6040865794737\n"
     ]
    }
   ],
   "source": [
    "print('rmse =', mean_squared_error(data_target_test, pred)**0.5)"
   ]
  },
  {
   "cell_type": "markdown",
   "metadata": {},
   "source": [
    "Среднеквадратичная ошибка составила 1478"
   ]
  },
  {
   "cell_type": "markdown",
   "metadata": {},
   "source": [
    "### Модель CatBoost"
   ]
  },
  {
   "cell_type": "markdown",
   "metadata": {},
   "source": [
    "Рассмотрим теперь модель **CatBoostRegressor**"
   ]
  },
  {
   "cell_type": "markdown",
   "metadata": {},
   "source": [
    "Задаем параметры модели"
   ]
  },
  {
   "cell_type": "code",
   "execution_count": 67,
   "metadata": {},
   "outputs": [],
   "source": [
    "param_grid_cat = {'iterations': [200], 'depth': [15], 'learning_rate': [0.5]}"
   ]
  },
  {
   "cell_type": "code",
   "execution_count": 68,
   "metadata": {},
   "outputs": [],
   "source": [
    "model_grid_cat = GridSearchCV(CatBoostRegressor(random_state = 12345), param_grid = param_grid_cat, cv=3)"
   ]
  },
  {
   "cell_type": "code",
   "execution_count": 40,
   "metadata": {},
   "outputs": [],
   "source": [
    "cat_features = ['VehicleType', 'Gearbox', 'Model',\n",
    "                'FuelType', 'Brand', 'NotRepaired']"
   ]
  },
  {
   "cell_type": "markdown",
   "metadata": {},
   "source": [
    "Обучим модель"
   ]
  },
  {
   "cell_type": "code",
   "execution_count": 70,
   "metadata": {
    "scrolled": true
   },
   "outputs": [
    {
     "name": "stdout",
     "output_type": "stream",
     "text": [
      "0:\tlearn: 2995.5824025\ttotal: 3.89s\tremaining: 12m 54s\n",
      "10:\tlearn: 1559.4839489\ttotal: 36.3s\tremaining: 10m 22s\n",
      "20:\tlearn: 1453.0042643\ttotal: 1m 9s\tremaining: 9m 48s\n",
      "30:\tlearn: 1373.8656369\ttotal: 1m 41s\tremaining: 9m 12s\n",
      "40:\tlearn: 1313.1247359\ttotal: 2m 17s\tremaining: 8m 52s\n",
      "50:\tlearn: 1267.7973395\ttotal: 2m 54s\tremaining: 8m 28s\n",
      "60:\tlearn: 1239.1986986\ttotal: 3m 31s\tremaining: 8m 2s\n",
      "70:\tlearn: 1206.7036669\ttotal: 4m 10s\tremaining: 7m 34s\n",
      "80:\tlearn: 1181.5891782\ttotal: 4m 49s\tremaining: 7m 5s\n",
      "90:\tlearn: 1162.0620986\ttotal: 5m 28s\tremaining: 6m 33s\n",
      "100:\tlearn: 1145.6777969\ttotal: 6m 8s\tremaining: 6m\n",
      "110:\tlearn: 1128.5246113\ttotal: 6m 48s\tremaining: 5m 27s\n",
      "120:\tlearn: 1108.1955596\ttotal: 7m 27s\tremaining: 4m 52s\n",
      "130:\tlearn: 1093.1762158\ttotal: 8m 4s\tremaining: 4m 15s\n",
      "140:\tlearn: 1083.1607025\ttotal: 8m 42s\tremaining: 3m 38s\n",
      "150:\tlearn: 1069.8597774\ttotal: 9m 19s\tremaining: 3m 1s\n",
      "160:\tlearn: 1056.9464547\ttotal: 9m 56s\tremaining: 2m 24s\n",
      "170:\tlearn: 1045.0207402\ttotal: 10m 35s\tremaining: 1m 47s\n",
      "180:\tlearn: 1034.2750706\ttotal: 11m 13s\tremaining: 1m 10s\n",
      "190:\tlearn: 1025.7086487\ttotal: 11m 53s\tremaining: 33.6s\n",
      "199:\tlearn: 1017.5866340\ttotal: 12m 28s\tremaining: 0us\n",
      "0:\tlearn: 2952.3505424\ttotal: 3.1s\tremaining: 10m 17s\n",
      "10:\tlearn: 1564.8933054\ttotal: 36s\tremaining: 10m 17s\n",
      "20:\tlearn: 1424.8681683\ttotal: 1m 11s\tremaining: 10m 12s\n",
      "30:\tlearn: 1350.6527014\ttotal: 1m 47s\tremaining: 9m 46s\n",
      "40:\tlearn: 1298.9983862\ttotal: 2m 23s\tremaining: 9m 15s\n",
      "50:\tlearn: 1261.4856281\ttotal: 3m\tremaining: 8m 48s\n",
      "60:\tlearn: 1229.5898172\ttotal: 3m 38s\tremaining: 8m 17s\n",
      "70:\tlearn: 1199.3842410\ttotal: 4m 16s\tremaining: 7m 45s\n",
      "80:\tlearn: 1175.5996223\ttotal: 4m 52s\tremaining: 7m 9s\n",
      "90:\tlearn: 1159.0373416\ttotal: 5m 31s\tremaining: 6m 37s\n",
      "100:\tlearn: 1142.1112846\ttotal: 6m 8s\tremaining: 6m\n",
      "110:\tlearn: 1130.5697279\ttotal: 6m 48s\tremaining: 5m 27s\n",
      "120:\tlearn: 1118.7852609\ttotal: 7m 29s\tremaining: 4m 53s\n",
      "130:\tlearn: 1100.9196140\ttotal: 8m 9s\tremaining: 4m 17s\n",
      "140:\tlearn: 1090.4744144\ttotal: 8m 49s\tremaining: 3m 41s\n",
      "150:\tlearn: 1078.3107141\ttotal: 9m 29s\tremaining: 3m 4s\n",
      "160:\tlearn: 1068.6021148\ttotal: 10m 10s\tremaining: 2m 27s\n",
      "170:\tlearn: 1053.8720920\ttotal: 10m 50s\tremaining: 1m 50s\n",
      "180:\tlearn: 1043.5873339\ttotal: 11m 30s\tremaining: 1m 12s\n",
      "190:\tlearn: 1035.2356877\ttotal: 12m 11s\tremaining: 34.5s\n",
      "199:\tlearn: 1025.2219483\ttotal: 12m 46s\tremaining: 0us\n",
      "0:\tlearn: 2955.2287913\ttotal: 3.17s\tremaining: 10m 30s\n",
      "10:\tlearn: 1565.4771943\ttotal: 36s\tremaining: 10m 18s\n",
      "20:\tlearn: 1442.4499968\ttotal: 1m 13s\tremaining: 10m 30s\n",
      "30:\tlearn: 1359.7826707\ttotal: 1m 50s\tremaining: 9m 59s\n",
      "40:\tlearn: 1314.2802613\ttotal: 2m 27s\tremaining: 9m 31s\n",
      "50:\tlearn: 1263.3159252\ttotal: 3m 4s\tremaining: 8m 59s\n",
      "60:\tlearn: 1232.9434480\ttotal: 3m 40s\tremaining: 8m 21s\n",
      "70:\tlearn: 1210.6393889\ttotal: 4m 16s\tremaining: 7m 45s\n",
      "80:\tlearn: 1188.1434739\ttotal: 4m 56s\tremaining: 7m 14s\n",
      "90:\tlearn: 1165.1558930\ttotal: 5m 34s\tremaining: 6m 40s\n",
      "100:\tlearn: 1146.8298073\ttotal: 6m 13s\tremaining: 6m 5s\n",
      "110:\tlearn: 1123.6377687\ttotal: 6m 51s\tremaining: 5m 30s\n",
      "120:\tlearn: 1110.0083703\ttotal: 7m 30s\tremaining: 4m 54s\n",
      "130:\tlearn: 1091.2951620\ttotal: 8m 7s\tremaining: 4m 16s\n",
      "140:\tlearn: 1083.0180725\ttotal: 8m 45s\tremaining: 3m 39s\n",
      "150:\tlearn: 1075.5620271\ttotal: 9m 25s\tremaining: 3m 3s\n",
      "160:\tlearn: 1063.8204266\ttotal: 10m 3s\tremaining: 2m 26s\n",
      "170:\tlearn: 1049.4590612\ttotal: 10m 43s\tremaining: 1m 49s\n",
      "180:\tlearn: 1039.6890153\ttotal: 11m 22s\tremaining: 1m 11s\n",
      "190:\tlearn: 1033.6057200\ttotal: 12m 1s\tremaining: 34s\n",
      "199:\tlearn: 1025.4347864\ttotal: 12m 37s\tremaining: 0us\n",
      "0:\tlearn: 2966.4442979\ttotal: 3.74s\tremaining: 12m 24s\n",
      "10:\tlearn: 1557.8576342\ttotal: 43.6s\tremaining: 12m 29s\n",
      "20:\tlearn: 1469.8797067\ttotal: 1m 25s\tremaining: 12m 9s\n",
      "30:\tlearn: 1401.1123654\ttotal: 2m 9s\tremaining: 11m 46s\n",
      "40:\tlearn: 1347.3004304\ttotal: 2m 52s\tremaining: 11m 8s\n",
      "50:\tlearn: 1309.8248158\ttotal: 3m 38s\tremaining: 10m 37s\n",
      "60:\tlearn: 1279.0151163\ttotal: 4m 23s\tremaining: 10m\n",
      "70:\tlearn: 1254.9728295\ttotal: 5m 9s\tremaining: 9m 22s\n",
      "80:\tlearn: 1233.7560417\ttotal: 5m 55s\tremaining: 8m 42s\n",
      "90:\tlearn: 1216.5870754\ttotal: 6m 44s\tremaining: 8m 4s\n",
      "100:\tlearn: 1199.9876319\ttotal: 7m 30s\tremaining: 7m 21s\n",
      "110:\tlearn: 1186.3632551\ttotal: 8m 17s\tremaining: 6m 39s\n",
      "120:\tlearn: 1170.7956264\ttotal: 9m 6s\tremaining: 5m 56s\n",
      "130:\tlearn: 1154.9954797\ttotal: 9m 52s\tremaining: 5m 12s\n",
      "140:\tlearn: 1143.3827370\ttotal: 10m 39s\tremaining: 4m 27s\n",
      "150:\tlearn: 1131.5944799\ttotal: 11m 25s\tremaining: 3m 42s\n",
      "160:\tlearn: 1119.4135119\ttotal: 12m 11s\tremaining: 2m 57s\n",
      "170:\tlearn: 1113.4186872\ttotal: 12m 59s\tremaining: 2m 12s\n",
      "180:\tlearn: 1105.2699756\ttotal: 13m 45s\tremaining: 1m 26s\n",
      "190:\tlearn: 1094.3306711\ttotal: 14m 34s\tremaining: 41.2s\n",
      "199:\tlearn: 1088.8563911\ttotal: 15m 16s\tremaining: 0us\n",
      "CPU times: user 50min 9s, sys: 3min 13s, total: 53min 22s\n",
      "Wall time: 53min 32s\n"
     ]
    },
    {
     "data": {
      "text/plain": [
       "GridSearchCV(cv=3, error_score='raise-deprecating',\n",
       "             estimator=<catboost.core.CatBoostRegressor object at 0x7fb3a2b1d110>,\n",
       "             iid='warn', n_jobs=None,\n",
       "             param_grid={'depth': [15], 'iterations': [200],\n",
       "                         'learning_rate': [0.5]},\n",
       "             pre_dispatch='2*n_jobs', refit=True, return_train_score=False,\n",
       "             scoring=None, verbose=0)"
      ]
     },
     "execution_count": 70,
     "metadata": {},
     "output_type": "execute_result"
    }
   ],
   "source": [
    "%%time\n",
    "model_grid_cat.fit(data_features_train, data_target_train, cat_features=cat_features, verbose=10)"
   ]
  },
  {
   "cell_type": "code",
   "execution_count": 71,
   "metadata": {},
   "outputs": [],
   "source": [
    "predict_cat = model_grid_cat.predict(data_features_test)"
   ]
  },
  {
   "cell_type": "code",
   "execution_count": 72,
   "metadata": {},
   "outputs": [
    {
     "name": "stdout",
     "output_type": "stream",
     "text": [
      "rmse = 1534.2342434655181\n"
     ]
    }
   ],
   "source": [
    "print('rmse =', mean_squared_error(data_target_test, predict_cat)**0.5)"
   ]
  },
  {
   "cell_type": "markdown",
   "metadata": {},
   "source": [
    "Значение среднеквадратичной ошибки на тестовой выборке составило 1534"
   ]
  },
  {
   "cell_type": "markdown",
   "metadata": {},
   "source": [
    "### Модель RandomForestRegressor"
   ]
  },
  {
   "cell_type": "code",
   "execution_count": 61,
   "metadata": {},
   "outputs": [],
   "source": [
    "le = LabelEncoder()"
   ]
  },
  {
   "cell_type": "code",
   "execution_count": 62,
   "metadata": {},
   "outputs": [],
   "source": [
    "for feat in ['VehicleType', 'Gearbox', 'Model','FuelType', 'Brand', 'NotRepaired']:\n",
    "    le.fit(data_auto[feat])\n",
    "    data_auto[feat + '_le'] = le.transform(data_auto[feat])"
   ]
  },
  {
   "cell_type": "code",
   "execution_count": 64,
   "metadata": {
    "scrolled": true
   },
   "outputs": [],
   "source": [
    "target_le = data_auto['Price']\n",
    "features_le = data_auto.drop(['Price','VehicleType', 'Gearbox', 'Model','FuelType', 'Brand', 'NotRepaired'], axis = 1)"
   ]
  },
  {
   "cell_type": "code",
   "execution_count": 65,
   "metadata": {},
   "outputs": [],
   "source": [
    "features_train_le, features_test_le, target_train_le, target_test_le = train_test_split(features_le, target_le, test_size=0.2, random_state=12345)"
   ]
  },
  {
   "cell_type": "code",
   "execution_count": 66,
   "metadata": {},
   "outputs": [],
   "source": [
    "model_forest = RandomForestRegressor(n_jobs = -1, random_state = 12345)"
   ]
  },
  {
   "cell_type": "code",
   "execution_count": 67,
   "metadata": {},
   "outputs": [],
   "source": [
    "param_grid_forest = {'n_estimators': [50, 100], 'max_depth': [10, 15, 20]}"
   ]
  },
  {
   "cell_type": "code",
   "execution_count": 68,
   "metadata": {},
   "outputs": [],
   "source": [
    "model_grid_forest = GridSearchCV(model_forest, param_grid = param_grid_forest, cv=3)"
   ]
  },
  {
   "cell_type": "code",
   "execution_count": 69,
   "metadata": {
    "scrolled": false
   },
   "outputs": [
    {
     "name": "stdout",
     "output_type": "stream",
     "text": [
      "CPU times: user 8min 48s, sys: 3.03 s, total: 8min 51s\n",
      "Wall time: 8min 59s\n"
     ]
    },
    {
     "data": {
      "text/plain": [
       "GridSearchCV(cv=3, error_score='raise-deprecating',\n",
       "             estimator=RandomForestRegressor(bootstrap=True, criterion='mse',\n",
       "                                             max_depth=None,\n",
       "                                             max_features='auto',\n",
       "                                             max_leaf_nodes=None,\n",
       "                                             min_impurity_decrease=0.0,\n",
       "                                             min_impurity_split=None,\n",
       "                                             min_samples_leaf=1,\n",
       "                                             min_samples_split=2,\n",
       "                                             min_weight_fraction_leaf=0.0,\n",
       "                                             n_estimators='warn', n_jobs=-1,\n",
       "                                             oob_score=False,\n",
       "                                             random_state=12345, verbose=0,\n",
       "                                             warm_start=False),\n",
       "             iid='warn', n_jobs=None,\n",
       "             param_grid={'max_depth': [10, 15, 20], 'n_estimators': [50, 100]},\n",
       "             pre_dispatch='2*n_jobs', refit=True, return_train_score=False,\n",
       "             scoring=None, verbose=0)"
      ]
     },
     "execution_count": 69,
     "metadata": {},
     "output_type": "execute_result"
    }
   ],
   "source": [
    "%%time\n",
    "model_grid_forest.fit(features_train_le, target_train_le)"
   ]
  },
  {
   "cell_type": "code",
   "execution_count": 71,
   "metadata": {},
   "outputs": [
    {
     "name": "stdout",
     "output_type": "stream",
     "text": [
      "best_params: {'max_depth': 20, 'n_estimators': 100}\n"
     ]
    }
   ],
   "source": [
    "print('best_params:', model_grid_forest.best_params_)"
   ]
  },
  {
   "cell_type": "code",
   "execution_count": 72,
   "metadata": {
    "scrolled": true
   },
   "outputs": [],
   "source": [
    "forest_predict = model_grid_forest.predict(features_test_le)"
   ]
  },
  {
   "cell_type": "code",
   "execution_count": 73,
   "metadata": {},
   "outputs": [
    {
     "name": "stdout",
     "output_type": "stream",
     "text": [
      "rmse = 1564.8396139296783\n"
     ]
    }
   ],
   "source": [
    "print('rmse =', mean_squared_error(target_test_le, forest_predict)**0.5)"
   ]
  },
  {
   "cell_type": "markdown",
   "metadata": {},
   "source": [
    "Значение среднеквадратичной ошибки составило 1565 евро"
   ]
  },
  {
   "cell_type": "markdown",
   "metadata": {},
   "source": [
    "# 3. Анализ моделей"
   ]
  },
  {
   "cell_type": "markdown",
   "metadata": {},
   "source": [
    "#### модель LGBMRegressor"
   ]
  },
  {
   "cell_type": "code",
   "execution_count": 75,
   "metadata": {},
   "outputs": [],
   "source": [
    "model_lgb = lgb.LGBMRegressor(num_threads = 2,  random_state = 12345, max_depth = 30, num_leaves = 701, subsample_for_bin = 100000)"
   ]
  },
  {
   "cell_type": "code",
   "execution_count": 76,
   "metadata": {},
   "outputs": [
    {
     "name": "stdout",
     "output_type": "stream",
     "text": [
      "CPU times: user 10.6 s, sys: 304 ms, total: 10.9 s\n",
      "Wall time: 10.9 s\n"
     ]
    },
    {
     "data": {
      "text/plain": [
       "LGBMRegressor(boosting_type='gbdt', class_weight=None, colsample_bytree=1.0,\n",
       "              importance_type='split', learning_rate=0.1, max_depth=30,\n",
       "              min_child_samples=20, min_child_weight=0.001, min_split_gain=0.0,\n",
       "              n_estimators=100, n_jobs=-1, num_leaves=701, num_threads=2,\n",
       "              objective=None, random_state=12345, reg_alpha=0.0, reg_lambda=0.0,\n",
       "              silent=True, subsample=1.0, subsample_for_bin=100000,\n",
       "              subsample_freq=0)"
      ]
     },
     "execution_count": 76,
     "metadata": {},
     "output_type": "execute_result"
    }
   ],
   "source": [
    "%%time\n",
    "model_lgb.fit(data_features_train, data_target_train)"
   ]
  },
  {
   "cell_type": "code",
   "execution_count": 80,
   "metadata": {},
   "outputs": [
    {
     "name": "stdout",
     "output_type": "stream",
     "text": [
      "CPU times: user 2.58 s, sys: 0 ns, total: 2.58 s\n",
      "Wall time: 2.56 s\n"
     ]
    }
   ],
   "source": [
    "%%time\n",
    "predict_lgb = model_lgb.predict(data_features_test)"
   ]
  },
  {
   "cell_type": "code",
   "execution_count": 82,
   "metadata": {},
   "outputs": [
    {
     "name": "stdout",
     "output_type": "stream",
     "text": [
      "rmse = 1477.6040865794737\n"
     ]
    }
   ],
   "source": [
    "print('rmse =', mean_squared_error(data_target_test, predict_lgb)**0.5)"
   ]
  },
  {
   "cell_type": "markdown",
   "metadata": {},
   "source": [
    "Модель **LGBMRegressor** обучается за 11 секунд, делает предсказание за 2.58 секунд, а среднеквадратичная ошибка составляет 1477 евро."
   ]
  },
  {
   "cell_type": "markdown",
   "metadata": {},
   "source": [
    "#### модель CatBoost"
   ]
  },
  {
   "cell_type": "code",
   "execution_count": 41,
   "metadata": {},
   "outputs": [],
   "source": [
    "model_cat = CatBoostRegressor(iterations = 200, depth = 15, learning_rate = 0.5, random_state = 12345)"
   ]
  },
  {
   "cell_type": "code",
   "execution_count": 42,
   "metadata": {
    "scrolled": true
   },
   "outputs": [
    {
     "name": "stdout",
     "output_type": "stream",
     "text": [
      "0:\tlearn: 2966.4442979\ttotal: 4.51s\tremaining: 14m 57s\n",
      "50:\tlearn: 1309.8248158\ttotal: 3m 38s\tremaining: 10m 39s\n",
      "100:\tlearn: 1199.9876319\ttotal: 7m 32s\tremaining: 7m 23s\n",
      "150:\tlearn: 1131.5944799\ttotal: 11m 27s\tremaining: 3m 43s\n",
      "199:\tlearn: 1088.8563911\ttotal: 15m 19s\tremaining: 0us\n",
      "CPU times: user 14min 26s, sys: 56.2 s, total: 15min 23s\n",
      "Wall time: 15min 24s\n"
     ]
    },
    {
     "data": {
      "text/plain": [
       "<catboost.core.CatBoostRegressor at 0x7f5885033a90>"
      ]
     },
     "execution_count": 42,
     "metadata": {},
     "output_type": "execute_result"
    }
   ],
   "source": [
    "%%time\n",
    "model_cat.fit(data_features_train, data_target_train, cat_features=cat_features, verbose=50)"
   ]
  },
  {
   "cell_type": "code",
   "execution_count": 43,
   "metadata": {},
   "outputs": [
    {
     "name": "stdout",
     "output_type": "stream",
     "text": [
      "CPU times: user 882 ms, sys: 48.5 ms, total: 931 ms\n",
      "Wall time: 921 ms\n"
     ]
    }
   ],
   "source": [
    "%%time\n",
    "predict_cat = model_cat.predict(data_features_test)"
   ]
  },
  {
   "cell_type": "code",
   "execution_count": 44,
   "metadata": {},
   "outputs": [
    {
     "name": "stdout",
     "output_type": "stream",
     "text": [
      "rmse = 1534.2342434655181\n"
     ]
    }
   ],
   "source": [
    "print('rmse =', mean_squared_error(data_target_test, predict_cat)**0.5)"
   ]
  },
  {
   "cell_type": "markdown",
   "metadata": {},
   "source": [
    "Модель **CatBoost** обучается за 15 минут, делает предсказание за 0.882 секунд, а среднеквадратичная ошибка составляет 1534 евро."
   ]
  },
  {
   "cell_type": "markdown",
   "metadata": {},
   "source": [
    "#### модель RandomForestRegressor"
   ]
  },
  {
   "cell_type": "code",
   "execution_count": 74,
   "metadata": {},
   "outputs": [],
   "source": [
    "model_forest = RandomForestRegressor(n_jobs = -1, random_state = 12345, n_estimators = 100,max_depth = 20)"
   ]
  },
  {
   "cell_type": "code",
   "execution_count": 75,
   "metadata": {},
   "outputs": [
    {
     "name": "stdout",
     "output_type": "stream",
     "text": [
      "CPU times: user 1min 3s, sys: 532 ms, total: 1min 3s\n",
      "Wall time: 1min 5s\n"
     ]
    },
    {
     "data": {
      "text/plain": [
       "RandomForestRegressor(bootstrap=True, criterion='mse', max_depth=20,\n",
       "                      max_features='auto', max_leaf_nodes=None,\n",
       "                      min_impurity_decrease=0.0, min_impurity_split=None,\n",
       "                      min_samples_leaf=1, min_samples_split=2,\n",
       "                      min_weight_fraction_leaf=0.0, n_estimators=100, n_jobs=-1,\n",
       "                      oob_score=False, random_state=12345, verbose=0,\n",
       "                      warm_start=False)"
      ]
     },
     "execution_count": 75,
     "metadata": {},
     "output_type": "execute_result"
    }
   ],
   "source": [
    "%%time\n",
    "model_forest.fit(features_train_le, target_train_le)"
   ]
  },
  {
   "cell_type": "code",
   "execution_count": 76,
   "metadata": {},
   "outputs": [
    {
     "name": "stdout",
     "output_type": "stream",
     "text": [
      "CPU times: user 2.19 s, sys: 0 ns, total: 2.19 s\n",
      "Wall time: 2.19 s\n"
     ]
    }
   ],
   "source": [
    "%%time\n",
    "predict_forest = model_forest.predict(features_test_le)"
   ]
  },
  {
   "cell_type": "code",
   "execution_count": 77,
   "metadata": {
    "scrolled": true
   },
   "outputs": [
    {
     "name": "stdout",
     "output_type": "stream",
     "text": [
      "rmse = 1564.8396139296783\n"
     ]
    }
   ],
   "source": [
    "print('rmse =', mean_squared_error(target_test_le, predict_forest)**0.5)"
   ]
  },
  {
   "cell_type": "markdown",
   "metadata": {},
   "source": [
    "Модель **RandomForestRegressor** обучается за 8 минут, делает предсказание 2.19 секунд, а среднеквадратичная ошибка составляет 1580 евро."
   ]
  },
  {
   "cell_type": "markdown",
   "metadata": {},
   "source": [
    "# Вывод"
   ]
  },
  {
   "cell_type": "markdown",
   "metadata": {},
   "source": [
    "Лучше всего себя показала модель LGBMRegressor, которая обучается за 11 секунд: лучше, чем 1 и 10 минут у остальных. Также у этой модели среднеквадратичная ошибка меньше, чем у остальных моделей и составляет 1477 евро. На предсказание затрачивается 2.58 секунд, что является приемленым результатом."
   ]
  }
 ],
 "metadata": {
  "kernelspec": {
   "display_name": "Python 3",
   "language": "python",
   "name": "python3"
  },
  "language_info": {
   "codemirror_mode": {
    "name": "ipython",
    "version": 3
   },
   "file_extension": ".py",
   "mimetype": "text/x-python",
   "name": "python",
   "nbconvert_exporter": "python",
   "pygments_lexer": "ipython3",
   "version": "3.7.6"
  },
  "toc": {
   "base_numbering": 1,
   "nav_menu": {},
   "number_sections": true,
   "sideBar": true,
   "skip_h1_title": true,
   "title_cell": "Table of Contents",
   "title_sidebar": "Contents",
   "toc_cell": false,
   "toc_position": {},
   "toc_section_display": true,
   "toc_window_display": false
  }
 },
 "nbformat": 4,
 "nbformat_minor": 2
}

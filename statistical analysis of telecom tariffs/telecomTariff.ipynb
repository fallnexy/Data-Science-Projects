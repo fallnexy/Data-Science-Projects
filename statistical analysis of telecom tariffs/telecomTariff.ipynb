{
 "cells": [
  {
   "cell_type": "markdown",
   "metadata": {},
   "source": [
    "# Определение перспективного тарифа для телеком компании"
   ]
  },
  {
   "cell_type": "markdown",
   "metadata": {},
   "source": [
    "Необходимо сделать предварительный анализ тарифов на небольшой выборке клиентов. В распоряжении данные 500 пользователей уловной компании: кто они, откуда, каким тарифом пользуются, сколько звонков и сообщений каждый отправил за 2018 год.  \n",
    "  \n",
    "Компания всегда округляет вверх значения минут и мегабайтов. Если пользователь проговорил всего 1 секунду, в тарифе засчитывается целая минута.  \n",
    "  \n",
    "#### Задача\n",
    "Проанализировать поведение клиентов и сделать вывод — какой тариф лучше.  "
   ]
  },
  {
   "cell_type": "markdown",
   "metadata": {},
   "source": [
    "### Описание тарифов\n",
    "#### Тариф «Смарт»\n",
    "Ежемесячная плата: 550 рублей  \n",
    "Включено 500 минут разговора, 50 сообщений и 15 Гб интернет-трафика  \n",
    "Стоимость услуг сверх тарифного пакета:  \n",
    "минута разговора: 3 рубля  \n",
    "сообщение: 3 рубля  \n",
    "1 Гб интернет-трафика: 200 рублей  \n",
    "#### Тариф «Ультра»\n",
    "Ежемесячная плата: 1950 рублей  \n",
    "Включено 3000 минут разговора, 1000 сообщений и 30 Гб интернет-трафика  \n",
    "Стоимость услуг сверх тарифного пакета:  \n",
    "минута разговора: 1 рубль  \n",
    "сообщение: 1 рубль  \n",
    "1 Гб интернет-трафика: 150 рублей  "
   ]
  },
  {
   "cell_type": "markdown",
   "metadata": {},
   "source": [
    "### Описание данных  \n",
    "#### Таблица users (информация о пользователях):  \n",
    "user_id — уникальный идентификатор пользователя  \n",
    "first_name — имя пользователя  \n",
    "last_name — фамилия пользователя  \n",
    "age — возраст пользователя (годы)  \n",
    "reg_date — дата подключения тарифа (день, месяц, год)  \n",
    "churn_date — дата прекращения пользования тарифом (если значение пропущено, то тариф ещё действовал на момент выгрузки данных)   \n",
    "city — город проживания пользователя  \n",
    "tariff — название тарифного плана  \n",
    "#### Таблица calls (информация о звонках):\n",
    "id — уникальный номер звонка  \n",
    "call_date — дата звонка  \n",
    "duration — длительность звонка в минутах  \n",
    "user_id — идентификатор пользователя, сделавшего звонок  \n",
    "#### Таблица messages (информация о сообщениях):  \n",
    "id — уникальный номер сообщения  \n",
    "message_date — дата сообщения  \n",
    "user_id — идентификатор пользователя, отправившего сообщение  \n",
    "#### Таблица internet (информация об интернет-сессиях):\n",
    "id — уникальный номер сессии  \n",
    "mb_used — объём потраченного за сессию интернет-трафика (в мегабайтах)  \n",
    "session_date — дата интернет-сессии  \n",
    "user_id — идентификатор пользователя  \n",
    "#### Таблица tariffs (информация о тарифах):  \n",
    "tariff_name — название тарифа  \n",
    "rub_monthly_fee — ежемесячная абонентская плата в рублях  \n",
    "minutes_included — количество минут разговора в месяц, включённых в абонентскую плату  \n",
    "messages_included — количество сообщений в месяц, включённых в абонентскую плату  \n",
    "mb_per_month_included — объём интернет-трафика, включённого в абонентскую плату (в мегабайтах)  \n",
    "rub_per_minute — стоимость минуты разговора сверх тарифного пакета (например, если в тарифе 100 минут разговора в месяц, то со 101 минуты будет взиматься плата)  \n",
    "rub_per_message — стоимость отправки сообщения сверх тарифного пакета  \n",
    "rub_per_gb — стоимость дополнительного гигабайта интернет-трафика сверх тарифного пакета (1 гигабайт = 1024 мегабайта)  "
   ]
  },
  {
   "cell_type": "markdown",
   "metadata": {},
   "source": [
    "## Изучение общей информации"
   ]
  },
  {
   "cell_type": "code",
   "execution_count": 57,
   "metadata": {},
   "outputs": [],
   "source": [
    "import pandas as pd\n",
    "import matplotlib.pyplot as plt \n",
    "import numpy as np\n",
    "from scipy import stats as st"
   ]
  },
  {
   "cell_type": "code",
   "execution_count": 2,
   "metadata": {},
   "outputs": [
    {
     "name": "stdout",
     "output_type": "stream",
     "text": [
      "<class 'pandas.core.frame.DataFrame'>\n",
      "RangeIndex: 500 entries, 0 to 499\n",
      "Data columns (total 8 columns):\n",
      "user_id       500 non-null int64\n",
      "age           500 non-null int64\n",
      "churn_date    38 non-null object\n",
      "city          500 non-null object\n",
      "first_name    500 non-null object\n",
      "last_name     500 non-null object\n",
      "reg_date      500 non-null object\n",
      "tariff        500 non-null object\n",
      "dtypes: int64(2), object(6)\n",
      "memory usage: 31.4+ KB\n"
     ]
    },
    {
     "data": {
      "text/html": [
       "<div>\n",
       "<style scoped>\n",
       "    .dataframe tbody tr th:only-of-type {\n",
       "        vertical-align: middle;\n",
       "    }\n",
       "\n",
       "    .dataframe tbody tr th {\n",
       "        vertical-align: top;\n",
       "    }\n",
       "\n",
       "    .dataframe thead th {\n",
       "        text-align: right;\n",
       "    }\n",
       "</style>\n",
       "<table border=\"1\" class=\"dataframe\">\n",
       "  <thead>\n",
       "    <tr style=\"text-align: right;\">\n",
       "      <th></th>\n",
       "      <th>user_id</th>\n",
       "      <th>age</th>\n",
       "      <th>churn_date</th>\n",
       "      <th>city</th>\n",
       "      <th>first_name</th>\n",
       "      <th>last_name</th>\n",
       "      <th>reg_date</th>\n",
       "      <th>tariff</th>\n",
       "    </tr>\n",
       "  </thead>\n",
       "  <tbody>\n",
       "    <tr>\n",
       "      <td>0</td>\n",
       "      <td>1000</td>\n",
       "      <td>52</td>\n",
       "      <td>NaN</td>\n",
       "      <td>Краснодар</td>\n",
       "      <td>Рафаил</td>\n",
       "      <td>Верещагин</td>\n",
       "      <td>2018-05-25</td>\n",
       "      <td>ultra</td>\n",
       "    </tr>\n",
       "    <tr>\n",
       "      <td>1</td>\n",
       "      <td>1001</td>\n",
       "      <td>41</td>\n",
       "      <td>NaN</td>\n",
       "      <td>Москва</td>\n",
       "      <td>Иван</td>\n",
       "      <td>Ежов</td>\n",
       "      <td>2018-11-01</td>\n",
       "      <td>smart</td>\n",
       "    </tr>\n",
       "    <tr>\n",
       "      <td>2</td>\n",
       "      <td>1002</td>\n",
       "      <td>59</td>\n",
       "      <td>NaN</td>\n",
       "      <td>Стерлитамак</td>\n",
       "      <td>Евгений</td>\n",
       "      <td>Абрамович</td>\n",
       "      <td>2018-06-17</td>\n",
       "      <td>smart</td>\n",
       "    </tr>\n",
       "    <tr>\n",
       "      <td>3</td>\n",
       "      <td>1003</td>\n",
       "      <td>23</td>\n",
       "      <td>NaN</td>\n",
       "      <td>Москва</td>\n",
       "      <td>Белла</td>\n",
       "      <td>Белякова</td>\n",
       "      <td>2018-08-17</td>\n",
       "      <td>ultra</td>\n",
       "    </tr>\n",
       "    <tr>\n",
       "      <td>4</td>\n",
       "      <td>1004</td>\n",
       "      <td>68</td>\n",
       "      <td>NaN</td>\n",
       "      <td>Новокузнецк</td>\n",
       "      <td>Татьяна</td>\n",
       "      <td>Авдеенко</td>\n",
       "      <td>2018-05-14</td>\n",
       "      <td>ultra</td>\n",
       "    </tr>\n",
       "  </tbody>\n",
       "</table>\n",
       "</div>"
      ],
      "text/plain": [
       "   user_id  age churn_date         city first_name  last_name    reg_date  \\\n",
       "0     1000   52        NaN    Краснодар     Рафаил  Верещагин  2018-05-25   \n",
       "1     1001   41        NaN       Москва       Иван       Ежов  2018-11-01   \n",
       "2     1002   59        NaN  Стерлитамак    Евгений  Абрамович  2018-06-17   \n",
       "3     1003   23        NaN       Москва      Белла   Белякова  2018-08-17   \n",
       "4     1004   68        NaN  Новокузнецк    Татьяна   Авдеенко  2018-05-14   \n",
       "\n",
       "  tariff  \n",
       "0  ultra  \n",
       "1  smart  \n",
       "2  smart  \n",
       "3  ultra  \n",
       "4  ultra  "
      ]
     },
     "execution_count": 2,
     "metadata": {},
     "output_type": "execute_result"
    }
   ],
   "source": [
    "# открываем таблицу с информацией о пользователях\n",
    "data_users = pd.read_csv('/datasets/users.csv')\n",
    "data_users.info()\n",
    "data_users.head()"
   ]
  },
  {
   "cell_type": "code",
   "execution_count": 3,
   "metadata": {},
   "outputs": [
    {
     "name": "stdout",
     "output_type": "stream",
     "text": [
      "<class 'pandas.core.frame.DataFrame'>\n",
      "RangeIndex: 202607 entries, 0 to 202606\n",
      "Data columns (total 4 columns):\n",
      "id           202607 non-null object\n",
      "call_date    202607 non-null object\n",
      "duration     202607 non-null float64\n",
      "user_id      202607 non-null int64\n",
      "dtypes: float64(1), int64(1), object(2)\n",
      "memory usage: 6.2+ MB\n"
     ]
    },
    {
     "data": {
      "text/html": [
       "<div>\n",
       "<style scoped>\n",
       "    .dataframe tbody tr th:only-of-type {\n",
       "        vertical-align: middle;\n",
       "    }\n",
       "\n",
       "    .dataframe tbody tr th {\n",
       "        vertical-align: top;\n",
       "    }\n",
       "\n",
       "    .dataframe thead th {\n",
       "        text-align: right;\n",
       "    }\n",
       "</style>\n",
       "<table border=\"1\" class=\"dataframe\">\n",
       "  <thead>\n",
       "    <tr style=\"text-align: right;\">\n",
       "      <th></th>\n",
       "      <th>id</th>\n",
       "      <th>call_date</th>\n",
       "      <th>duration</th>\n",
       "      <th>user_id</th>\n",
       "    </tr>\n",
       "  </thead>\n",
       "  <tbody>\n",
       "    <tr>\n",
       "      <td>0</td>\n",
       "      <td>1000_0</td>\n",
       "      <td>2018-07-25</td>\n",
       "      <td>0.00</td>\n",
       "      <td>1000</td>\n",
       "    </tr>\n",
       "    <tr>\n",
       "      <td>1</td>\n",
       "      <td>1000_1</td>\n",
       "      <td>2018-08-17</td>\n",
       "      <td>0.00</td>\n",
       "      <td>1000</td>\n",
       "    </tr>\n",
       "    <tr>\n",
       "      <td>2</td>\n",
       "      <td>1000_2</td>\n",
       "      <td>2018-06-11</td>\n",
       "      <td>2.85</td>\n",
       "      <td>1000</td>\n",
       "    </tr>\n",
       "    <tr>\n",
       "      <td>3</td>\n",
       "      <td>1000_3</td>\n",
       "      <td>2018-09-21</td>\n",
       "      <td>13.80</td>\n",
       "      <td>1000</td>\n",
       "    </tr>\n",
       "    <tr>\n",
       "      <td>4</td>\n",
       "      <td>1000_4</td>\n",
       "      <td>2018-12-15</td>\n",
       "      <td>5.18</td>\n",
       "      <td>1000</td>\n",
       "    </tr>\n",
       "  </tbody>\n",
       "</table>\n",
       "</div>"
      ],
      "text/plain": [
       "       id   call_date  duration  user_id\n",
       "0  1000_0  2018-07-25      0.00     1000\n",
       "1  1000_1  2018-08-17      0.00     1000\n",
       "2  1000_2  2018-06-11      2.85     1000\n",
       "3  1000_3  2018-09-21     13.80     1000\n",
       "4  1000_4  2018-12-15      5.18     1000"
      ]
     },
     "execution_count": 3,
     "metadata": {},
     "output_type": "execute_result"
    }
   ],
   "source": [
    "# открываем таблицу с информацией о звонках\n",
    "data_calls = pd.read_csv('/datasets/calls.csv')\n",
    "data_calls.info()\n",
    "data_calls.head()"
   ]
  },
  {
   "cell_type": "code",
   "execution_count": 4,
   "metadata": {},
   "outputs": [
    {
     "name": "stdout",
     "output_type": "stream",
     "text": [
      "<class 'pandas.core.frame.DataFrame'>\n",
      "RangeIndex: 149396 entries, 0 to 149395\n",
      "Data columns (total 5 columns):\n",
      "Unnamed: 0      149396 non-null int64\n",
      "id              149396 non-null object\n",
      "mb_used         149396 non-null float64\n",
      "session_date    149396 non-null object\n",
      "user_id         149396 non-null int64\n",
      "dtypes: float64(1), int64(2), object(2)\n",
      "memory usage: 5.7+ MB\n"
     ]
    },
    {
     "data": {
      "text/html": [
       "<div>\n",
       "<style scoped>\n",
       "    .dataframe tbody tr th:only-of-type {\n",
       "        vertical-align: middle;\n",
       "    }\n",
       "\n",
       "    .dataframe tbody tr th {\n",
       "        vertical-align: top;\n",
       "    }\n",
       "\n",
       "    .dataframe thead th {\n",
       "        text-align: right;\n",
       "    }\n",
       "</style>\n",
       "<table border=\"1\" class=\"dataframe\">\n",
       "  <thead>\n",
       "    <tr style=\"text-align: right;\">\n",
       "      <th></th>\n",
       "      <th>Unnamed: 0</th>\n",
       "      <th>id</th>\n",
       "      <th>mb_used</th>\n",
       "      <th>session_date</th>\n",
       "      <th>user_id</th>\n",
       "    </tr>\n",
       "  </thead>\n",
       "  <tbody>\n",
       "    <tr>\n",
       "      <td>0</td>\n",
       "      <td>0</td>\n",
       "      <td>1000_0</td>\n",
       "      <td>112.95</td>\n",
       "      <td>2018-11-25</td>\n",
       "      <td>1000</td>\n",
       "    </tr>\n",
       "    <tr>\n",
       "      <td>1</td>\n",
       "      <td>1</td>\n",
       "      <td>1000_1</td>\n",
       "      <td>1052.81</td>\n",
       "      <td>2018-09-07</td>\n",
       "      <td>1000</td>\n",
       "    </tr>\n",
       "    <tr>\n",
       "      <td>2</td>\n",
       "      <td>2</td>\n",
       "      <td>1000_2</td>\n",
       "      <td>1197.26</td>\n",
       "      <td>2018-06-25</td>\n",
       "      <td>1000</td>\n",
       "    </tr>\n",
       "    <tr>\n",
       "      <td>3</td>\n",
       "      <td>3</td>\n",
       "      <td>1000_3</td>\n",
       "      <td>550.27</td>\n",
       "      <td>2018-08-22</td>\n",
       "      <td>1000</td>\n",
       "    </tr>\n",
       "    <tr>\n",
       "      <td>4</td>\n",
       "      <td>4</td>\n",
       "      <td>1000_4</td>\n",
       "      <td>302.56</td>\n",
       "      <td>2018-09-24</td>\n",
       "      <td>1000</td>\n",
       "    </tr>\n",
       "  </tbody>\n",
       "</table>\n",
       "</div>"
      ],
      "text/plain": [
       "   Unnamed: 0      id  mb_used session_date  user_id\n",
       "0           0  1000_0   112.95   2018-11-25     1000\n",
       "1           1  1000_1  1052.81   2018-09-07     1000\n",
       "2           2  1000_2  1197.26   2018-06-25     1000\n",
       "3           3  1000_3   550.27   2018-08-22     1000\n",
       "4           4  1000_4   302.56   2018-09-24     1000"
      ]
     },
     "execution_count": 4,
     "metadata": {},
     "output_type": "execute_result"
    }
   ],
   "source": [
    "# открываем таблицу с информацией об интернет-сессиях\n",
    "data_internet = pd.read_csv('/datasets/internet.csv')\n",
    "data_internet.info()\n",
    "data_internet.head()"
   ]
  },
  {
   "cell_type": "code",
   "execution_count": 5,
   "metadata": {},
   "outputs": [
    {
     "name": "stdout",
     "output_type": "stream",
     "text": [
      "<class 'pandas.core.frame.DataFrame'>\n",
      "RangeIndex: 123036 entries, 0 to 123035\n",
      "Data columns (total 3 columns):\n",
      "id              123036 non-null object\n",
      "message_date    123036 non-null object\n",
      "user_id         123036 non-null int64\n",
      "dtypes: int64(1), object(2)\n",
      "memory usage: 2.8+ MB\n"
     ]
    },
    {
     "data": {
      "text/html": [
       "<div>\n",
       "<style scoped>\n",
       "    .dataframe tbody tr th:only-of-type {\n",
       "        vertical-align: middle;\n",
       "    }\n",
       "\n",
       "    .dataframe tbody tr th {\n",
       "        vertical-align: top;\n",
       "    }\n",
       "\n",
       "    .dataframe thead th {\n",
       "        text-align: right;\n",
       "    }\n",
       "</style>\n",
       "<table border=\"1\" class=\"dataframe\">\n",
       "  <thead>\n",
       "    <tr style=\"text-align: right;\">\n",
       "      <th></th>\n",
       "      <th>id</th>\n",
       "      <th>message_date</th>\n",
       "      <th>user_id</th>\n",
       "    </tr>\n",
       "  </thead>\n",
       "  <tbody>\n",
       "    <tr>\n",
       "      <td>0</td>\n",
       "      <td>1000_0</td>\n",
       "      <td>2018-06-27</td>\n",
       "      <td>1000</td>\n",
       "    </tr>\n",
       "    <tr>\n",
       "      <td>1</td>\n",
       "      <td>1000_1</td>\n",
       "      <td>2018-10-08</td>\n",
       "      <td>1000</td>\n",
       "    </tr>\n",
       "    <tr>\n",
       "      <td>2</td>\n",
       "      <td>1000_2</td>\n",
       "      <td>2018-08-04</td>\n",
       "      <td>1000</td>\n",
       "    </tr>\n",
       "    <tr>\n",
       "      <td>3</td>\n",
       "      <td>1000_3</td>\n",
       "      <td>2018-06-16</td>\n",
       "      <td>1000</td>\n",
       "    </tr>\n",
       "    <tr>\n",
       "      <td>4</td>\n",
       "      <td>1000_4</td>\n",
       "      <td>2018-12-05</td>\n",
       "      <td>1000</td>\n",
       "    </tr>\n",
       "  </tbody>\n",
       "</table>\n",
       "</div>"
      ],
      "text/plain": [
       "       id message_date  user_id\n",
       "0  1000_0   2018-06-27     1000\n",
       "1  1000_1   2018-10-08     1000\n",
       "2  1000_2   2018-08-04     1000\n",
       "3  1000_3   2018-06-16     1000\n",
       "4  1000_4   2018-12-05     1000"
      ]
     },
     "execution_count": 5,
     "metadata": {},
     "output_type": "execute_result"
    }
   ],
   "source": [
    "# открываем таблицу с информацией о сообщениях\n",
    "data_messages = pd.read_csv('/datasets/messages.csv')\n",
    "data_messages.info()\n",
    "data_messages.head()"
   ]
  },
  {
   "cell_type": "code",
   "execution_count": 6,
   "metadata": {},
   "outputs": [
    {
     "name": "stdout",
     "output_type": "stream",
     "text": [
      "<class 'pandas.core.frame.DataFrame'>\n",
      "RangeIndex: 2 entries, 0 to 1\n",
      "Data columns (total 8 columns):\n",
      "messages_included        2 non-null int64\n",
      "mb_per_month_included    2 non-null int64\n",
      "minutes_included         2 non-null int64\n",
      "rub_monthly_fee          2 non-null int64\n",
      "rub_per_gb               2 non-null int64\n",
      "rub_per_message          2 non-null int64\n",
      "rub_per_minute           2 non-null int64\n",
      "tariff_name              2 non-null object\n",
      "dtypes: int64(7), object(1)\n",
      "memory usage: 256.0+ bytes\n"
     ]
    },
    {
     "data": {
      "text/html": [
       "<div>\n",
       "<style scoped>\n",
       "    .dataframe tbody tr th:only-of-type {\n",
       "        vertical-align: middle;\n",
       "    }\n",
       "\n",
       "    .dataframe tbody tr th {\n",
       "        vertical-align: top;\n",
       "    }\n",
       "\n",
       "    .dataframe thead th {\n",
       "        text-align: right;\n",
       "    }\n",
       "</style>\n",
       "<table border=\"1\" class=\"dataframe\">\n",
       "  <thead>\n",
       "    <tr style=\"text-align: right;\">\n",
       "      <th></th>\n",
       "      <th>messages_included</th>\n",
       "      <th>mb_per_month_included</th>\n",
       "      <th>minutes_included</th>\n",
       "      <th>rub_monthly_fee</th>\n",
       "      <th>rub_per_gb</th>\n",
       "      <th>rub_per_message</th>\n",
       "      <th>rub_per_minute</th>\n",
       "      <th>tariff_name</th>\n",
       "    </tr>\n",
       "  </thead>\n",
       "  <tbody>\n",
       "    <tr>\n",
       "      <td>0</td>\n",
       "      <td>50</td>\n",
       "      <td>15360</td>\n",
       "      <td>500</td>\n",
       "      <td>550</td>\n",
       "      <td>200</td>\n",
       "      <td>3</td>\n",
       "      <td>3</td>\n",
       "      <td>smart</td>\n",
       "    </tr>\n",
       "    <tr>\n",
       "      <td>1</td>\n",
       "      <td>1000</td>\n",
       "      <td>30720</td>\n",
       "      <td>3000</td>\n",
       "      <td>1950</td>\n",
       "      <td>150</td>\n",
       "      <td>1</td>\n",
       "      <td>1</td>\n",
       "      <td>ultra</td>\n",
       "    </tr>\n",
       "  </tbody>\n",
       "</table>\n",
       "</div>"
      ],
      "text/plain": [
       "   messages_included  mb_per_month_included  minutes_included  \\\n",
       "0                 50                  15360               500   \n",
       "1               1000                  30720              3000   \n",
       "\n",
       "   rub_monthly_fee  rub_per_gb  rub_per_message  rub_per_minute tariff_name  \n",
       "0              550         200                3               3       smart  \n",
       "1             1950         150                1               1       ultra  "
      ]
     },
     "execution_count": 6,
     "metadata": {},
     "output_type": "execute_result"
    }
   ],
   "source": [
    "# открываем таблицу с информацией о тарифах\n",
    "data_tariffs = pd.read_csv('/datasets/tariffs.csv')\n",
    "data_tariffs.info()\n",
    "data_tariffs.head()"
   ]
  },
  {
   "cell_type": "markdown",
   "metadata": {},
   "source": [
    "### Вывод"
   ]
  },
  {
   "cell_type": "markdown",
   "metadata": {},
   "source": [
    "Пропуски есть только в столбце **churn_date** таблицы **data_users**, надо заполнить.  \n",
    "Если несколько столбоц с типом **float**, который надо заменить на **int**, а также столбцы с датами перевести в формат для дат."
   ]
  },
  {
   "cell_type": "markdown",
   "metadata": {},
   "source": [
    "## Подготовка данных"
   ]
  },
  {
   "cell_type": "markdown",
   "metadata": {},
   "source": [
    "#### Таблица data_users"
   ]
  },
  {
   "cell_type": "code",
   "execution_count": 7,
   "metadata": {},
   "outputs": [],
   "source": [
    "# меняем формат на формат даты\n",
    "data_users['churn_date'] = pd.to_datetime(data_users['churn_date'], format='%Y-%m-%d')\n",
    "data_users['reg_date'] = pd.to_datetime(data_users['reg_date'], format='%Y-%m-%d')\n",
    "# добавляем столбец с месяцем отклюения от тарифа и заполняем пропущенные значения нулями\n",
    "data_users['churn_month'] = pd.DatetimeIndex(data_users['churn_date']).month\n",
    "data_users['churn_month'] = data_users['churn_month'].fillna(0).astype(int)"
   ]
  },
  {
   "cell_type": "code",
   "execution_count": 8,
   "metadata": {},
   "outputs": [
    {
     "data": {
      "text/html": [
       "<div>\n",
       "<style scoped>\n",
       "    .dataframe tbody tr th:only-of-type {\n",
       "        vertical-align: middle;\n",
       "    }\n",
       "\n",
       "    .dataframe tbody tr th {\n",
       "        vertical-align: top;\n",
       "    }\n",
       "\n",
       "    .dataframe thead th {\n",
       "        text-align: right;\n",
       "    }\n",
       "</style>\n",
       "<table border=\"1\" class=\"dataframe\">\n",
       "  <thead>\n",
       "    <tr style=\"text-align: right;\">\n",
       "      <th></th>\n",
       "      <th>user_id</th>\n",
       "      <th>age</th>\n",
       "      <th>churn_date</th>\n",
       "      <th>city</th>\n",
       "      <th>first_name</th>\n",
       "      <th>last_name</th>\n",
       "      <th>reg_date</th>\n",
       "      <th>tariff</th>\n",
       "      <th>churn_month</th>\n",
       "    </tr>\n",
       "  </thead>\n",
       "  <tbody>\n",
       "    <tr>\n",
       "      <td>0</td>\n",
       "      <td>1000</td>\n",
       "      <td>52</td>\n",
       "      <td>NaT</td>\n",
       "      <td>Краснодар</td>\n",
       "      <td>Рафаил</td>\n",
       "      <td>Верещагин</td>\n",
       "      <td>2018-05-25</td>\n",
       "      <td>ultra</td>\n",
       "      <td>0</td>\n",
       "    </tr>\n",
       "    <tr>\n",
       "      <td>1</td>\n",
       "      <td>1001</td>\n",
       "      <td>41</td>\n",
       "      <td>NaT</td>\n",
       "      <td>Москва</td>\n",
       "      <td>Иван</td>\n",
       "      <td>Ежов</td>\n",
       "      <td>2018-11-01</td>\n",
       "      <td>smart</td>\n",
       "      <td>0</td>\n",
       "    </tr>\n",
       "    <tr>\n",
       "      <td>2</td>\n",
       "      <td>1002</td>\n",
       "      <td>59</td>\n",
       "      <td>NaT</td>\n",
       "      <td>Стерлитамак</td>\n",
       "      <td>Евгений</td>\n",
       "      <td>Абрамович</td>\n",
       "      <td>2018-06-17</td>\n",
       "      <td>smart</td>\n",
       "      <td>0</td>\n",
       "    </tr>\n",
       "    <tr>\n",
       "      <td>3</td>\n",
       "      <td>1003</td>\n",
       "      <td>23</td>\n",
       "      <td>NaT</td>\n",
       "      <td>Москва</td>\n",
       "      <td>Белла</td>\n",
       "      <td>Белякова</td>\n",
       "      <td>2018-08-17</td>\n",
       "      <td>ultra</td>\n",
       "      <td>0</td>\n",
       "    </tr>\n",
       "    <tr>\n",
       "      <td>4</td>\n",
       "      <td>1004</td>\n",
       "      <td>68</td>\n",
       "      <td>NaT</td>\n",
       "      <td>Новокузнецк</td>\n",
       "      <td>Татьяна</td>\n",
       "      <td>Авдеенко</td>\n",
       "      <td>2018-05-14</td>\n",
       "      <td>ultra</td>\n",
       "      <td>0</td>\n",
       "    </tr>\n",
       "  </tbody>\n",
       "</table>\n",
       "</div>"
      ],
      "text/plain": [
       "   user_id  age churn_date         city first_name  last_name   reg_date  \\\n",
       "0     1000   52        NaT    Краснодар     Рафаил  Верещагин 2018-05-25   \n",
       "1     1001   41        NaT       Москва       Иван       Ежов 2018-11-01   \n",
       "2     1002   59        NaT  Стерлитамак    Евгений  Абрамович 2018-06-17   \n",
       "3     1003   23        NaT       Москва      Белла   Белякова 2018-08-17   \n",
       "4     1004   68        NaT  Новокузнецк    Татьяна   Авдеенко 2018-05-14   \n",
       "\n",
       "  tariff  churn_month  \n",
       "0  ultra            0  \n",
       "1  smart            0  \n",
       "2  smart            0  \n",
       "3  ultra            0  \n",
       "4  ultra            0  "
      ]
     },
     "execution_count": 8,
     "metadata": {},
     "output_type": "execute_result"
    }
   ],
   "source": [
    "data_users.head()"
   ]
  },
  {
   "cell_type": "markdown",
   "metadata": {},
   "source": [
    "#### Таблица data_calls"
   ]
  },
  {
   "cell_type": "code",
   "execution_count": 9,
   "metadata": {},
   "outputs": [],
   "source": [
    "# меняем на формат даты\n",
    "data_calls['call_date'] = pd.to_datetime(data_calls['call_date'], format='%Y-%m-%d')\n",
    "# меняем в столбце id значения на index\n",
    "data_calls['id'] = data_calls.index\n",
    "# округляем до целого в большую сторону и меняем тип на int\n",
    "data_calls['duration'] = np.ceil(data_calls['duration']).astype(int)\n",
    "# добавляем столбец с месяцем\n",
    "data_calls['month'] = pd.DatetimeIndex(data_calls['call_date']).month"
   ]
  },
  {
   "cell_type": "code",
   "execution_count": 10,
   "metadata": {},
   "outputs": [
    {
     "data": {
      "text/plain": [
       "id           39613\n",
       "call_date    39613\n",
       "duration     39613\n",
       "user_id      39613\n",
       "month        39613\n",
       "dtype: int64"
      ]
     },
     "execution_count": 10,
     "metadata": {},
     "output_type": "execute_result"
    }
   ],
   "source": [
    "data_calls[data_calls['duration'] == 0].count()"
   ]
  },
  {
   "cell_type": "markdown",
   "metadata": {},
   "source": [
    "Почти у 40 тысяч звонков продолжительность равно 0, при этом общее число звонков - 202 тысячи. Так как компания берет плату за любые звонки, длительность которых составляет хотя бы одну секунду, и это было учтено округлением в большую сторону, то за звонки с нулевой длительностью плата не взималась.  \n",
    "Что это за такие звонки с нулевой длительностью, сказать сложно. Возможно это действительно звонки, которые длились меньше секунды, или это сброшенные звонки, или неотвеченные - вероятно, такие звонки компания тоже фиксирует.  \n",
    "Таким образом, если звонки нулевой длительности не оплачиваются, то их следует исключить из рассмотрения."
   ]
  },
  {
   "cell_type": "code",
   "execution_count": 11,
   "metadata": {},
   "outputs": [],
   "source": [
    "# исключение звонков с нулевой длительностью\n",
    "data_calls = data_calls.query('duration != 0')"
   ]
  },
  {
   "cell_type": "markdown",
   "metadata": {},
   "source": [
    "#### Таблица data_internet"
   ]
  },
  {
   "cell_type": "code",
   "execution_count": 12,
   "metadata": {},
   "outputs": [],
   "source": [
    "# меняем в столбце id значения на index\n",
    "data_internet['id'] = data_internet.index\n",
    "# округляем до целого в большую сторону и меняем тип на int\n",
    "data_internet['mb_used'] = np.ceil(data_internet['mb_used']).astype(int)\n",
    "# меняем на формат даты\n",
    "data_internet['session_date'] = pd.to_datetime(data_internet['session_date'], format='%Y-%m-%d')\n",
    "# добавляем столбец с месяцем\n",
    "data_internet['month'] = pd.DatetimeIndex(data_internet['session_date']).month"
   ]
  },
  {
   "cell_type": "code",
   "execution_count": 13,
   "metadata": {},
   "outputs": [
    {
     "data": {
      "text/plain": [
       "Unnamed: 0      19598\n",
       "id              19598\n",
       "mb_used         19598\n",
       "session_date    19598\n",
       "user_id         19598\n",
       "month           19598\n",
       "dtype: int64"
      ]
     },
     "execution_count": 13,
     "metadata": {},
     "output_type": "execute_result"
    }
   ],
   "source": [
    "data_internet[data_internet['mb_used'] == 0].count()"
   ]
  },
  {
   "cell_type": "markdown",
   "metadata": {},
   "source": [
    "Почти 20 тысяч сессий с нулем мегабайт - ситуация схожа с нулевыми звонками: пустые значения тоже убираем из рассмотрения"
   ]
  },
  {
   "cell_type": "code",
   "execution_count": 14,
   "metadata": {},
   "outputs": [],
   "source": [
    "data_internet = data_internet.query('mb_used != 0')"
   ]
  },
  {
   "cell_type": "markdown",
   "metadata": {},
   "source": [
    "#### Таблица data_messages"
   ]
  },
  {
   "cell_type": "code",
   "execution_count": 15,
   "metadata": {},
   "outputs": [],
   "source": [
    "# меняем в столбце id значения на index\n",
    "data_messages['id'] = data_messages.index\n",
    "# меняем на формат даты\n",
    "data_messages['message_date'] = pd.to_datetime(data_messages['message_date'], format='%Y-%m-%d')\n",
    "# добавляем столбец с месяцем\n",
    "data_messages['month'] = pd.DatetimeIndex(data_messages['message_date']).month"
   ]
  },
  {
   "cell_type": "markdown",
   "metadata": {},
   "source": [
    "#### Таблица data_per_month"
   ]
  },
  {
   "cell_type": "markdown",
   "metadata": {},
   "source": [
    "Создаем таблицу, в которой будут хранится данные пользователей за каждый месяц"
   ]
  },
  {
   "cell_type": "code",
   "execution_count": 16,
   "metadata": {},
   "outputs": [],
   "source": [
    "data_per_month = data_calls.pivot_table(index = ('user_id', 'month'), values = 'call_date', aggfunc = 'count')\n",
    "data_per_month['duration_sum'] = data_calls.pivot_table(index = ('user_id', 'month'), values = 'duration', aggfunc = 'sum')\n",
    "data_per_month['messages_sum'] = data_messages.pivot_table(index = ('user_id', 'month'), values = 'message_date', aggfunc = 'count')\n",
    "# заодно, мегабайты переводим в гигобайты\n",
    "data_per_month['gb_used_sum'] = data_internet.pivot_table(index = ('user_id', 'month'), values = 'mb_used', aggfunc = 'sum') / 1024"
   ]
  },
  {
   "cell_type": "code",
   "execution_count": 17,
   "metadata": {
    "scrolled": true
   },
   "outputs": [],
   "source": [
    "# переименовываем столбец call_date в call_count\n",
    "data_per_month.rename(columns={'call_date': 'call_count'}, inplace=True)"
   ]
  },
  {
   "cell_type": "code",
   "execution_count": 18,
   "metadata": {
    "scrolled": true
   },
   "outputs": [
    {
     "data": {
      "text/html": [
       "<div>\n",
       "<style scoped>\n",
       "    .dataframe tbody tr th:only-of-type {\n",
       "        vertical-align: middle;\n",
       "    }\n",
       "\n",
       "    .dataframe tbody tr th {\n",
       "        vertical-align: top;\n",
       "    }\n",
       "\n",
       "    .dataframe thead th {\n",
       "        text-align: right;\n",
       "    }\n",
       "</style>\n",
       "<table border=\"1\" class=\"dataframe\">\n",
       "  <thead>\n",
       "    <tr style=\"text-align: right;\">\n",
       "      <th></th>\n",
       "      <th>user_id</th>\n",
       "      <th>month</th>\n",
       "      <th>call_count</th>\n",
       "      <th>duration_sum</th>\n",
       "      <th>messages_sum</th>\n",
       "      <th>gb_used_sum</th>\n",
       "      <th>tariff</th>\n",
       "    </tr>\n",
       "  </thead>\n",
       "  <tbody>\n",
       "    <tr>\n",
       "      <td>0</td>\n",
       "      <td>1000</td>\n",
       "      <td>5</td>\n",
       "      <td>17</td>\n",
       "      <td>159</td>\n",
       "      <td>22.0</td>\n",
       "      <td>2.203125</td>\n",
       "      <td>ultra</td>\n",
       "    </tr>\n",
       "    <tr>\n",
       "      <td>1</td>\n",
       "      <td>1000</td>\n",
       "      <td>6</td>\n",
       "      <td>28</td>\n",
       "      <td>172</td>\n",
       "      <td>60.0</td>\n",
       "      <td>22.711914</td>\n",
       "      <td>ultra</td>\n",
       "    </tr>\n",
       "    <tr>\n",
       "      <td>2</td>\n",
       "      <td>1000</td>\n",
       "      <td>7</td>\n",
       "      <td>41</td>\n",
       "      <td>340</td>\n",
       "      <td>75.0</td>\n",
       "      <td>13.687500</td>\n",
       "      <td>ultra</td>\n",
       "    </tr>\n",
       "    <tr>\n",
       "      <td>3</td>\n",
       "      <td>1000</td>\n",
       "      <td>8</td>\n",
       "      <td>42</td>\n",
       "      <td>408</td>\n",
       "      <td>81.0</td>\n",
       "      <td>13.740234</td>\n",
       "      <td>ultra</td>\n",
       "    </tr>\n",
       "    <tr>\n",
       "      <td>4</td>\n",
       "      <td>1000</td>\n",
       "      <td>9</td>\n",
       "      <td>46</td>\n",
       "      <td>466</td>\n",
       "      <td>57.0</td>\n",
       "      <td>14.239258</td>\n",
       "      <td>ultra</td>\n",
       "    </tr>\n",
       "    <tr>\n",
       "      <td>5</td>\n",
       "      <td>1000</td>\n",
       "      <td>10</td>\n",
       "      <td>44</td>\n",
       "      <td>350</td>\n",
       "      <td>73.0</td>\n",
       "      <td>14.372070</td>\n",
       "      <td>ultra</td>\n",
       "    </tr>\n",
       "    <tr>\n",
       "      <td>6</td>\n",
       "      <td>1000</td>\n",
       "      <td>11</td>\n",
       "      <td>37</td>\n",
       "      <td>338</td>\n",
       "      <td>58.0</td>\n",
       "      <td>14.421875</td>\n",
       "      <td>ultra</td>\n",
       "    </tr>\n",
       "    <tr>\n",
       "      <td>7</td>\n",
       "      <td>1000</td>\n",
       "      <td>12</td>\n",
       "      <td>38</td>\n",
       "      <td>333</td>\n",
       "      <td>70.0</td>\n",
       "      <td>9.596680</td>\n",
       "      <td>ultra</td>\n",
       "    </tr>\n",
       "    <tr>\n",
       "      <td>8</td>\n",
       "      <td>1001</td>\n",
       "      <td>11</td>\n",
       "      <td>45</td>\n",
       "      <td>430</td>\n",
       "      <td>NaN</td>\n",
       "      <td>18.019531</td>\n",
       "      <td>smart</td>\n",
       "    </tr>\n",
       "    <tr>\n",
       "      <td>9</td>\n",
       "      <td>1001</td>\n",
       "      <td>12</td>\n",
       "      <td>47</td>\n",
       "      <td>414</td>\n",
       "      <td>NaN</td>\n",
       "      <td>13.723633</td>\n",
       "      <td>smart</td>\n",
       "    </tr>\n",
       "    <tr>\n",
       "      <td>10</td>\n",
       "      <td>1002</td>\n",
       "      <td>6</td>\n",
       "      <td>14</td>\n",
       "      <td>117</td>\n",
       "      <td>4.0</td>\n",
       "      <td>10.616211</td>\n",
       "      <td>smart</td>\n",
       "    </tr>\n",
       "    <tr>\n",
       "      <td>11</td>\n",
       "      <td>1002</td>\n",
       "      <td>7</td>\n",
       "      <td>21</td>\n",
       "      <td>214</td>\n",
       "      <td>11.0</td>\n",
       "      <td>17.188477</td>\n",
       "      <td>smart</td>\n",
       "    </tr>\n",
       "    <tr>\n",
       "      <td>12</td>\n",
       "      <td>1002</td>\n",
       "      <td>8</td>\n",
       "      <td>37</td>\n",
       "      <td>289</td>\n",
       "      <td>13.0</td>\n",
       "      <td>19.870117</td>\n",
       "      <td>smart</td>\n",
       "    </tr>\n",
       "    <tr>\n",
       "      <td>13</td>\n",
       "      <td>1002</td>\n",
       "      <td>9</td>\n",
       "      <td>25</td>\n",
       "      <td>206</td>\n",
       "      <td>4.0</td>\n",
       "      <td>16.320312</td>\n",
       "      <td>smart</td>\n",
       "    </tr>\n",
       "    <tr>\n",
       "      <td>14</td>\n",
       "      <td>1002</td>\n",
       "      <td>10</td>\n",
       "      <td>24</td>\n",
       "      <td>212</td>\n",
       "      <td>10.0</td>\n",
       "      <td>13.579102</td>\n",
       "      <td>smart</td>\n",
       "    </tr>\n",
       "  </tbody>\n",
       "</table>\n",
       "</div>"
      ],
      "text/plain": [
       "    user_id  month  call_count  duration_sum  messages_sum  gb_used_sum tariff\n",
       "0      1000      5          17           159          22.0     2.203125  ultra\n",
       "1      1000      6          28           172          60.0    22.711914  ultra\n",
       "2      1000      7          41           340          75.0    13.687500  ultra\n",
       "3      1000      8          42           408          81.0    13.740234  ultra\n",
       "4      1000      9          46           466          57.0    14.239258  ultra\n",
       "5      1000     10          44           350          73.0    14.372070  ultra\n",
       "6      1000     11          37           338          58.0    14.421875  ultra\n",
       "7      1000     12          38           333          70.0     9.596680  ultra\n",
       "8      1001     11          45           430           NaN    18.019531  smart\n",
       "9      1001     12          47           414           NaN    13.723633  smart\n",
       "10     1002      6          14           117           4.0    10.616211  smart\n",
       "11     1002      7          21           214          11.0    17.188477  smart\n",
       "12     1002      8          37           289          13.0    19.870117  smart\n",
       "13     1002      9          25           206           4.0    16.320312  smart\n",
       "14     1002     10          24           212          10.0    13.579102  smart"
      ]
     },
     "execution_count": 18,
     "metadata": {},
     "output_type": "execute_result"
    }
   ],
   "source": [
    "# добавляем столбец tariff\n",
    "data_per_month.reset_index(inplace=True)\n",
    "data_per_month = data_per_month.merge(data_users[['user_id','tariff']], on='user_id')\n",
    "data_per_month.head(15)"
   ]
  },
  {
   "cell_type": "code",
   "execution_count": 19,
   "metadata": {},
   "outputs": [
    {
     "name": "stdout",
     "output_type": "stream",
     "text": [
      "<class 'pandas.core.frame.DataFrame'>\n",
      "Int64Index: 3168 entries, 0 to 3167\n",
      "Data columns (total 7 columns):\n",
      "user_id         3168 non-null int64\n",
      "month           3168 non-null int64\n",
      "call_count      3168 non-null int64\n",
      "duration_sum    3168 non-null int64\n",
      "messages_sum    3168 non-null int64\n",
      "gb_used_sum     3168 non-null int64\n",
      "tariff          3168 non-null object\n",
      "dtypes: int64(6), object(1)\n",
      "memory usage: 198.0+ KB\n"
     ]
    }
   ],
   "source": [
    "# заполняем пропуски нулями и приводим у типу int, а также gb_used_sum округляем в большую сторону\n",
    "data_per_month['messages_sum'] = data_per_month['messages_sum'].fillna(0)\n",
    "data_per_month['messages_sum'] = data_per_month['messages_sum'].astype(int)\n",
    "data_per_month['gb_used_sum'] = data_per_month['gb_used_sum'].fillna(0)\n",
    "data_per_month['gb_used_sum'] = np.ceil(data_per_month['gb_used_sum']).astype(int)\n",
    "data_per_month.info()"
   ]
  },
  {
   "cell_type": "code",
   "execution_count": 20,
   "metadata": {
    "scrolled": true
   },
   "outputs": [
    {
     "data": {
      "text/html": [
       "<div>\n",
       "<style scoped>\n",
       "    .dataframe tbody tr th:only-of-type {\n",
       "        vertical-align: middle;\n",
       "    }\n",
       "\n",
       "    .dataframe tbody tr th {\n",
       "        vertical-align: top;\n",
       "    }\n",
       "\n",
       "    .dataframe thead th {\n",
       "        text-align: right;\n",
       "    }\n",
       "</style>\n",
       "<table border=\"1\" class=\"dataframe\">\n",
       "  <thead>\n",
       "    <tr style=\"text-align: right;\">\n",
       "      <th></th>\n",
       "      <th>user_id</th>\n",
       "      <th>month</th>\n",
       "      <th>call_count</th>\n",
       "      <th>duration_sum</th>\n",
       "      <th>messages_sum</th>\n",
       "      <th>gb_used_sum</th>\n",
       "      <th>tariff</th>\n",
       "    </tr>\n",
       "  </thead>\n",
       "  <tbody>\n",
       "    <tr>\n",
       "      <td>0</td>\n",
       "      <td>1000</td>\n",
       "      <td>5</td>\n",
       "      <td>17</td>\n",
       "      <td>159</td>\n",
       "      <td>22</td>\n",
       "      <td>3</td>\n",
       "      <td>ultra</td>\n",
       "    </tr>\n",
       "    <tr>\n",
       "      <td>1</td>\n",
       "      <td>1000</td>\n",
       "      <td>6</td>\n",
       "      <td>28</td>\n",
       "      <td>172</td>\n",
       "      <td>60</td>\n",
       "      <td>23</td>\n",
       "      <td>ultra</td>\n",
       "    </tr>\n",
       "    <tr>\n",
       "      <td>2</td>\n",
       "      <td>1000</td>\n",
       "      <td>7</td>\n",
       "      <td>41</td>\n",
       "      <td>340</td>\n",
       "      <td>75</td>\n",
       "      <td>14</td>\n",
       "      <td>ultra</td>\n",
       "    </tr>\n",
       "    <tr>\n",
       "      <td>3</td>\n",
       "      <td>1000</td>\n",
       "      <td>8</td>\n",
       "      <td>42</td>\n",
       "      <td>408</td>\n",
       "      <td>81</td>\n",
       "      <td>14</td>\n",
       "      <td>ultra</td>\n",
       "    </tr>\n",
       "    <tr>\n",
       "      <td>4</td>\n",
       "      <td>1000</td>\n",
       "      <td>9</td>\n",
       "      <td>46</td>\n",
       "      <td>466</td>\n",
       "      <td>57</td>\n",
       "      <td>15</td>\n",
       "      <td>ultra</td>\n",
       "    </tr>\n",
       "    <tr>\n",
       "      <td>5</td>\n",
       "      <td>1000</td>\n",
       "      <td>10</td>\n",
       "      <td>44</td>\n",
       "      <td>350</td>\n",
       "      <td>73</td>\n",
       "      <td>15</td>\n",
       "      <td>ultra</td>\n",
       "    </tr>\n",
       "    <tr>\n",
       "      <td>6</td>\n",
       "      <td>1000</td>\n",
       "      <td>11</td>\n",
       "      <td>37</td>\n",
       "      <td>338</td>\n",
       "      <td>58</td>\n",
       "      <td>15</td>\n",
       "      <td>ultra</td>\n",
       "    </tr>\n",
       "    <tr>\n",
       "      <td>7</td>\n",
       "      <td>1000</td>\n",
       "      <td>12</td>\n",
       "      <td>38</td>\n",
       "      <td>333</td>\n",
       "      <td>70</td>\n",
       "      <td>10</td>\n",
       "      <td>ultra</td>\n",
       "    </tr>\n",
       "    <tr>\n",
       "      <td>8</td>\n",
       "      <td>1001</td>\n",
       "      <td>11</td>\n",
       "      <td>45</td>\n",
       "      <td>430</td>\n",
       "      <td>0</td>\n",
       "      <td>19</td>\n",
       "      <td>smart</td>\n",
       "    </tr>\n",
       "    <tr>\n",
       "      <td>9</td>\n",
       "      <td>1001</td>\n",
       "      <td>12</td>\n",
       "      <td>47</td>\n",
       "      <td>414</td>\n",
       "      <td>0</td>\n",
       "      <td>14</td>\n",
       "      <td>smart</td>\n",
       "    </tr>\n",
       "  </tbody>\n",
       "</table>\n",
       "</div>"
      ],
      "text/plain": [
       "   user_id  month  call_count  duration_sum  messages_sum  gb_used_sum tariff\n",
       "0     1000      5          17           159            22            3  ultra\n",
       "1     1000      6          28           172            60           23  ultra\n",
       "2     1000      7          41           340            75           14  ultra\n",
       "3     1000      8          42           408            81           14  ultra\n",
       "4     1000      9          46           466            57           15  ultra\n",
       "5     1000     10          44           350            73           15  ultra\n",
       "6     1000     11          37           338            58           15  ultra\n",
       "7     1000     12          38           333            70           10  ultra\n",
       "8     1001     11          45           430             0           19  smart\n",
       "9     1001     12          47           414             0           14  smart"
      ]
     },
     "execution_count": 20,
     "metadata": {},
     "output_type": "execute_result"
    }
   ],
   "source": [
    "data_per_month.head(10)"
   ]
  },
  {
   "cell_type": "code",
   "execution_count": 21,
   "metadata": {},
   "outputs": [
    {
     "name": "stdout",
     "output_type": "stream",
     "text": [
      "<class 'pandas.core.frame.DataFrame'>\n",
      "Int64Index: 3168 entries, 0 to 3167\n",
      "Data columns (total 7 columns):\n",
      "user_id         3168 non-null int64\n",
      "month           3168 non-null int64\n",
      "call_count      3168 non-null int64\n",
      "duration_sum    3168 non-null int64\n",
      "messages_sum    3168 non-null int64\n",
      "gb_used_sum     3168 non-null int64\n",
      "tariff          3168 non-null object\n",
      "dtypes: int64(6), object(1)\n",
      "memory usage: 198.0+ KB\n"
     ]
    }
   ],
   "source": [
    "data_per_month.info()"
   ]
  },
  {
   "cell_type": "code",
   "execution_count": 22,
   "metadata": {},
   "outputs": [],
   "source": [
    "# задаем функцию, которая будет считать помесячную выручку с каждого клиента\n",
    "def money_counter (tariff, duration, messages, gb_used):\n",
    "    if str(tariff) == 'smart':\n",
    "        price_per_month = 550\n",
    "        duration_limit = 500\n",
    "        massages_limit = 50\n",
    "        gb_limit = 15\n",
    "        pay_for_duration_overlimit = 3\n",
    "        pay_for_massages_overlimit = 3\n",
    "        pay_for_gb_overlimit = 200\n",
    "    if str(tariff) == 'ultra':\n",
    "        price_per_month = 1950\n",
    "        duration_limit = 3000\n",
    "        massages_limit = 1000\n",
    "        gb_limit = 30\n",
    "        pay_for_duration_overlimit = 1\n",
    "        pay_for_massages_overlimit = 1\n",
    "        pay_for_gb_overlimit = 150\n",
    "    duration_finally = duration - duration_limit\n",
    "    messages_finally = messages - massages_limit\n",
    "    gb_finally = gb_used - gb_limit\n",
    "    if (duration_finally < 0):\n",
    "        duration_finally = 0\n",
    "    if (messages_finally < 0):\n",
    "        messages_finally = 0\n",
    "    if (gb_finally < 0):\n",
    "        gb_finally = 0\n",
    "    pay_for_month = (price_per_month\n",
    "                         + duration_finally * pay_for_duration_overlimit\n",
    "                         + messages_finally * pay_for_massages_overlimit\n",
    "                         + gb_finally * pay_for_gb_overlimit)\n",
    "    return pay_for_month"
   ]
  },
  {
   "cell_type": "code",
   "execution_count": 23,
   "metadata": {
    "scrolled": false
   },
   "outputs": [
    {
     "data": {
      "text/html": [
       "<div>\n",
       "<style scoped>\n",
       "    .dataframe tbody tr th:only-of-type {\n",
       "        vertical-align: middle;\n",
       "    }\n",
       "\n",
       "    .dataframe tbody tr th {\n",
       "        vertical-align: top;\n",
       "    }\n",
       "\n",
       "    .dataframe thead th {\n",
       "        text-align: right;\n",
       "    }\n",
       "</style>\n",
       "<table border=\"1\" class=\"dataframe\">\n",
       "  <thead>\n",
       "    <tr style=\"text-align: right;\">\n",
       "      <th></th>\n",
       "      <th>user_id</th>\n",
       "      <th>month</th>\n",
       "      <th>call_count</th>\n",
       "      <th>duration_sum</th>\n",
       "      <th>messages_sum</th>\n",
       "      <th>gb_used_sum</th>\n",
       "      <th>tariff</th>\n",
       "      <th>pay_per_month</th>\n",
       "    </tr>\n",
       "  </thead>\n",
       "  <tbody>\n",
       "    <tr>\n",
       "      <td>0</td>\n",
       "      <td>1000</td>\n",
       "      <td>5</td>\n",
       "      <td>17</td>\n",
       "      <td>159</td>\n",
       "      <td>22</td>\n",
       "      <td>3</td>\n",
       "      <td>ultra</td>\n",
       "      <td>1950.0</td>\n",
       "    </tr>\n",
       "    <tr>\n",
       "      <td>1</td>\n",
       "      <td>1000</td>\n",
       "      <td>6</td>\n",
       "      <td>28</td>\n",
       "      <td>172</td>\n",
       "      <td>60</td>\n",
       "      <td>23</td>\n",
       "      <td>ultra</td>\n",
       "      <td>1950.0</td>\n",
       "    </tr>\n",
       "    <tr>\n",
       "      <td>2</td>\n",
       "      <td>1000</td>\n",
       "      <td>7</td>\n",
       "      <td>41</td>\n",
       "      <td>340</td>\n",
       "      <td>75</td>\n",
       "      <td>14</td>\n",
       "      <td>ultra</td>\n",
       "      <td>1950.0</td>\n",
       "    </tr>\n",
       "    <tr>\n",
       "      <td>3</td>\n",
       "      <td>1000</td>\n",
       "      <td>8</td>\n",
       "      <td>42</td>\n",
       "      <td>408</td>\n",
       "      <td>81</td>\n",
       "      <td>14</td>\n",
       "      <td>ultra</td>\n",
       "      <td>1950.0</td>\n",
       "    </tr>\n",
       "    <tr>\n",
       "      <td>4</td>\n",
       "      <td>1000</td>\n",
       "      <td>9</td>\n",
       "      <td>46</td>\n",
       "      <td>466</td>\n",
       "      <td>57</td>\n",
       "      <td>15</td>\n",
       "      <td>ultra</td>\n",
       "      <td>1950.0</td>\n",
       "    </tr>\n",
       "    <tr>\n",
       "      <td>5</td>\n",
       "      <td>1000</td>\n",
       "      <td>10</td>\n",
       "      <td>44</td>\n",
       "      <td>350</td>\n",
       "      <td>73</td>\n",
       "      <td>15</td>\n",
       "      <td>ultra</td>\n",
       "      <td>1950.0</td>\n",
       "    </tr>\n",
       "    <tr>\n",
       "      <td>6</td>\n",
       "      <td>1000</td>\n",
       "      <td>11</td>\n",
       "      <td>37</td>\n",
       "      <td>338</td>\n",
       "      <td>58</td>\n",
       "      <td>15</td>\n",
       "      <td>ultra</td>\n",
       "      <td>1950.0</td>\n",
       "    </tr>\n",
       "    <tr>\n",
       "      <td>7</td>\n",
       "      <td>1000</td>\n",
       "      <td>12</td>\n",
       "      <td>38</td>\n",
       "      <td>333</td>\n",
       "      <td>70</td>\n",
       "      <td>10</td>\n",
       "      <td>ultra</td>\n",
       "      <td>1950.0</td>\n",
       "    </tr>\n",
       "    <tr>\n",
       "      <td>8</td>\n",
       "      <td>1001</td>\n",
       "      <td>11</td>\n",
       "      <td>45</td>\n",
       "      <td>430</td>\n",
       "      <td>0</td>\n",
       "      <td>19</td>\n",
       "      <td>smart</td>\n",
       "      <td>1350.0</td>\n",
       "    </tr>\n",
       "    <tr>\n",
       "      <td>9</td>\n",
       "      <td>1001</td>\n",
       "      <td>12</td>\n",
       "      <td>47</td>\n",
       "      <td>414</td>\n",
       "      <td>0</td>\n",
       "      <td>14</td>\n",
       "      <td>smart</td>\n",
       "      <td>550.0</td>\n",
       "    </tr>\n",
       "    <tr>\n",
       "      <td>10</td>\n",
       "      <td>1002</td>\n",
       "      <td>6</td>\n",
       "      <td>14</td>\n",
       "      <td>117</td>\n",
       "      <td>4</td>\n",
       "      <td>11</td>\n",
       "      <td>smart</td>\n",
       "      <td>550.0</td>\n",
       "    </tr>\n",
       "    <tr>\n",
       "      <td>11</td>\n",
       "      <td>1002</td>\n",
       "      <td>7</td>\n",
       "      <td>21</td>\n",
       "      <td>214</td>\n",
       "      <td>11</td>\n",
       "      <td>18</td>\n",
       "      <td>smart</td>\n",
       "      <td>1150.0</td>\n",
       "    </tr>\n",
       "    <tr>\n",
       "      <td>12</td>\n",
       "      <td>1002</td>\n",
       "      <td>8</td>\n",
       "      <td>37</td>\n",
       "      <td>289</td>\n",
       "      <td>13</td>\n",
       "      <td>20</td>\n",
       "      <td>smart</td>\n",
       "      <td>1550.0</td>\n",
       "    </tr>\n",
       "    <tr>\n",
       "      <td>13</td>\n",
       "      <td>1002</td>\n",
       "      <td>9</td>\n",
       "      <td>25</td>\n",
       "      <td>206</td>\n",
       "      <td>4</td>\n",
       "      <td>17</td>\n",
       "      <td>smart</td>\n",
       "      <td>950.0</td>\n",
       "    </tr>\n",
       "    <tr>\n",
       "      <td>14</td>\n",
       "      <td>1002</td>\n",
       "      <td>10</td>\n",
       "      <td>24</td>\n",
       "      <td>212</td>\n",
       "      <td>10</td>\n",
       "      <td>14</td>\n",
       "      <td>smart</td>\n",
       "      <td>550.0</td>\n",
       "    </tr>\n",
       "  </tbody>\n",
       "</table>\n",
       "</div>"
      ],
      "text/plain": [
       "    user_id  month  call_count  duration_sum  messages_sum  gb_used_sum  \\\n",
       "0      1000      5          17           159            22            3   \n",
       "1      1000      6          28           172            60           23   \n",
       "2      1000      7          41           340            75           14   \n",
       "3      1000      8          42           408            81           14   \n",
       "4      1000      9          46           466            57           15   \n",
       "5      1000     10          44           350            73           15   \n",
       "6      1000     11          37           338            58           15   \n",
       "7      1000     12          38           333            70           10   \n",
       "8      1001     11          45           430             0           19   \n",
       "9      1001     12          47           414             0           14   \n",
       "10     1002      6          14           117             4           11   \n",
       "11     1002      7          21           214            11           18   \n",
       "12     1002      8          37           289            13           20   \n",
       "13     1002      9          25           206             4           17   \n",
       "14     1002     10          24           212            10           14   \n",
       "\n",
       "   tariff  pay_per_month  \n",
       "0   ultra         1950.0  \n",
       "1   ultra         1950.0  \n",
       "2   ultra         1950.0  \n",
       "3   ultra         1950.0  \n",
       "4   ultra         1950.0  \n",
       "5   ultra         1950.0  \n",
       "6   ultra         1950.0  \n",
       "7   ultra         1950.0  \n",
       "8   smart         1350.0  \n",
       "9   smart          550.0  \n",
       "10  smart          550.0  \n",
       "11  smart         1150.0  \n",
       "12  smart         1550.0  \n",
       "13  smart          950.0  \n",
       "14  smart          550.0  "
      ]
     },
     "execution_count": 23,
     "metadata": {},
     "output_type": "execute_result"
    }
   ],
   "source": [
    "for i in range(len(data_per_month)):\n",
    "    data_per_month.loc[i, 'pay_per_month'] = (money_counter (data_per_month.loc[i, 'tariff'], \n",
    "                                                  data_per_month.loc[i, 'duration_sum'], \n",
    "                                                  data_per_month.loc[i, 'messages_sum'],\n",
    "                                                  data_per_month.loc[i, 'gb_used_sum']))\n",
    "data_per_month.head(15)"
   ]
  },
  {
   "cell_type": "markdown",
   "metadata": {
    "scrolled": true
   },
   "source": [
    "### Вывод"
   ]
  },
  {
   "cell_type": "markdown",
   "metadata": {},
   "source": [
    "Во всех таблицах заменены тип данных с float на int.  \n",
    "Даты переведены в формат дат.  \n",
    "Во всех таблицах, кроме **data_users**, в столбце **id** к самому id  приписывался ещё id пользователя. Так как id  пользователей были записаны в отдельный столбец, то столбцы **id** просто заполнялись номером строки.  \n",
    "Создана табица **data_per_month**, в которой хранятся данные пользователей за каждый месяц"
   ]
  },
  {
   "cell_type": "markdown",
   "metadata": {},
   "source": [
    "## Анализ данных"
   ]
  },
  {
   "cell_type": "markdown",
   "metadata": {},
   "source": [
    "### Количество абонентов, подключенных к тарифам"
   ]
  },
  {
   "cell_type": "markdown",
   "metadata": {},
   "source": [
    "Рассмотрим как изменяется количетсво абонентов обоих тарифов со временем."
   ]
  },
  {
   "cell_type": "code",
   "execution_count": 24,
   "metadata": {},
   "outputs": [],
   "source": [
    "# таблицы количества абонентов для каждого тарифа\n",
    "data_ultra_user_count = data_per_month.query('tariff == \"ultra\"').pivot_table(index = 'month', values = ('user_id'), aggfunc = 'count')\n",
    "data_smart_user_count = data_per_month.query('tariff == \"smart\"').pivot_table(index = 'month', values = ('user_id'), aggfunc = 'count')"
   ]
  },
  {
   "cell_type": "code",
   "execution_count": 25,
   "metadata": {},
   "outputs": [
    {
     "data": {
      "text/plain": [
       "<matplotlib.axes._subplots.AxesSubplot at 0x7f12ffecf810>"
      ]
     },
     "execution_count": 25,
     "metadata": {},
     "output_type": "execute_result"
    },
    {
     "data": {
      "image/png": "[encoded data removed]",
      "text/plain": [
       "<Figure size 432x288 with 1 Axes>"
      ]
     },
     "metadata": {
      "needs_background": "light"
     },
     "output_type": "display_data"
    },
    {
     "data": {
      "image/png": "[encoded data removed]",
      "text/plain": [
       "<Figure size 432x288 with 1 Axes>"
      ]
     },
     "metadata": {
      "needs_background": "light"
     },
     "output_type": "display_data"
    }
   ],
   "source": [
    "# помесячный график количества абонентов тарифов ultra и smart\n",
    "data_ultra_user_count.plot(title = 'ultra')\n",
    "data_smart_user_count.plot(title = 'smart')"
   ]
  },
  {
   "cell_type": "markdown",
   "metadata": {},
   "source": [
    "У обоих тарифов наблюдается рост количества абонентов. Однако, судя по графику, кривая тарифа ultra скоро выйдет на насыщение, то есть прирост новых абонентов скоро заметно снизится. В то же время кривая тарифа smart больше похожа на прямую, то есть замедление роста количества новых абонентов пока не предвидится. "
   ]
  },
  {
   "cell_type": "markdown",
   "metadata": {},
   "source": [
    "Рассмотрим теперь абонентов, которые отказались от тарифов"
   ]
  },
  {
   "cell_type": "code",
   "execution_count": 26,
   "metadata": {},
   "outputs": [],
   "source": [
    "# таблицы количества абонентов, которые отключились от тарифа\n",
    "data_ultra_churn = data_users.query('tariff == \"ultra\" and churn_month != 0').pivot_table(index = 'churn_month', values = 'user_id', aggfunc = 'count')\n",
    "data_smart_churn = data_users.query('tariff == \"smart\" and churn_month != 0').pivot_table(index = 'churn_month', values = 'user_id', aggfunc = 'count')"
   ]
  },
  {
   "cell_type": "code",
   "execution_count": 27,
   "metadata": {},
   "outputs": [
    {
     "data": {
      "text/plain": [
       "<matplotlib.axes._subplots.AxesSubplot at 0x7f12fffe4a10>"
      ]
     },
     "execution_count": 27,
     "metadata": {},
     "output_type": "execute_result"
    },
    {
     "data": {
      "image/png": "[encoded data removed]",
      "text/plain": [
       "<Figure size 432x288 with 1 Axes>"
      ]
     },
     "metadata": {
      "needs_background": "light"
     },
     "output_type": "display_data"
    },
    {
     "data": {
      "image/png": "[encoded data removed]",
      "text/plain": [
       "<Figure size 432x288 with 1 Axes>"
      ]
     },
     "metadata": {
      "needs_background": "light"
     },
     "output_type": "display_data"
    }
   ],
   "source": [
    "# помесячный график количества отказавшихся от каждого тарифа абонентов\n",
    "data_ultra_churn.plot(title = 'ultra')\n",
    "data_smart_churn.plot(title = 'smart')"
   ]
  },
  {
   "cell_type": "markdown",
   "metadata": {},
   "source": [
    "Количество абонентов, которые отказались от тарифов, конечно, растет, но их ещё слишком мало, чтобы можно было делать какие то определенные выводы."
   ]
  },
  {
   "cell_type": "markdown",
   "metadata": {},
   "source": [
    "### Таблицы средних значений для пользователей отдельно по каждому тарифу"
   ]
  },
  {
   "cell_type": "markdown",
   "metadata": {},
   "source": [
    "Рассмотрим сколько минут разговора, сколько сообщений и какой объём интернет-трафика требуется пользователям каждого тарифа в месяц."
   ]
  },
  {
   "cell_type": "code",
   "execution_count": 28,
   "metadata": {},
   "outputs": [],
   "source": [
    "# Разделяем одну таблицу на две: для каждого тарифа\n",
    "data_ultra_average_per_user = data_per_month.query('tariff == \"ultra\"').pivot_table(index = ('user_id'))\n",
    "data_smart_average_per_user = data_per_month.query('tariff == \"smart\"').pivot_table(index = ('user_id'))"
   ]
  },
  {
   "cell_type": "markdown",
   "metadata": {},
   "source": [
    "#### Количество минут разговора"
   ]
  },
  {
   "cell_type": "code",
   "execution_count": 29,
   "metadata": {
    "scrolled": true
   },
   "outputs": [
    {
     "data": {
      "text/plain": [
       "array([[<matplotlib.axes._subplots.AxesSubplot object at 0x7f12ff783850>]],\n",
       "      dtype=object)"
      ]
     },
     "execution_count": 29,
     "metadata": {},
     "output_type": "execute_result"
    },
    {
     "data": {
      "image/png": "[encoded data removed]",
      "text/plain": [
       "<Figure size 432x288 with 1 Axes>"
      ]
     },
     "metadata": {
      "needs_background": "light"
     },
     "output_type": "display_data"
    }
   ],
   "source": [
    "# Гистограммы среднего количества минут разговора пользователей тарифа ultra \n",
    "data_ultra_average_per_user.hist('duration_sum', bins = 'auto', range = (0, 1200))"
   ]
  },
  {
   "cell_type": "code",
   "execution_count": 30,
   "metadata": {},
   "outputs": [
    {
     "name": "stdout",
     "output_type": "stream",
     "text": [
      "variance_estimate = 71872.0671269184\n"
     ]
    }
   ],
   "source": [
    "# дисперсия\n",
    "print('variance_estimate =', np.var(data_ultra_average_per_user['duration_sum'], ddof=1))"
   ]
  },
  {
   "cell_type": "code",
   "execution_count": 31,
   "metadata": {},
   "outputs": [
    {
     "data": {
      "text/plain": [
       "count     143.000000\n",
       "mean      546.998401\n",
       "std       268.089662\n",
       "min        16.500000\n",
       "25%       342.883333\n",
       "50%       525.500000\n",
       "75%       750.000000\n",
       "max      1179.363636\n",
       "Name: duration_sum, dtype: float64"
      ]
     },
     "execution_count": 31,
     "metadata": {},
     "output_type": "execute_result"
    }
   ],
   "source": [
    "data_ultra_average_per_user['duration_sum'].describe()"
   ]
  },
  {
   "cell_type": "markdown",
   "metadata": {},
   "source": [
    "Дисперсия *variance_estimate* составила 71872  \n",
    "Станартное отклонение *std* - 268  \n",
    "Среднее *mean* - 547  \n",
    "Гистограмма скошена вправо, так как среднее больше медианы (**50%** = 525.5). Максимальное значение (**max** = 1180) попадает в диапазон, образованный по правилу трех сигм (**50%** + 3 * **std**), то есть выбросов нет. При этом максимальное значение меньше, чем включенных в абонентскую плату минут разговора (3000 минут), почти в 3 раза, то есть абоненты не выговаривают включенных в тариф минут."
   ]
  },
  {
   "cell_type": "code",
   "execution_count": 32,
   "metadata": {
    "scrolled": true
   },
   "outputs": [
    {
     "data": {
      "text/plain": [
       "array([[<matplotlib.axes._subplots.AxesSubplot object at 0x7f12ff792c10>]],\n",
       "      dtype=object)"
      ]
     },
     "execution_count": 32,
     "metadata": {},
     "output_type": "execute_result"
    },
    {
     "data": {
      "image/png": "[encoded data removed]",
      "text/plain": [
       "<Figure size 432x288 with 1 Axes>"
      ]
     },
     "metadata": {
      "needs_background": "light"
     },
     "output_type": "display_data"
    }
   ],
   "source": [
    "# Гистограммы среднего количества минут разговора пользователей тарифа smart\n",
    "data_smart_average_per_user.hist('duration_sum', bins = 'auto', range = (0, 1200))"
   ]
  },
  {
   "cell_type": "code",
   "execution_count": 33,
   "metadata": {},
   "outputs": [
    {
     "name": "stdout",
     "output_type": "stream",
     "text": [
      "variance_estimate = 20578.276241342694\n"
     ]
    }
   ],
   "source": [
    "# дисперсия\n",
    "print('variance_estimate =', np.var(data_smart_average_per_user['duration_sum'], ddof=1))"
   ]
  },
  {
   "cell_type": "code",
   "execution_count": 34,
   "metadata": {},
   "outputs": [
    {
     "data": {
      "text/plain": [
       "count    349.000000\n",
       "mean     420.848019\n",
       "std      143.451303\n",
       "min       15.111111\n",
       "25%      317.545455\n",
       "50%      425.250000\n",
       "75%      520.400000\n",
       "max      891.500000\n",
       "Name: duration_sum, dtype: float64"
      ]
     },
     "execution_count": 34,
     "metadata": {},
     "output_type": "execute_result"
    }
   ],
   "source": [
    "data_smart_average_per_user['duration_sum'].describe()"
   ]
  },
  {
   "cell_type": "markdown",
   "metadata": {},
   "source": [
    "Дисперсия *variance_estimate* составила 20578  \n",
    "Станартное отклонение *std* - 143  \n",
    "Среднее *mean* - 421  \n",
    "Гистограмма скошена влево, так как среднее меньше медианы (**50%** = 425.5). Максимальное значение (**max** = 891) не попадает в диапазон, образованный по правилу трех сигм (**50%** + 3 * **std**), то есть может считаться выбросом. В абонентскую плату включено 500 минут, что больше и среднего и медианы, но все равно существенное количество людей превышают абонентский лимит."
   ]
  },
  {
   "cell_type": "markdown",
   "metadata": {},
   "source": [
    "Если сравнивать гистограммы двух тарифов, то видно, что гистограмма тарифа smart значительно уже гистограммы тарифа ultra. Абоненты тарифа smart пытаются уложится в 500 минут, но получается это не у всех."
   ]
  },
  {
   "cell_type": "markdown",
   "metadata": {},
   "source": [
    "#### Количество сообщений"
   ]
  },
  {
   "cell_type": "code",
   "execution_count": 35,
   "metadata": {},
   "outputs": [
    {
     "data": {
      "text/plain": [
       "array([[<matplotlib.axes._subplots.AxesSubplot object at 0x7f12ff6d7890>]],\n",
       "      dtype=object)"
      ]
     },
     "execution_count": 35,
     "metadata": {},
     "output_type": "execute_result"
    },
    {
     "data": {
      "image/png": "[encoded data removed]",
      "text/plain": [
       "<Figure size 432x288 with 1 Axes>"
      ]
     },
     "metadata": {
      "needs_background": "light"
     },
     "output_type": "display_data"
    }
   ],
   "source": [
    "# Гистограммы среднего количества сообщений пользователей тарифа ultra\n",
    "data_ultra_average_per_user.hist('messages_sum', bins = 201, range = (0, 200))"
   ]
  },
  {
   "cell_type": "code",
   "execution_count": 36,
   "metadata": {},
   "outputs": [
    {
     "name": "stdout",
     "output_type": "stream",
     "text": [
      "variance_estimate = 2076.617144378509\n"
     ]
    }
   ],
   "source": [
    "# дисперсия\n",
    "print('variance_estimate =', np.var(data_ultra_average_per_user['messages_sum'], ddof=1))"
   ]
  },
  {
   "cell_type": "code",
   "execution_count": 37,
   "metadata": {
    "scrolled": true
   },
   "outputs": [
    {
     "data": {
      "text/plain": [
       "count    143.000000\n",
       "mean      54.016958\n",
       "std       45.569915\n",
       "min        0.000000\n",
       "25%       16.000000\n",
       "50%       47.000000\n",
       "75%       84.500000\n",
       "max      192.000000\n",
       "Name: messages_sum, dtype: float64"
      ]
     },
     "execution_count": 37,
     "metadata": {},
     "output_type": "execute_result"
    }
   ],
   "source": [
    "data_ultra_average_per_user['messages_sum'].describe()"
   ]
  },
  {
   "cell_type": "markdown",
   "metadata": {},
   "source": [
    "Дисперсия *variance_estimate* составила 2076  \n",
    "Станартное отклонение *std* - 46  \n",
    "Среднее *mean* - 54  \n",
    "Гистограмма скошена вправо, так как среднее больше медианы (**50%** = 47). Максимальное значение (**max** = 192) не попадает в диапазон, образованный по правилу трех сигм (**50%** + 3 * **std**), то есть может считаться выбросом. В абонентскую плату включена 1000 сообщений, что больше максимального значения почти в 5 раз, то есть даже самым активным абонентам далеко до тарифного лимита. Также стоит отметить, что много абонентов вообще не отправляет сообщения"
   ]
  },
  {
   "cell_type": "code",
   "execution_count": 38,
   "metadata": {
    "scrolled": true
   },
   "outputs": [
    {
     "data": {
      "text/plain": [
       "array([[<matplotlib.axes._subplots.AxesSubplot object at 0x7f12ff636310>]],\n",
       "      dtype=object)"
      ]
     },
     "execution_count": 38,
     "metadata": {},
     "output_type": "execute_result"
    },
    {
     "data": {
      "image/png": "[encoded data removed]",
      "text/plain": [
       "<Figure size 432x288 with 1 Axes>"
      ]
     },
     "metadata": {
      "needs_background": "light"
     },
     "output_type": "display_data"
    }
   ],
   "source": [
    "# Гистограммы среднего количества сообщений пользователей тарифа smart\n",
    "data_smart_average_per_user.hist('messages_sum', bins = 201, range = (0, 200))"
   ]
  },
  {
   "cell_type": "code",
   "execution_count": 39,
   "metadata": {},
   "outputs": [
    {
     "name": "stdout",
     "output_type": "stream",
     "text": [
      "variance_estimate = 704.9430035009631\n"
     ]
    }
   ],
   "source": [
    "# дисперсия\n",
    "print('variance_estimate =', np.var(data_smart_average_per_user['messages_sum'], ddof=1))"
   ]
  },
  {
   "cell_type": "code",
   "execution_count": 40,
   "metadata": {
    "scrolled": true
   },
   "outputs": [
    {
     "data": {
      "text/plain": [
       "count    349.000000\n",
       "mean      32.378557\n",
       "std       26.550763\n",
       "min        0.000000\n",
       "25%       11.000000\n",
       "50%       28.000000\n",
       "75%       48.000000\n",
       "max      118.000000\n",
       "Name: messages_sum, dtype: float64"
      ]
     },
     "execution_count": 40,
     "metadata": {},
     "output_type": "execute_result"
    }
   ],
   "source": [
    "data_smart_average_per_user['messages_sum'].describe()"
   ]
  },
  {
   "cell_type": "markdown",
   "metadata": {},
   "source": [
    "Дисперсия *variance_estimate* составила 705  \n",
    "Станартное отклонение *std* - 27  \n",
    "Среднее *mean* - 32  \n",
    "Гистограмма скошена вправо, так как среднее больше медианы (**50%** = 28). Максимальное значение (**max** = 118) не попадает в диапазон, образованный по правилу трех сигм (**50%** + 3 * **std**), то есть может считаться выбросом. В абонентскую плату включены 50 сообщений. Среднее, медиана и даже третий квантиль меньше, чем тарифный лимит, но все равно находятся абоненты, которые превышают лимит. Также стоит отметить, что много абонентов вообще не отправляет сообщения"
   ]
  },
  {
   "cell_type": "markdown",
   "metadata": {},
   "source": [
    "Если сравнивать гистограммы обоих тарифов, то можно отметить, что гистограмма тарифа smart гораздо уже гистограммы тарифа ultra, так как абоненты тарифа smart стараются уложится в лимит, но не у всех это получается."
   ]
  },
  {
   "cell_type": "markdown",
   "metadata": {},
   "source": [
    "#### Объем интернет-трафика"
   ]
  },
  {
   "cell_type": "code",
   "execution_count": 41,
   "metadata": {},
   "outputs": [
    {
     "data": {
      "text/plain": [
       "array([[<matplotlib.axes._subplots.AxesSubplot object at 0x7f12ff38a590>]],\n",
       "      dtype=object)"
      ]
     },
     "execution_count": 41,
     "metadata": {},
     "output_type": "execute_result"
    },
    {
     "data": {
      "image/png": "[encoded data removed]",
      "text/plain": [
       "<Figure size 432x288 with 1 Axes>"
      ]
     },
     "metadata": {
      "needs_background": "light"
     },
     "output_type": "display_data"
    }
   ],
   "source": [
    "# Гистограммы среднего объема интернет-трафика пользователей тарифа ultra\n",
    "data_ultra_average_per_user.hist('gb_used_sum', bins = 41, range = (0, 40))"
   ]
  },
  {
   "cell_type": "code",
   "execution_count": 42,
   "metadata": {},
   "outputs": [
    {
     "name": "stdout",
     "output_type": "stream",
     "text": [
      "variance_estimate = 67.05943368705658\n"
     ]
    }
   ],
   "source": [
    "# дисперсия\n",
    "print('variance_estimate =', np.var(data_ultra_average_per_user['gb_used_sum'], ddof=1))"
   ]
  },
  {
   "cell_type": "code",
   "execution_count": 43,
   "metadata": {},
   "outputs": [
    {
     "data": {
      "text/plain": [
       "count    143.000000\n",
       "mean      19.583076\n",
       "std        8.188982\n",
       "min        0.000000\n",
       "25%       14.454545\n",
       "50%       18.800000\n",
       "75%       25.533333\n",
       "max       38.500000\n",
       "Name: gb_used_sum, dtype: float64"
      ]
     },
     "execution_count": 43,
     "metadata": {},
     "output_type": "execute_result"
    }
   ],
   "source": [
    "data_ultra_average_per_user['gb_used_sum'].describe()"
   ]
  },
  {
   "cell_type": "markdown",
   "metadata": {},
   "source": [
    "Дисперсия *variance_estimate* составила 67  \n",
    "Станартное отклонение *std* - 8  \n",
    "Среднее *mean* - 20  \n",
    "Гистограмма скошена вправо, так как среднее больше медианы (**50%** = 19), но различие минимально и можно говорить, что распределение почти нормальное. Максимальное значение (**max** = 39) попадает в диапазон, образованный по правилу трех сигм (**50%** + 3 * **std**), то есть выбросов нет. Ввиду нормальности распеделения можно сказать, что абоненты не следят за использованным интернет-трафиком"
   ]
  },
  {
   "cell_type": "code",
   "execution_count": 44,
   "metadata": {},
   "outputs": [
    {
     "data": {
      "text/plain": [
       "array([[<matplotlib.axes._subplots.AxesSubplot object at 0x7f12ff0d97d0>]],\n",
       "      dtype=object)"
      ]
     },
     "execution_count": 44,
     "metadata": {},
     "output_type": "execute_result"
    },
    {
     "data": {
      "image/png": "[encoded data removed]",
      "text/plain": [
       "<Figure size 432x288 with 1 Axes>"
      ]
     },
     "metadata": {
      "needs_background": "light"
     },
     "output_type": "display_data"
    }
   ],
   "source": [
    "# Гистограммы среднего объема интернет-трафика пользователей тарифа smart\n",
    "data_smart_average_per_user.hist('gb_used_sum', bins = 41, range = (0, 40))"
   ]
  },
  {
   "cell_type": "code",
   "execution_count": 45,
   "metadata": {},
   "outputs": [
    {
     "name": "stdout",
     "output_type": "stream",
     "text": [
      "variance_estimate = 12.387161861561518\n"
     ]
    }
   ],
   "source": [
    "# дисперсия\n",
    "print('variance_estimate =', np.var(data_smart_average_per_user['gb_used_sum'], ddof=1))"
   ]
  },
  {
   "cell_type": "code",
   "execution_count": 46,
   "metadata": {},
   "outputs": [
    {
     "data": {
      "text/plain": [
       "count    349.000000\n",
       "mean      16.346618\n",
       "std        3.519540\n",
       "min        5.727273\n",
       "25%       14.000000\n",
       "50%       16.333333\n",
       "75%       18.750000\n",
       "max       27.375000\n",
       "Name: gb_used_sum, dtype: float64"
      ]
     },
     "execution_count": 46,
     "metadata": {},
     "output_type": "execute_result"
    }
   ],
   "source": [
    "data_smart_average_per_user['gb_used_sum'].describe()"
   ]
  },
  {
   "cell_type": "markdown",
   "metadata": {},
   "source": [
    "Дисперсия *variance_estimate* составила 12  \n",
    "Станартное отклонение *std* - 3.5  \n",
    "Среднее *mean* - 16  \n",
    "Гистограмма никуда не скошена, так как среднее равно медиане (**50%** = 16), таким образом распределение является нормальным. Максимальное значение (**max** = 28) не попадает в диапазон, образованный по правилу трех сигм (**50%** + 3 * **std**), то есть его можно считать выбросом. "
   ]
  },
  {
   "cell_type": "markdown",
   "metadata": {},
   "source": [
    "Если сравнивать гистограммы обоих тарифов, то видно следующее. Обе гистограммы имеют нормальное распределение, но гистограмма тарифа smart значительно уже. Основываясь на нормальности распределения тарифа ultra можно сказать, что абоненты не следят за использованным объемом интернет-трафика. Однако тоже самое нельзя сказать про абонентов тарифа smart, потому что у гистограммы этого тарифа максимум находится почти на уровне, отведенным тарифом (максимум на 16гб, а тарифный лимит на 15гб), то есть абоненты стремятся не сильно превышать тарифный лимит"
   ]
  },
  {
   "cell_type": "markdown",
   "metadata": {},
   "source": [
    "#### Гистограммы выручки"
   ]
  },
  {
   "cell_type": "code",
   "execution_count": 47,
   "metadata": {
    "scrolled": true
   },
   "outputs": [
    {
     "data": {
      "text/plain": [
       "array([[<matplotlib.axes._subplots.AxesSubplot object at 0x7f12fef77b50>]],\n",
       "      dtype=object)"
      ]
     },
     "execution_count": 47,
     "metadata": {},
     "output_type": "execute_result"
    },
    {
     "data": {
      "image/png": "[encoded data removed]",
      "text/plain": [
       "<Figure size 432x288 with 1 Axes>"
      ]
     },
     "metadata": {
      "needs_background": "light"
     },
     "output_type": "display_data"
    }
   ],
   "source": [
    "# Гистограмма средней выручки с абонентов тарифа ultra\n",
    "data_ultra_average_per_user.hist('pay_per_month', bins = 30, range = (1950, 3300))"
   ]
  },
  {
   "cell_type": "code",
   "execution_count": 48,
   "metadata": {},
   "outputs": [
    {
     "name": "stdout",
     "output_type": "stream",
     "text": [
      "variance_estimate = 92339.79800848497\n"
     ]
    }
   ],
   "source": [
    "# дисперсия\n",
    "print('variance_estimate =', np.var(data_ultra_average_per_user['pay_per_month'], ddof=1))"
   ]
  },
  {
   "cell_type": "code",
   "execution_count": 49,
   "metadata": {},
   "outputs": [
    {
     "data": {
      "text/plain": [
       "count     143.000000\n",
       "mean     2086.974314\n",
       "std       303.874642\n",
       "min      1950.000000\n",
       "25%      1950.000000\n",
       "50%      1950.000000\n",
       "75%      1981.250000\n",
       "max      3262.500000\n",
       "Name: pay_per_month, dtype: float64"
      ]
     },
     "execution_count": 49,
     "metadata": {},
     "output_type": "execute_result"
    }
   ],
   "source": [
    "data_ultra_average_per_user['pay_per_month'].describe()"
   ]
  },
  {
   "cell_type": "markdown",
   "metadata": {},
   "source": [
    "Дисперсия *variance_estimate* составила 92340  \n",
    "Станартное отклонение *std* - 304  \n",
    "Среднее *mean* - 2087  \n",
    "Гистограмма скошена вправа, так как среднее больше медианы (**50%** = 1950). Максимальное значение (**max** = 3263) не попадает в диапазон, образованный по правилу трех сигм (**50%** + 3 * **std**), то есть его можно считать выбросом.  \n",
    "В целом, гистограмма показывает, что в подавляющем большинстве случаев абоненты не превышают лимиты тарифа."
   ]
  },
  {
   "cell_type": "code",
   "execution_count": 50,
   "metadata": {},
   "outputs": [
    {
     "data": {
      "text/plain": [
       "array([[<matplotlib.axes._subplots.AxesSubplot object at 0x7f12feebe150>]],\n",
       "      dtype=object)"
      ]
     },
     "execution_count": 50,
     "metadata": {},
     "output_type": "execute_result"
    },
    {
     "data": {
      "image/png": "[encoded data removed]",
      "text/plain": [
       "<Figure size 432x288 with 1 Axes>"
      ]
     },
     "metadata": {
      "needs_background": "light"
     },
     "output_type": "display_data"
    }
   ],
   "source": [
    "# Гистограмма средней выручки с абонентов тарифа smart\n",
    "data_smart_average_per_user.hist('pay_per_month', bins = 100, range = (550, 3000))"
   ]
  },
  {
   "cell_type": "code",
   "execution_count": 51,
   "metadata": {},
   "outputs": [
    {
     "name": "stdout",
     "output_type": "stream",
     "text": [
      "variance_estimate = 369738.45254042005\n"
     ]
    }
   ],
   "source": [
    "# дисперсия\n",
    "print('variance_estimate =', np.var(data_smart_average_per_user['pay_per_month'], ddof=1))"
   ]
  },
  {
   "cell_type": "code",
   "execution_count": 52,
   "metadata": {},
   "outputs": [
    {
     "data": {
      "text/plain": [
       "count     349.000000\n",
       "mean     1331.322579\n",
       "std       608.061224\n",
       "min       550.000000\n",
       "25%       876.000000\n",
       "50%      1189.800000\n",
       "75%      1683.333333\n",
       "max      4333.333333\n",
       "Name: pay_per_month, dtype: float64"
      ]
     },
     "execution_count": 52,
     "metadata": {},
     "output_type": "execute_result"
    }
   ],
   "source": [
    "data_smart_average_per_user['pay_per_month'].describe()"
   ]
  },
  {
   "cell_type": "markdown",
   "metadata": {},
   "source": [
    "Дисперсия *variance_estimate* составила 369738  \n",
    "Станартное отклонение *std* - 608  \n",
    "Среднее *mean* - 1331  \n",
    "Гистограмма скошена вправа, так как среднее больше медианы (**50%** = 1190). Максимальное значение (**max** = 4333) не попадает в диапазон, образованный по правилу трех сигм (**50%** + 3 * **std**), то есть его можно считать выбросом.  \n",
    "В целом, гистограмма показывает, что в реднем менее 25% абонентов не превышают тарифные лимиты."
   ]
  },
  {
   "cell_type": "markdown",
   "metadata": {},
   "source": [
    "Сравнение двух гистограмм паказывает, что большинство абонентов тарифа ultra не превышают тарифные лимиты, в то время как в тарифе smart не превышают менее 25% абонентов."
   ]
  },
  {
   "cell_type": "markdown",
   "metadata": {},
   "source": [
    "#### Таблицы средних значений за каждый месяц отдельно для каждого тарифа"
   ]
  },
  {
   "cell_type": "markdown",
   "metadata": {},
   "source": [
    "Далее для каждого тарифа представлены таблицы средних значений за месяц: минут разговора (**duration_sum**), количества сообщений (**messages_sum**), объема интернет-трафика (**gb_used_sum**), выручки (**pay_per_month**)."
   ]
  },
  {
   "cell_type": "code",
   "execution_count": 53,
   "metadata": {},
   "outputs": [],
   "source": [
    "# Разделяем одну таблицу на две: для каждого тарифа\n",
    "data_ultra_average_per_month = data_per_month.query('tariff == \"ultra\"').pivot_table(index = ('month'))\n",
    "data_smart_average_per_month = data_per_month.query('tariff == \"smart\"').pivot_table(index = ('month'))"
   ]
  },
  {
   "cell_type": "code",
   "execution_count": 54,
   "metadata": {
    "scrolled": true
   },
   "outputs": [
    {
     "data": {
      "text/html": [
       "<div>\n",
       "<style scoped>\n",
       "    .dataframe tbody tr th:only-of-type {\n",
       "        vertical-align: middle;\n",
       "    }\n",
       "\n",
       "    .dataframe tbody tr th {\n",
       "        vertical-align: top;\n",
       "    }\n",
       "\n",
       "    .dataframe thead th {\n",
       "        text-align: right;\n",
       "    }\n",
       "</style>\n",
       "<table border=\"1\" class=\"dataframe\">\n",
       "  <thead>\n",
       "    <tr style=\"text-align: right;\">\n",
       "      <th></th>\n",
       "      <th>call_count</th>\n",
       "      <th>duration_sum</th>\n",
       "      <th>gb_used_sum</th>\n",
       "      <th>messages_sum</th>\n",
       "      <th>pay_per_month</th>\n",
       "      <th>user_id</th>\n",
       "    </tr>\n",
       "    <tr>\n",
       "      <th>month</th>\n",
       "      <th></th>\n",
       "      <th></th>\n",
       "      <th></th>\n",
       "      <th></th>\n",
       "      <th></th>\n",
       "      <th></th>\n",
       "    </tr>\n",
       "  </thead>\n",
       "  <tbody>\n",
       "    <tr>\n",
       "      <td>1</td>\n",
       "      <td>46.666667</td>\n",
       "      <td>428.111111</td>\n",
       "      <td>13.333333</td>\n",
       "      <td>33.777778</td>\n",
       "      <td>1950.000000</td>\n",
       "      <td>1295.333333</td>\n",
       "    </tr>\n",
       "    <tr>\n",
       "      <td>2</td>\n",
       "      <td>35.478261</td>\n",
       "      <td>310.043478</td>\n",
       "      <td>12.478261</td>\n",
       "      <td>22.913043</td>\n",
       "      <td>1976.086957</td>\n",
       "      <td>1295.434783</td>\n",
       "    </tr>\n",
       "    <tr>\n",
       "      <td>3</td>\n",
       "      <td>54.243243</td>\n",
       "      <td>489.648649</td>\n",
       "      <td>17.702703</td>\n",
       "      <td>32.297297</td>\n",
       "      <td>2014.864865</td>\n",
       "      <td>1278.972973</td>\n",
       "    </tr>\n",
       "    <tr>\n",
       "      <td>4</td>\n",
       "      <td>54.000000</td>\n",
       "      <td>475.301887</td>\n",
       "      <td>17.566038</td>\n",
       "      <td>32.584906</td>\n",
       "      <td>2003.773585</td>\n",
       "      <td>1267.188679</td>\n",
       "    </tr>\n",
       "    <tr>\n",
       "      <td>5</td>\n",
       "      <td>60.687500</td>\n",
       "      <td>534.250000</td>\n",
       "      <td>19.734375</td>\n",
       "      <td>37.859375</td>\n",
       "      <td>2067.187500</td>\n",
       "      <td>1263.078125</td>\n",
       "    </tr>\n",
       "    <tr>\n",
       "      <td>6</td>\n",
       "      <td>56.012346</td>\n",
       "      <td>497.469136</td>\n",
       "      <td>18.938272</td>\n",
       "      <td>40.049383</td>\n",
       "      <td>2044.444444</td>\n",
       "      <td>1261.259259</td>\n",
       "    </tr>\n",
       "    <tr>\n",
       "      <td>7</td>\n",
       "      <td>64.091954</td>\n",
       "      <td>570.885057</td>\n",
       "      <td>20.482759</td>\n",
       "      <td>47.356322</td>\n",
       "      <td>2129.310345</td>\n",
       "      <td>1267.586207</td>\n",
       "    </tr>\n",
       "    <tr>\n",
       "      <td>8</td>\n",
       "      <td>60.313725</td>\n",
       "      <td>535.813725</td>\n",
       "      <td>19.598039</td>\n",
       "      <td>46.794118</td>\n",
       "      <td>2086.764706</td>\n",
       "      <td>1264.460784</td>\n",
       "    </tr>\n",
       "    <tr>\n",
       "      <td>9</td>\n",
       "      <td>63.145455</td>\n",
       "      <td>563.963636</td>\n",
       "      <td>19.109091</td>\n",
       "      <td>50.890909</td>\n",
       "      <td>2023.636364</td>\n",
       "      <td>1261.918182</td>\n",
       "    </tr>\n",
       "    <tr>\n",
       "      <td>10</td>\n",
       "      <td>65.279661</td>\n",
       "      <td>581.728814</td>\n",
       "      <td>20.118644</td>\n",
       "      <td>58.466102</td>\n",
       "      <td>2070.762712</td>\n",
       "      <td>1256.338983</td>\n",
       "    </tr>\n",
       "    <tr>\n",
       "      <td>11</td>\n",
       "      <td>63.046512</td>\n",
       "      <td>562.364341</td>\n",
       "      <td>19.689922</td>\n",
       "      <td>56.000000</td>\n",
       "      <td>2093.023256</td>\n",
       "      <td>1263.930233</td>\n",
       "    </tr>\n",
       "    <tr>\n",
       "      <td>12</td>\n",
       "      <td>69.492537</td>\n",
       "      <td>614.925373</td>\n",
       "      <td>21.694030</td>\n",
       "      <td>60.753731</td>\n",
       "      <td>2133.582090</td>\n",
       "      <td>1264.820896</td>\n",
       "    </tr>\n",
       "  </tbody>\n",
       "</table>\n",
       "</div>"
      ],
      "text/plain": [
       "       call_count  duration_sum  gb_used_sum  messages_sum  pay_per_month  \\\n",
       "month                                                                       \n",
       "1       46.666667    428.111111    13.333333     33.777778    1950.000000   \n",
       "2       35.478261    310.043478    12.478261     22.913043    1976.086957   \n",
       "3       54.243243    489.648649    17.702703     32.297297    2014.864865   \n",
       "4       54.000000    475.301887    17.566038     32.584906    2003.773585   \n",
       "5       60.687500    534.250000    19.734375     37.859375    2067.187500   \n",
       "6       56.012346    497.469136    18.938272     40.049383    2044.444444   \n",
       "7       64.091954    570.885057    20.482759     47.356322    2129.310345   \n",
       "8       60.313725    535.813725    19.598039     46.794118    2086.764706   \n",
       "9       63.145455    563.963636    19.109091     50.890909    2023.636364   \n",
       "10      65.279661    581.728814    20.118644     58.466102    2070.762712   \n",
       "11      63.046512    562.364341    19.689922     56.000000    2093.023256   \n",
       "12      69.492537    614.925373    21.694030     60.753731    2133.582090   \n",
       "\n",
       "           user_id  \n",
       "month               \n",
       "1      1295.333333  \n",
       "2      1295.434783  \n",
       "3      1278.972973  \n",
       "4      1267.188679  \n",
       "5      1263.078125  \n",
       "6      1261.259259  \n",
       "7      1267.586207  \n",
       "8      1264.460784  \n",
       "9      1261.918182  \n",
       "10     1256.338983  \n",
       "11     1263.930233  \n",
       "12     1264.820896  "
      ]
     },
     "execution_count": 54,
     "metadata": {},
     "output_type": "execute_result"
    }
   ],
   "source": [
    "# Таблица средних значений за месяц для тарифа ultra\n",
    "data_ultra_average_per_month.head(12)"
   ]
  },
  {
   "cell_type": "code",
   "execution_count": 55,
   "metadata": {},
   "outputs": [
    {
     "data": {
      "text/html": [
       "<div>\n",
       "<style scoped>\n",
       "    .dataframe tbody tr th:only-of-type {\n",
       "        vertical-align: middle;\n",
       "    }\n",
       "\n",
       "    .dataframe tbody tr th {\n",
       "        vertical-align: top;\n",
       "    }\n",
       "\n",
       "    .dataframe thead th {\n",
       "        text-align: right;\n",
       "    }\n",
       "</style>\n",
       "<table border=\"1\" class=\"dataframe\">\n",
       "  <thead>\n",
       "    <tr style=\"text-align: right;\">\n",
       "      <th></th>\n",
       "      <th>call_count</th>\n",
       "      <th>duration_sum</th>\n",
       "      <th>gb_used_sum</th>\n",
       "      <th>messages_sum</th>\n",
       "      <th>pay_per_month</th>\n",
       "      <th>user_id</th>\n",
       "    </tr>\n",
       "    <tr>\n",
       "      <th>month</th>\n",
       "      <th></th>\n",
       "      <th></th>\n",
       "      <th></th>\n",
       "      <th></th>\n",
       "      <th></th>\n",
       "      <th></th>\n",
       "    </tr>\n",
       "  </thead>\n",
       "  <tbody>\n",
       "    <tr>\n",
       "      <td>1</td>\n",
       "      <td>22.545455</td>\n",
       "      <td>210.030303</td>\n",
       "      <td>8.727273</td>\n",
       "      <td>17.939394</td>\n",
       "      <td>726.515152</td>\n",
       "      <td>1264.454545</td>\n",
       "    </tr>\n",
       "    <tr>\n",
       "      <td>2</td>\n",
       "      <td>32.568966</td>\n",
       "      <td>298.689655</td>\n",
       "      <td>11.844828</td>\n",
       "      <td>24.086207</td>\n",
       "      <td>827.603448</td>\n",
       "      <td>1280.896552</td>\n",
       "    </tr>\n",
       "    <tr>\n",
       "      <td>3</td>\n",
       "      <td>43.844156</td>\n",
       "      <td>390.051948</td>\n",
       "      <td>15.246753</td>\n",
       "      <td>31.857143</td>\n",
       "      <td>1164.623377</td>\n",
       "      <td>1256.792208</td>\n",
       "    </tr>\n",
       "    <tr>\n",
       "      <td>4</td>\n",
       "      <td>41.819820</td>\n",
       "      <td>370.441441</td>\n",
       "      <td>13.585586</td>\n",
       "      <td>30.585586</td>\n",
       "      <td>957.801802</td>\n",
       "      <td>1245.783784</td>\n",
       "    </tr>\n",
       "    <tr>\n",
       "      <td>5</td>\n",
       "      <td>44.198582</td>\n",
       "      <td>387.361702</td>\n",
       "      <td>15.943262</td>\n",
       "      <td>33.773050</td>\n",
       "      <td>1204.602837</td>\n",
       "      <td>1239.269504</td>\n",
       "    </tr>\n",
       "    <tr>\n",
       "      <td>6</td>\n",
       "      <td>44.760736</td>\n",
       "      <td>398.067485</td>\n",
       "      <td>16.000000</td>\n",
       "      <td>33.312883</td>\n",
       "      <td>1212.938650</td>\n",
       "      <td>1232.049080</td>\n",
       "    </tr>\n",
       "    <tr>\n",
       "      <td>7</td>\n",
       "      <td>45.791045</td>\n",
       "      <td>408.353234</td>\n",
       "      <td>15.910448</td>\n",
       "      <td>33.751244</td>\n",
       "      <td>1228.925373</td>\n",
       "      <td>1235.412935</td>\n",
       "    </tr>\n",
       "    <tr>\n",
       "      <td>8</td>\n",
       "      <td>47.457265</td>\n",
       "      <td>423.269231</td>\n",
       "      <td>16.807692</td>\n",
       "      <td>33.709402</td>\n",
       "      <td>1332.435897</td>\n",
       "      <td>1247.094017</td>\n",
       "    </tr>\n",
       "    <tr>\n",
       "      <td>9</td>\n",
       "      <td>48.262548</td>\n",
       "      <td>430.266409</td>\n",
       "      <td>16.420849</td>\n",
       "      <td>33.644788</td>\n",
       "      <td>1256.509653</td>\n",
       "      <td>1250.957529</td>\n",
       "    </tr>\n",
       "    <tr>\n",
       "      <td>10</td>\n",
       "      <td>47.965870</td>\n",
       "      <td>427.590444</td>\n",
       "      <td>16.901024</td>\n",
       "      <td>33.808874</td>\n",
       "      <td>1369.000000</td>\n",
       "      <td>1249.249147</td>\n",
       "    </tr>\n",
       "    <tr>\n",
       "      <td>11</td>\n",
       "      <td>49.304762</td>\n",
       "      <td>436.647619</td>\n",
       "      <td>17.025397</td>\n",
       "      <td>34.120635</td>\n",
       "      <td>1348.104762</td>\n",
       "      <td>1245.752381</td>\n",
       "    </tr>\n",
       "    <tr>\n",
       "      <td>12</td>\n",
       "      <td>53.788690</td>\n",
       "      <td>479.985119</td>\n",
       "      <td>18.238095</td>\n",
       "      <td>35.997024</td>\n",
       "      <td>1584.568452</td>\n",
       "      <td>1243.113095</td>\n",
       "    </tr>\n",
       "  </tbody>\n",
       "</table>\n",
       "</div>"
      ],
      "text/plain": [
       "       call_count  duration_sum  gb_used_sum  messages_sum  pay_per_month  \\\n",
       "month                                                                       \n",
       "1       22.545455    210.030303     8.727273     17.939394     726.515152   \n",
       "2       32.568966    298.689655    11.844828     24.086207     827.603448   \n",
       "3       43.844156    390.051948    15.246753     31.857143    1164.623377   \n",
       "4       41.819820    370.441441    13.585586     30.585586     957.801802   \n",
       "5       44.198582    387.361702    15.943262     33.773050    1204.602837   \n",
       "6       44.760736    398.067485    16.000000     33.312883    1212.938650   \n",
       "7       45.791045    408.353234    15.910448     33.751244    1228.925373   \n",
       "8       47.457265    423.269231    16.807692     33.709402    1332.435897   \n",
       "9       48.262548    430.266409    16.420849     33.644788    1256.509653   \n",
       "10      47.965870    427.590444    16.901024     33.808874    1369.000000   \n",
       "11      49.304762    436.647619    17.025397     34.120635    1348.104762   \n",
       "12      53.788690    479.985119    18.238095     35.997024    1584.568452   \n",
       "\n",
       "           user_id  \n",
       "month               \n",
       "1      1264.454545  \n",
       "2      1280.896552  \n",
       "3      1256.792208  \n",
       "4      1245.783784  \n",
       "5      1239.269504  \n",
       "6      1232.049080  \n",
       "7      1235.412935  \n",
       "8      1247.094017  \n",
       "9      1250.957529  \n",
       "10     1249.249147  \n",
       "11     1245.752381  \n",
       "12     1243.113095  "
      ]
     },
     "execution_count": 55,
     "metadata": {},
     "output_type": "execute_result"
    }
   ],
   "source": [
    "# Таблица средних значений за месяц для тарифа smart\n",
    "data_smart_average_per_month.head(12)"
   ]
  },
  {
   "cell_type": "markdown",
   "metadata": {},
   "source": [
    "В обеих таблицах средние значения за месяц минут разговора, количества сообщений, объема интернет-трафика выросли к конце года. Однако выручка продолжает расти только у тарифа smart, а у тарифа ultra выручка стабилизировалась на уровне 2050 - 2150."
   ]
  },
  {
   "cell_type": "markdown",
   "metadata": {},
   "source": [
    "### Вывод"
   ]
  },
  {
   "cell_type": "markdown",
   "metadata": {},
   "source": [
    "1. В течение года наблюдается замедение роста количества новых абонентов тарифа ultra\n",
    "2. В течение года количетсво новых абонентов тарифа smart растет стабильно\n",
    "3. Количество абонентов, которые отказались от тарифа, недостаточно, чтобы можно было делать определенные выводы\n",
    "4. Сравнение гистограмм количетсва минут двух тарифов показывает, что гистограмма тарифа smart значительно уже гистограммы тарифа ultra. Абоненты тарифа smart пытаются уложится в 500 минут, но получается это не у всех.\n",
    "5. Сравнение гистограмм сообщений двух тарифов показывает, что гистограмма тарифа smart значительно уже гистограммы тарифа ultra. Абоненты тарифа smart пытаются уложится в 50 сообщений, но получается это не у всех.\n",
    "6. Сравнение гистограмм объемов интернет-трафика оказывает, что гистограмма тарифа smart значительно уже гистограммы тарифа ultra. Абоненты тарифа ultra не следят за объемом интернет-трафика, потому что распределение почти нормальное и максимум находится далеко от тарифного лимита. В то же время гистограмма тарифа smart тоже имеет нормальное распределение, то максимум расположен почти на значении тарифного лимита, то есть абоненты стараются не сильно его превышать.\n",
    "7. Сравнение двух гистограмм выручки паказывает, что большинство абонентов тарифа ultra не превышают тарифные лимиты, в то время как в тарифе smart не превышают менее 25% абонентов.\n",
    "8. У обоих тарифов набюдает рост в течение года таких показателей, как количество минут, количество сообщений, объем интернет-трафика. Однако только у тарифа smart наблюдается рост выручки"
   ]
  },
  {
   "cell_type": "markdown",
   "metadata": {},
   "source": [
    "## Проверка гипотез"
   ]
  },
  {
   "cell_type": "markdown",
   "metadata": {},
   "source": [
    "### Гипотеза № 1: средняя выручка пользователей тарифов «Ультра» и «Смарт» различается"
   ]
  },
  {
   "cell_type": "markdown",
   "metadata": {},
   "source": [
    "Сформулируем нулевую гипотезу так: средняя выручка пользователей тарифов «Ультра» и «Смарт» равна. Соответственно альтернативная гипотеза звучит так: средняя выручка пользователей тарифов «Ультра» и «Смарт» различается. Уровень статистической значимости определим как 0.05. Это стандартный уровень и нет причин в данный момент его менять."
   ]
  },
  {
   "cell_type": "code",
   "execution_count": 62,
   "metadata": {},
   "outputs": [],
   "source": [
    "# Проверка гипотезы\n",
    "results = st.ttest_ind(\n",
    "    data_ultra_average_per_user['pay_per_month'], \n",
    "    data_smart_average_per_user['pay_per_month'],\n",
    "    equal_var = False)"
   ]
  },
  {
   "cell_type": "code",
   "execution_count": 65,
   "metadata": {},
   "outputs": [
    {
     "name": "stdout",
     "output_type": "stream",
     "text": [
      "p-значение: 6.337900158202743e-57\n"
     ]
    }
   ],
   "source": [
    "print('p-значение:', results.pvalue)"
   ]
  },
  {
   "cell_type": "markdown",
   "metadata": {},
   "source": [
    "p-значение меньше уровня статистической значимости, поэтому нулевую гипотезу отвергает. Таким образом с хорошей вероятностью можно говорить, что средняя выручка пользователей тарифов «Ультра» и «Смарт» различается, то есть верна альтернативная гипотеза."
   ]
  },
  {
   "cell_type": "markdown",
   "metadata": {},
   "source": [
    "### Гипотеза № 2: средняя выручка пользователей из Москвы отличается от выручки пользователей из других регионов"
   ]
  },
  {
   "cell_type": "markdown",
   "metadata": {},
   "source": [
    "Проверять гипотезы будем отдельно для каждого тарифа.  \n",
    "Сформулируем нулевую гипотезу так: средняя выручка пользователей из Москвы не отличается от выручки пользователей из других регионов. Соответственно альтернативная гипотеза звучит так: средняя выручка пользователей из Москвы отличается от выручки пользователей из других регионов. Уровень статистической значимости определим как 0.05. Это стандартный уровень и нет причин в данный момент его менять.  "
   ]
  },
  {
   "cell_type": "code",
   "execution_count": 70,
   "metadata": {},
   "outputs": [],
   "source": [
    "# Объединяем таблицы так, чтобы в таблице со средними значениями появился столбец с городами\n",
    "data_ultra_with_city = data_ultra_average_per_user.merge(data_users, on='user_id')\n",
    "data_smart_with_city = data_smart_average_per_user.merge(data_users, on='user_id')"
   ]
  },
  {
   "cell_type": "code",
   "execution_count": 71,
   "metadata": {},
   "outputs": [],
   "source": [
    "# Разделяем таблицы на оные, содержащие Москву и нет.\n",
    "data_ultra_with_city_moscow = data_ultra_with_city.query('city == \"Москва\"')\n",
    "data_ultra_with_city_others = data_ultra_with_city.query('city != \"Москва\"')\n",
    "data_smart_with_city_moscow = data_smart_with_city.query('city == \"Москва\"')\n",
    "data_smart_with_city_others = data_smart_with_city.query('city != \"Москва\"')"
   ]
  },
  {
   "cell_type": "code",
   "execution_count": 72,
   "metadata": {},
   "outputs": [
    {
     "name": "stdout",
     "output_type": "stream",
     "text": [
      "p-значение: 0.5786280014271107\n"
     ]
    }
   ],
   "source": [
    "# Проверка гипотезы тарифа ultra\n",
    "results = st.ttest_ind(\n",
    "    data_ultra_with_city_moscow['pay_per_month'], \n",
    "    data_ultra_with_city_others['pay_per_month'])\n",
    "print('p-значение:', results.pvalue)"
   ]
  },
  {
   "cell_type": "code",
   "execution_count": 73,
   "metadata": {},
   "outputs": [
    {
     "name": "stdout",
     "output_type": "stream",
     "text": [
      "p-значение: 0.1630838578767174\n"
     ]
    }
   ],
   "source": [
    "# Проверка гипотезы тарифа smart\n",
    "results = st.ttest_ind(\n",
    "    data_smart_with_city_moscow['pay_per_month'], \n",
    "    data_smart_with_city_others['pay_per_month'])\n",
    "print('p-значение:', results.pvalue)"
   ]
  },
  {
   "cell_type": "markdown",
   "metadata": {},
   "source": [
    "В обоих случаяз p-значение значение оказалось больше уровень статистической значимости, значит, нулевые гипотезы верны. То есть средняя выручка пользователей из Москвы не отличается от выручки пользователей из других регионов"
   ]
  },
  {
   "cell_type": "markdown",
   "metadata": {},
   "source": [
    "### Вывод"
   ]
  },
  {
   "cell_type": "markdown",
   "metadata": {},
   "source": [
    "1. Средняя выручка пользователей тарифов «Ультра» и «Смарт» различается\n",
    "2. Средняя выручка пользователей из Москвы не отличается от выручки пользователей из других регионов"
   ]
  },
  {
   "cell_type": "markdown",
   "metadata": {},
   "source": [
    "## Общий вывод"
   ]
  },
  {
   "cell_type": "markdown",
   "metadata": {},
   "source": [
    "1. В течение года наблюдается замедение роста количества новых абонентов тарифа ultra\n",
    "2. В течение года количетсво новых абонентов тарифа smart растет стабильно\n",
    "3. Количество абонентов, которые отказались от тарифа, недостаточно, чтобы можно было делать определенные выводы\n",
    "4. Сравнение гистограмм количетсва минут двух тарифов показывает, что гистограмма тарифа smart значительно уже гистограммы тарифа ultra. Абоненты тарифа smart пытаются уложится в 500 минут, но получается это не у всех.\n",
    "5. Сравнение гистограмм сообщений двух тарифов показывает, что гистограмма тарифа smart значительно уже гистограммы тарифа ultra. Абоненты тарифа smart пытаются уложится в 50 сообщений, но получается это не у всех.\n",
    "6. Сравнение гистограмм объемов интернет-трафика оказывает, что гистограмма тарифа smart значительно уже гистограммы тарифа ultra. Абоненты тарифа ultra не следят за объемом интернет-трафика, потому что распределение почти нормальное и максимум находится далеко от тарифного лимита. В то же время гистограмма тарифа smart тоже имеет нормальное распределение, то максимум расположен почти на значении тарифного лимита, то есть абоненты стараются не сильно его превышать.\n",
    "7. Сравнение двух гистограмм выручки паказывает, что большинство абонентов тарифа ultra не превышают тарифные лимиты, в то время как в тарифе smart не превышают менее 25% абонентов.\n",
    "8. У обоих тарифов набюдает рост в течение года таких показателей, как количество минут, количество сообщений, объем интернет-трафика. Однако только у тарифа smart наблюдается рост выручки\n",
    "9. Средняя выручка пользователей тарифов «Ультра» и «Смарт» различается  \n",
    "10. Средняя выручка пользователей из Москвы не отличается от выручки пользователей из других регионов  \n",
    "11. Средняя выручка тарифа ultra больше, чем у тарифа smart, но у тарифа smart больше абонентов, поэтому общая выручка больше. Также у тарифа smart в течение года наблюдается рост как абонентов, так и средней выручки, чего не скажешь про тариф ultra."
   ]
  }
 ],
 "metadata": {
  "kernelspec": {
   "display_name": "Python 3",
   "language": "python",
   "name": "python3"
  },
  "language_info": {
   "codemirror_mode": {
    "name": "ipython",
    "version": 3
   },
   "file_extension": ".py",
   "mimetype": "text/x-python",
   "name": "python",
   "nbconvert_exporter": "python",
   "pygments_lexer": "ipython3",
   "version": "3.7.6"
  },
  "toc": {
   "base_numbering": 1,
   "nav_menu": {},
   "number_sections": true,
   "sideBar": true,
   "skip_h1_title": true,
   "title_cell": "Table of Contents",
   "title_sidebar": "Contents",
   "toc_cell": false,
   "toc_position": {},
   "toc_section_display": true,
   "toc_window_display": false
  }
 },
 "nbformat": 4,
 "nbformat_minor": 2
}

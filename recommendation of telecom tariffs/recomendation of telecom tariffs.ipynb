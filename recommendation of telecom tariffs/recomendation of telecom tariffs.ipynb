{
 "cells": [
  {
   "cell_type": "markdown",
   "metadata": {},
   "source": [
    "# Рекомендация тарифов"
   ]
  },
  {
   "cell_type": "markdown",
   "metadata": {},
   "source": [
    "#### Описание проекта\n",
    "Многие клиенты мобильного оператора пользуются архивными тарифами. Оператор хочет предложить им один из новых тарифов. Чтобы предложить клиенту архивного тарифа подходящий новый, необходимо научится по поведению клиентов новых тарифов определить, каким тарифом они пользуются.  \n",
    "#### Цель\n",
    "Имеются данные о поведении клиентов, которые уже перешли на новые тарифы. Необходимо построить модель для задачи классификации, которая выберет подходящий тариф.\n",
    "#### Задача\n",
    "Построить модель с максимально большим значением **accuracy**, но не меньше 0,75."
   ]
  },
  {
   "cell_type": "markdown",
   "metadata": {},
   "source": [
    "### Описание данных\n",
    "Каждый объект в наборе данных — это информация о поведении одного пользователя за месяц.  \n",
    "Известно:  \n",
    "сalls — количество звонков,  \n",
    "minutes — суммарная длительность звонков в минутах,  \n",
    "messages — количество sms-сообщений,  \n",
    "mb_used — израсходованный интернет-трафик в Мб,  \n",
    "is_ultra — каким тарифом пользовался в течение месяца («Ультра» — 1, «Смарт» — 0).  "
   ]
  },
  {
   "cell_type": "markdown",
   "metadata": {},
   "source": [
    "### Описание тарифов\n",
    "#### Тариф «Смарт»\n",
    "Ежемесячная плата: 550 рублей  \n",
    "Включено 500 минут разговора, 50 сообщений и 15 Гб интернет-трафика  \n",
    "Стоимость услуг сверх тарифного пакета:  \n",
    "минута разговора: 3 рубля  \n",
    "сообщение: 3 рубля  \n",
    "1 Гб интернет-трафика: 200 рублей  \n",
    "#### Тариф «Ультра»\n",
    "Ежемесячная плата: 1950 рублей  \n",
    "Включено 3000 минут разговора, 1000 сообщений и 30 Гб интернет-трафика  \n",
    "Стоимость услуг сверх тарифного пакета:  \n",
    "минута разговора: 1 рубль  \n",
    "сообщение: 1 рубль  \n",
    "1 Гб интернет-трафика: 150 рублей  \n",
    "  \n",
    "Оператор всегда округляет вверх значения минут и мегабайтов. Если пользователь проговорил всего 1 секунду, в тарифе засчитывается целая минута."
   ]
  },
  {
   "cell_type": "markdown",
   "metadata": {},
   "source": [
    "## 1. Открытие файла"
   ]
  },
  {
   "cell_type": "code",
   "execution_count": 1,
   "metadata": {},
   "outputs": [],
   "source": [
    "import pandas as pd\n",
    "from sklearn.metrics import accuracy_score\n",
    "import random\n",
    "import numpy as np\n",
    "from sklearn.model_selection import train_test_split\n",
    "from sklearn.ensemble import RandomForestClassifier\n",
    "from sklearn.linear_model import LogisticRegression"
   ]
  },
  {
   "cell_type": "code",
   "execution_count": 2,
   "metadata": {},
   "outputs": [],
   "source": [
    "# открываем таблицу с информацией о пользователях\n",
    "data_users = pd.read_csv('/datasets/users_behavior.csv')"
   ]
  },
  {
   "cell_type": "code",
   "execution_count": 3,
   "metadata": {},
   "outputs": [
    {
     "name": "stdout",
     "output_type": "stream",
     "text": [
      "<class 'pandas.core.frame.DataFrame'>\n",
      "RangeIndex: 3214 entries, 0 to 3213\n",
      "Data columns (total 5 columns):\n",
      "calls       3214 non-null float64\n",
      "minutes     3214 non-null float64\n",
      "messages    3214 non-null float64\n",
      "mb_used     3214 non-null float64\n",
      "is_ultra    3214 non-null int64\n",
      "dtypes: float64(4), int64(1)\n",
      "memory usage: 125.7 KB\n"
     ]
    },
    {
     "data": {
      "text/html": [
       "<div>\n",
       "<style scoped>\n",
       "    .dataframe tbody tr th:only-of-type {\n",
       "        vertical-align: middle;\n",
       "    }\n",
       "\n",
       "    .dataframe tbody tr th {\n",
       "        vertical-align: top;\n",
       "    }\n",
       "\n",
       "    .dataframe thead th {\n",
       "        text-align: right;\n",
       "    }\n",
       "</style>\n",
       "<table border=\"1\" class=\"dataframe\">\n",
       "  <thead>\n",
       "    <tr style=\"text-align: right;\">\n",
       "      <th></th>\n",
       "      <th>calls</th>\n",
       "      <th>minutes</th>\n",
       "      <th>messages</th>\n",
       "      <th>mb_used</th>\n",
       "      <th>is_ultra</th>\n",
       "    </tr>\n",
       "  </thead>\n",
       "  <tbody>\n",
       "    <tr>\n",
       "      <td>0</td>\n",
       "      <td>40.0</td>\n",
       "      <td>311.90</td>\n",
       "      <td>83.0</td>\n",
       "      <td>19915.42</td>\n",
       "      <td>0</td>\n",
       "    </tr>\n",
       "    <tr>\n",
       "      <td>1</td>\n",
       "      <td>85.0</td>\n",
       "      <td>516.75</td>\n",
       "      <td>56.0</td>\n",
       "      <td>22696.96</td>\n",
       "      <td>0</td>\n",
       "    </tr>\n",
       "    <tr>\n",
       "      <td>2</td>\n",
       "      <td>77.0</td>\n",
       "      <td>467.66</td>\n",
       "      <td>86.0</td>\n",
       "      <td>21060.45</td>\n",
       "      <td>0</td>\n",
       "    </tr>\n",
       "    <tr>\n",
       "      <td>3</td>\n",
       "      <td>106.0</td>\n",
       "      <td>745.53</td>\n",
       "      <td>81.0</td>\n",
       "      <td>8437.39</td>\n",
       "      <td>1</td>\n",
       "    </tr>\n",
       "    <tr>\n",
       "      <td>4</td>\n",
       "      <td>66.0</td>\n",
       "      <td>418.74</td>\n",
       "      <td>1.0</td>\n",
       "      <td>14502.75</td>\n",
       "      <td>0</td>\n",
       "    </tr>\n",
       "  </tbody>\n",
       "</table>\n",
       "</div>"
      ],
      "text/plain": [
       "   calls  minutes  messages   mb_used  is_ultra\n",
       "0   40.0   311.90      83.0  19915.42         0\n",
       "1   85.0   516.75      56.0  22696.96         0\n",
       "2   77.0   467.66      86.0  21060.45         0\n",
       "3  106.0   745.53      81.0   8437.39         1\n",
       "4   66.0   418.74       1.0  14502.75         0"
      ]
     },
     "execution_count": 3,
     "metadata": {},
     "output_type": "execute_result"
    }
   ],
   "source": [
    "data_users.info()\n",
    "data_users.head()"
   ]
  },
  {
   "cell_type": "markdown",
   "metadata": {},
   "source": [
    "Пусть данные и предобработаны, но все равно приведем значения к типу int с округлением в большую сторону, а мегабайты переведем в гигобайты."
   ]
  },
  {
   "cell_type": "code",
   "execution_count": 4,
   "metadata": {},
   "outputs": [],
   "source": [
    "# приведем к типу int с округлением в большую сторону\n",
    "data_users['calls'] = data_users['calls'].astype(int)\n",
    "data_users['minutes'] = np.ceil(data_users['minutes']).astype(int)\n",
    "data_users['messages'] = data_users['messages'].astype(int)\n",
    "# заодно переведем мегабайты в гигобайты\n",
    "data_users['mb_used'] = np.ceil(data_users['mb_used'] / 1024).astype(int)\n",
    "# переименуем столбец mb_used в пb_used\n",
    "data_users.rename(columns={'mb_used': 'gb_used'}, inplace=True)"
   ]
  },
  {
   "cell_type": "code",
   "execution_count": 5,
   "metadata": {},
   "outputs": [
    {
     "data": {
      "text/html": [
       "<div>\n",
       "<style scoped>\n",
       "    .dataframe tbody tr th:only-of-type {\n",
       "        vertical-align: middle;\n",
       "    }\n",
       "\n",
       "    .dataframe tbody tr th {\n",
       "        vertical-align: top;\n",
       "    }\n",
       "\n",
       "    .dataframe thead th {\n",
       "        text-align: right;\n",
       "    }\n",
       "</style>\n",
       "<table border=\"1\" class=\"dataframe\">\n",
       "  <thead>\n",
       "    <tr style=\"text-align: right;\">\n",
       "      <th></th>\n",
       "      <th>calls</th>\n",
       "      <th>minutes</th>\n",
       "      <th>messages</th>\n",
       "      <th>gb_used</th>\n",
       "      <th>is_ultra</th>\n",
       "    </tr>\n",
       "  </thead>\n",
       "  <tbody>\n",
       "    <tr>\n",
       "      <td>0</td>\n",
       "      <td>40</td>\n",
       "      <td>312</td>\n",
       "      <td>83</td>\n",
       "      <td>20</td>\n",
       "      <td>0</td>\n",
       "    </tr>\n",
       "    <tr>\n",
       "      <td>1</td>\n",
       "      <td>85</td>\n",
       "      <td>517</td>\n",
       "      <td>56</td>\n",
       "      <td>23</td>\n",
       "      <td>0</td>\n",
       "    </tr>\n",
       "    <tr>\n",
       "      <td>2</td>\n",
       "      <td>77</td>\n",
       "      <td>468</td>\n",
       "      <td>86</td>\n",
       "      <td>21</td>\n",
       "      <td>0</td>\n",
       "    </tr>\n",
       "    <tr>\n",
       "      <td>3</td>\n",
       "      <td>106</td>\n",
       "      <td>746</td>\n",
       "      <td>81</td>\n",
       "      <td>9</td>\n",
       "      <td>1</td>\n",
       "    </tr>\n",
       "    <tr>\n",
       "      <td>4</td>\n",
       "      <td>66</td>\n",
       "      <td>419</td>\n",
       "      <td>1</td>\n",
       "      <td>15</td>\n",
       "      <td>0</td>\n",
       "    </tr>\n",
       "  </tbody>\n",
       "</table>\n",
       "</div>"
      ],
      "text/plain": [
       "   calls  minutes  messages  gb_used  is_ultra\n",
       "0     40      312        83       20         0\n",
       "1     85      517        56       23         0\n",
       "2     77      468        86       21         0\n",
       "3    106      746        81        9         1\n",
       "4     66      419         1       15         0"
      ]
     },
     "execution_count": 5,
     "metadata": {},
     "output_type": "execute_result"
    }
   ],
   "source": [
    "data_users.head()"
   ]
  },
  {
   "cell_type": "markdown",
   "metadata": {},
   "source": [
    "#### Далее следует некоторое исправление данных.  \n",
    "Так как люди могут ошибаться в выборе тариф, то поменяем в данных некоторые значения в столбце **is_ultra** по следующему принципу:  \n",
    "*  абонентов тафира ultra переведем на тариф smart в случае, если количество израсходованных минут, отправленных сообщений и использованных объемов интернет-трафика меньше, чем включено в тариф smart.  \n",
    "*  абонентов тафира smart переведем на тариф ultra в случае, если их месячный платеж окажется больше, чем на тарифе ultra."
   ]
  },
  {
   "cell_type": "markdown",
   "metadata": {},
   "source": [
    "Создаем ключевой признак **is_ultra_corrected**, в котором будем исправлять неверно выбранный тариф"
   ]
  },
  {
   "cell_type": "code",
   "execution_count": 6,
   "metadata": {},
   "outputs": [],
   "source": [
    "data_users['is_ultra_corrected'] = data_users['is_ultra']"
   ]
  },
  {
   "cell_type": "markdown",
   "metadata": {},
   "source": [
    "Подсчитаем, сколько абонентов надо перевести с тарифа smart на ultra"
   ]
  },
  {
   "cell_type": "code",
   "execution_count": 7,
   "metadata": {
    "scrolled": true
   },
   "outputs": [
    {
     "data": {
      "text/plain": [
       "calls                 138\n",
       "minutes               138\n",
       "messages              138\n",
       "gb_used               138\n",
       "is_ultra              138\n",
       "is_ultra_corrected    138\n",
       "dtype: int64"
      ]
     },
     "execution_count": 7,
     "metadata": {},
     "output_type": "execute_result"
    }
   ],
   "source": [
    "data_users.query('minutes < 500 and messages < 50 and gb_used < 15 and is_ultra == 1').count()"
   ]
  },
  {
   "cell_type": "markdown",
   "metadata": {},
   "source": [
    "138 абонентов могли бы спокойно пользоваться тарифом smart"
   ]
  },
  {
   "cell_type": "markdown",
   "metadata": {},
   "source": [
    "Меняем тафир ultra на smart"
   ]
  },
  {
   "cell_type": "code",
   "execution_count": 8,
   "metadata": {},
   "outputs": [],
   "source": [
    "data_users.loc[(data_users['minutes'] < 500) & (data_users['messages'] < 50) & (data_users['gb_used'] < 15) & (data_users['is_ultra_corrected'] == 1), 'is_ultra_corrected'] = 0"
   ]
  },
  {
   "cell_type": "markdown",
   "metadata": {},
   "source": [
    "Задаем функцию, котора посчитает месячную выручку с каждого абонента"
   ]
  },
  {
   "cell_type": "code",
   "execution_count": 9,
   "metadata": {},
   "outputs": [],
   "source": [
    "# задаем функцию\n",
    "def money_counter (tariff, duration, messages, gb_used):\n",
    "    if tariff == 0:\n",
    "        price_per_month = 550\n",
    "        duration_limit = 500\n",
    "        massages_limit = 50\n",
    "        gb_limit = 15\n",
    "        pay_for_duration_overlimit = 3\n",
    "        pay_for_massages_overlimit = 3\n",
    "        pay_for_gb_overlimit = 200\n",
    "    if tariff == 1:\n",
    "        price_per_month = 1950\n",
    "        duration_limit = 3000\n",
    "        massages_limit = 1000\n",
    "        gb_limit = 30\n",
    "        pay_for_duration_overlimit = 1\n",
    "        pay_for_massages_overlimit = 1\n",
    "        pay_for_gb_overlimit = 150\n",
    "    duration_finally = duration - duration_limit\n",
    "    messages_finally = messages - massages_limit\n",
    "    gb_finally = gb_used - gb_limit\n",
    "    if (duration_finally < 0):\n",
    "        duration_finally = 0\n",
    "    if (messages_finally < 0):\n",
    "        messages_finally = 0\n",
    "    if (gb_finally < 0):\n",
    "        gb_finally = 0\n",
    "    pay_for_month = (price_per_month\n",
    "                         + duration_finally * pay_for_duration_overlimit\n",
    "                         + messages_finally * pay_for_massages_overlimit\n",
    "                         + gb_finally * pay_for_gb_overlimit)\n",
    "    return pay_for_month"
   ]
  },
  {
   "cell_type": "markdown",
   "metadata": {},
   "source": [
    "Считаем месячную выручку с абонента"
   ]
  },
  {
   "cell_type": "code",
   "execution_count": 10,
   "metadata": {},
   "outputs": [
    {
     "data": {
      "text/html": [
       "<div>\n",
       "<style scoped>\n",
       "    .dataframe tbody tr th:only-of-type {\n",
       "        vertical-align: middle;\n",
       "    }\n",
       "\n",
       "    .dataframe tbody tr th {\n",
       "        vertical-align: top;\n",
       "    }\n",
       "\n",
       "    .dataframe thead th {\n",
       "        text-align: right;\n",
       "    }\n",
       "</style>\n",
       "<table border=\"1\" class=\"dataframe\">\n",
       "  <thead>\n",
       "    <tr style=\"text-align: right;\">\n",
       "      <th></th>\n",
       "      <th>calls</th>\n",
       "      <th>minutes</th>\n",
       "      <th>messages</th>\n",
       "      <th>gb_used</th>\n",
       "      <th>is_ultra</th>\n",
       "      <th>is_ultra_corrected</th>\n",
       "      <th>pay_per_month</th>\n",
       "    </tr>\n",
       "  </thead>\n",
       "  <tbody>\n",
       "    <tr>\n",
       "      <td>0</td>\n",
       "      <td>40</td>\n",
       "      <td>312</td>\n",
       "      <td>83</td>\n",
       "      <td>20</td>\n",
       "      <td>0</td>\n",
       "      <td>0</td>\n",
       "      <td>1649.0</td>\n",
       "    </tr>\n",
       "    <tr>\n",
       "      <td>1</td>\n",
       "      <td>85</td>\n",
       "      <td>517</td>\n",
       "      <td>56</td>\n",
       "      <td>23</td>\n",
       "      <td>0</td>\n",
       "      <td>0</td>\n",
       "      <td>2219.0</td>\n",
       "    </tr>\n",
       "    <tr>\n",
       "      <td>2</td>\n",
       "      <td>77</td>\n",
       "      <td>468</td>\n",
       "      <td>86</td>\n",
       "      <td>21</td>\n",
       "      <td>0</td>\n",
       "      <td>0</td>\n",
       "      <td>1858.0</td>\n",
       "    </tr>\n",
       "    <tr>\n",
       "      <td>3</td>\n",
       "      <td>106</td>\n",
       "      <td>746</td>\n",
       "      <td>81</td>\n",
       "      <td>9</td>\n",
       "      <td>1</td>\n",
       "      <td>1</td>\n",
       "      <td>1950.0</td>\n",
       "    </tr>\n",
       "    <tr>\n",
       "      <td>4</td>\n",
       "      <td>66</td>\n",
       "      <td>419</td>\n",
       "      <td>1</td>\n",
       "      <td>15</td>\n",
       "      <td>0</td>\n",
       "      <td>0</td>\n",
       "      <td>550.0</td>\n",
       "    </tr>\n",
       "  </tbody>\n",
       "</table>\n",
       "</div>"
      ],
      "text/plain": [
       "   calls  minutes  messages  gb_used  is_ultra  is_ultra_corrected  \\\n",
       "0     40      312        83       20         0                   0   \n",
       "1     85      517        56       23         0                   0   \n",
       "2     77      468        86       21         0                   0   \n",
       "3    106      746        81        9         1                   1   \n",
       "4     66      419         1       15         0                   0   \n",
       "\n",
       "   pay_per_month  \n",
       "0         1649.0  \n",
       "1         2219.0  \n",
       "2         1858.0  \n",
       "3         1950.0  \n",
       "4          550.0  "
      ]
     },
     "execution_count": 10,
     "metadata": {},
     "output_type": "execute_result"
    }
   ],
   "source": [
    "for i in range(len(data_users)):\n",
    "    data_users.loc[i, 'pay_per_month'] = (money_counter (data_users.loc[i, 'is_ultra_corrected'], \n",
    "                                                         data_users.loc[i, 'minutes'], \n",
    "                                                         data_users.loc[i, 'messages'],\n",
    "                                                         data_users.loc[i, 'gb_used']))\n",
    "data_users.head()"
   ]
  },
  {
   "cell_type": "markdown",
   "metadata": {},
   "source": [
    "Подсчитаем количество людей, которым было бы лучше перейти на тариф ultra"
   ]
  },
  {
   "cell_type": "code",
   "execution_count": 11,
   "metadata": {
    "scrolled": false
   },
   "outputs": [
    {
     "data": {
      "text/plain": [
       "calls                 460\n",
       "minutes               460\n",
       "messages              460\n",
       "gb_used               460\n",
       "is_ultra              460\n",
       "is_ultra_corrected    460\n",
       "pay_per_month         460\n",
       "dtype: int64"
      ]
     },
     "execution_count": 11,
     "metadata": {},
     "output_type": "execute_result"
    }
   ],
   "source": [
    "data_users.query('pay_per_month >= 1950 and is_ultra_corrected == 0').count()"
   ]
  },
  {
   "cell_type": "markdown",
   "metadata": {},
   "source": [
    "Таких оказалось 460 человек.  \n",
    "Меняем тариф со smart на ultra в этих случаях"
   ]
  },
  {
   "cell_type": "code",
   "execution_count": 12,
   "metadata": {},
   "outputs": [],
   "source": [
    "data_users.loc[(data_users['pay_per_month'] >= 1950) & (data_users['is_ultra_corrected'] == 0), 'is_ultra_corrected'] = 1"
   ]
  },
  {
   "cell_type": "markdown",
   "metadata": {},
   "source": [
    "## 2. Разбиение данных на выборки"
   ]
  },
  {
   "cell_type": "markdown",
   "metadata": {},
   "source": [
    "Разделите исходные данные на обучающую, валидационную и тестовую выборки в соотношении 3:1:1.  \n",
    "Определим функцию, которая будет разделять выборки."
   ]
  },
  {
   "cell_type": "code",
   "execution_count": 13,
   "metadata": {},
   "outputs": [],
   "source": [
    "# Деление на обучающую + валидационную и тестовую выборки.\n",
    "data_users_tr_val, data_users_test = train_test_split(data_users, test_size=0.2, random_state=12345)\n",
    "# Деление обучающей + валидационной выборки на обучающую и валидационную выборки\n",
    "data_users_trainig, data_users_valid = train_test_split(data_users_tr_val, test_size=0.25, random_state=12345)\n",
    "# Разделение выборки на выборки с признаками (без столбца is_ultra) и выборки с ключевым признаком (только столбец is_ultra)\n",
    "features_data_users_tr_val = data_users_tr_val.drop(['is_ultra_corrected', 'is_ultra', 'pay_per_month'], axis=1)\n",
    "target_data_users_tr_val = data_users_tr_val['is_ultra']\n",
    "c_target_data_users_tr_val = data_users_tr_val['is_ultra_corrected']\n",
    "# тестовые выборки\n",
    "features_data_users_test = data_users_test.drop(['is_ultra_corrected', 'is_ultra', 'pay_per_month'], axis=1)\n",
    "target_data_users_test = data_users_test['is_ultra']\n",
    "c_target_data_users_test = data_users_test['is_ultra_corrected']\n",
    "# тренировочные выборки\n",
    "features_data_users_trainig = data_users_trainig.drop(['is_ultra_corrected', 'is_ultra', 'pay_per_month'], axis=1)\n",
    "target_data_users_trainig = data_users_trainig['is_ultra']\n",
    "c_target_data_users_trainig = data_users_trainig['is_ultra_corrected']\n",
    "# валидационные выборки\n",
    "features_data_users_valid = data_users_valid.drop(['is_ultra_corrected', 'is_ultra', 'pay_per_month'], axis=1)\n",
    "target_data_users_valid = data_users_valid['is_ultra']\n",
    "c_target_data_users_valid = data_users_valid['is_ultra_corrected']"
   ]
  },
  {
   "cell_type": "markdown",
   "metadata": {},
   "source": [
    "## 3. Исследование моделей машинного обучения"
   ]
  },
  {
   "cell_type": "markdown",
   "metadata": {},
   "source": [
    "#### Модели случайного леса"
   ]
  },
  {
   "cell_type": "markdown",
   "metadata": {},
   "source": [
    "Для неисправленных тарифов, то есть для ключевого признака **is_ultra**, рассмотрим модели случайного леса со следующим диапазоном гиперпараметров:  \n",
    "* количество деревьев **n_estimators** от 1 до 50  \n",
    "* максимальная глубина **max_depth** = 10  \n",
    "  \n",
    "и выберем лучшую модель."
   ]
  },
  {
   "cell_type": "code",
   "execution_count": 14,
   "metadata": {},
   "outputs": [
    {
     "name": "stdout",
     "output_type": "stream",
     "text": [
      "max accuracy = 0.7916018662519441\n",
      "положение max accuracy: 359\n"
     ]
    }
   ],
   "source": [
    "table = np.zeros((50, 10, 1))\n",
    "for i in range(50): #Комментарий наставника: чтобы не прибавлять единицу каждый раз, можно так: in range(1, 51)\n",
    "    for j in range (10): #in range (1, 11)\n",
    "        model_forest = RandomForestClassifier(n_estimators=i+1, max_depth=j+1, random_state=12345)\n",
    "        model_forest.fit(features_data_users_trainig, target_data_users_trainig)\n",
    "        predictions = model_forest.predict(features_data_users_valid)\n",
    "        table[i][j][0] = accuracy_score(target_data_users_valid , predictions)\n",
    "print('max accuracy =', np.amax(table))\n",
    "print('положение max accuracy:', np.argmax(table))"
   ]
  },
  {
   "cell_type": "markdown",
   "metadata": {},
   "source": [
    "Лучшая точночть (79%) у модели с гиперпараметрами **n_estimators** = 36 и **max_depth** = 10"
   ]
  },
  {
   "cell_type": "markdown",
   "metadata": {},
   "source": [
    "В данном случае гиперпараметры из **положение max accuracy** вычисляются следующим образом:  \n",
    "* 359 делится с остатком на 10, получается 35 и остаток 9  \n",
    "* **n_estimators** получается как 35+1, а **max_depth** - как 9+1"
   ]
  },
  {
   "cell_type": "markdown",
   "metadata": {},
   "source": [
    "Для исправленных тарифов, то есть для ключевого признака **is_ultra_corrected**, рассмотрим модели случайного леса с таким же диапазоном гиперпараметров"
   ]
  },
  {
   "cell_type": "code",
   "execution_count": 16,
   "metadata": {
    "scrolled": true
   },
   "outputs": [
    {
     "name": "stdout",
     "output_type": "stream",
     "text": [
      "max accuracy = 0.9035769828926905\n",
      "положение max accuracy: 148\n"
     ]
    }
   ],
   "source": [
    "table = np.zeros((50, 10, 1))\n",
    "for i in range(50):\n",
    "    for j in range (10):\n",
    "        model_forest = RandomForestClassifier(n_estimators=i+1, max_depth=j+1, random_state=12345)\n",
    "        model_forest.fit(features_data_users_trainig, c_target_data_users_trainig)\n",
    "        predictions = model_forest.predict(features_data_users_valid)\n",
    "        table[i][j][0] = accuracy_score(c_target_data_users_valid , predictions)\n",
    "print('max accuracy =', np.amax(table))\n",
    "print('положение max accuracy:', np.argmax(table))"
   ]
  },
  {
   "cell_type": "markdown",
   "metadata": {},
   "source": [
    "Лучшая точночть (90%) у модели с гиперпараметрами **n_estimators** = 15 и **max_depth** = 9"
   ]
  },
  {
   "cell_type": "markdown",
   "metadata": {},
   "source": [
    "#### Модели логической регрессии"
   ]
  },
  {
   "cell_type": "markdown",
   "metadata": {},
   "source": [
    "Рассмотрим модель логической регрессии для неисправленных тарифов, то есть для ключевого признака **is_ultra**."
   ]
  },
  {
   "cell_type": "code",
   "execution_count": 17,
   "metadata": {},
   "outputs": [
    {
     "name": "stdout",
     "output_type": "stream",
     "text": [
      "accuracy = 0.7247278382581649\n"
     ]
    },
    {
     "name": "stderr",
     "output_type": "stream",
     "text": [
      "/opt/conda/lib/python3.7/site-packages/sklearn/linear_model/logistic.py:432: FutureWarning: Default solver will be changed to 'lbfgs' in 0.22. Specify a solver to silence this warning.\n",
      "  FutureWarning)\n"
     ]
    }
   ],
   "source": [
    "model = LogisticRegression(random_state=12345)\n",
    "model.fit(features_data_users_trainig, target_data_users_trainig)\n",
    "predictions = model.predict(features_data_users_valid)\n",
    "accuracy = accuracy_score(target_data_users_valid , predictions)\n",
    "print('accuracy =', accuracy)"
   ]
  },
  {
   "cell_type": "markdown",
   "metadata": {},
   "source": [
    "Точность у такой модели составила 72%"
   ]
  },
  {
   "cell_type": "markdown",
   "metadata": {},
   "source": [
    "Рассмотрим модель логической регрессии для исправленных тарифов, то есть для ключевого признака **is_ultra_correctad**."
   ]
  },
  {
   "cell_type": "code",
   "execution_count": 18,
   "metadata": {},
   "outputs": [
    {
     "name": "stdout",
     "output_type": "stream",
     "text": [
      "accuracy = 0.8164852255054432\n"
     ]
    },
    {
     "name": "stderr",
     "output_type": "stream",
     "text": [
      "/opt/conda/lib/python3.7/site-packages/sklearn/linear_model/logistic.py:432: FutureWarning: Default solver will be changed to 'lbfgs' in 0.22. Specify a solver to silence this warning.\n",
      "  FutureWarning)\n"
     ]
    }
   ],
   "source": [
    "model = LogisticRegression(random_state=12345)\n",
    "model.fit(features_data_users_trainig, c_target_data_users_trainig)\n",
    "predictions = model.predict(features_data_users_valid)\n",
    "accuracy = accuracy_score(c_target_data_users_valid , predictions)\n",
    "print('accuracy =', accuracy)"
   ]
  },
  {
   "cell_type": "markdown",
   "metadata": {},
   "source": [
    "Точность у модели составила 81.6%"
   ]
  },
  {
   "cell_type": "markdown",
   "metadata": {},
   "source": [
    "### Вывод"
   ]
  },
  {
   "cell_type": "markdown",
   "metadata": {},
   "source": [
    "Лучше всего себя показала модель случайного леса с исправленными тарифами, то есть с ключевым признаком **is_ultra_corrected**: точность составила 90%. Гиперпараметры: **n_estimators** = 15 и **max_depth** = 9.   \n",
    "Если рассматривать неисправленные тарифы, то есть для ключевого признака **is_ultra_corrected**, то лучшей оказалась модель случайного леса с гиперпараметрами **n_estimators** = 36 и **max_depth** = 10. Точность соствила 79%, в то время как у модели логической регрессии точность составила лишь 72%."
   ]
  },
  {
   "cell_type": "markdown",
   "metadata": {},
   "source": [
    "## 4. Проверка моделей на тестовой выборке"
   ]
  },
  {
   "cell_type": "markdown",
   "metadata": {},
   "source": [
    "Проверим модели случайного леса на тестовых выборках, с исправленными данными и без исправлений."
   ]
  },
  {
   "cell_type": "markdown",
   "metadata": {},
   "source": [
    "Модель случайного леса с ключевым признаком **is_ultra** и параметрами **n_estimators** = 36 и **max_depth** = 10"
   ]
  },
  {
   "cell_type": "code",
   "execution_count": 19,
   "metadata": {},
   "outputs": [
    {
     "name": "stdout",
     "output_type": "stream",
     "text": [
      "accuracy = 0.8009331259720062\n"
     ]
    }
   ],
   "source": [
    "model_forest_36_10 = RandomForestClassifier(n_estimators=36, max_depth=10, random_state=12345)\n",
    "model_forest_36_10.fit(features_data_users_tr_val, target_data_users_tr_val)\n",
    "predictions = model_forest_36_10.predict(features_data_users_test)\n",
    "accuracy = accuracy_score(target_data_users_test , predictions)\n",
    "print('accuracy =', accuracy)"
   ]
  },
  {
   "cell_type": "markdown",
   "metadata": {},
   "source": [
    "Точность составила 80%"
   ]
  },
  {
   "cell_type": "markdown",
   "metadata": {},
   "source": [
    "Модель случайного леса с ключевым признаком **is_ultra_corrected** и параметрами **n_estimators** = 15 и **max_depth** = 9"
   ]
  },
  {
   "cell_type": "code",
   "execution_count": 20,
   "metadata": {},
   "outputs": [
    {
     "name": "stdout",
     "output_type": "stream",
     "text": [
      "accuracy = 0.9253499222395023\n"
     ]
    }
   ],
   "source": [
    "model_forest_15_9_c = RandomForestClassifier(n_estimators=15, max_depth=9, random_state=12345)\n",
    "model_forest_15_9_c.fit(features_data_users_tr_val, c_target_data_users_tr_val)\n",
    "predictions = model_forest_15_9_c.predict(features_data_users_test)\n",
    "accuracy = accuracy_score(c_target_data_users_test , predictions)\n",
    "print('accuracy =', accuracy)"
   ]
  },
  {
   "cell_type": "markdown",
   "metadata": {},
   "source": [
    "Точность составила 92.5%"
   ]
  },
  {
   "cell_type": "markdown",
   "metadata": {},
   "source": [
    "### Вывод\n",
    "Точность модели, использовавшей исправленные данные, составила 92.5%.  \n",
    "Точность модели, использовавшей изначальные данные, составила 80%."
   ]
  },
  {
   "cell_type": "markdown",
   "metadata": {},
   "source": [
    "## 5. Проверка моделей на адекватность"
   ]
  },
  {
   "cell_type": "markdown",
   "metadata": {},
   "source": [
    "Простая проверка на адекватность: предложить всем абонентом перейти на тариф smart"
   ]
  },
  {
   "cell_type": "code",
   "execution_count": 21,
   "metadata": {},
   "outputs": [
    {
     "name": "stdout",
     "output_type": "stream",
     "text": [
      "точность: 0.693528313627878\n"
     ]
    }
   ],
   "source": [
    "# сколько угадаем, если всем предложить тариф smart\n",
    "print('точность:', data_users.is_ultra.value_counts()[0] / len(data_users))"
   ]
  },
  {
   "cell_type": "markdown",
   "metadata": {},
   "source": [
    "В таком случае почти в 70% случаев это окажется верным предложением.  \n",
    "А модель случайного леса будет давать результат на 10% лучше, что, конечно, лучше."
   ]
  },
  {
   "cell_type": "markdown",
   "metadata": {},
   "source": [
    "Если же выбор тарифов исправить, то и точность в случае предложения всем одного тарифа упадет до 59%, и точность модели увеличится до 92.5%"
   ]
  },
  {
   "cell_type": "code",
   "execution_count": 22,
   "metadata": {
    "scrolled": false
   },
   "outputs": [
    {
     "name": "stdout",
     "output_type": "stream",
     "text": [
      "точность: 0.5933416303671437\n"
     ]
    }
   ],
   "source": [
    "print('точность:', data_users.is_ultra_corrected.value_counts()[0] / len(data_users))"
   ]
  },
  {
   "cell_type": "markdown",
   "metadata": {},
   "source": [
    "## 6. Вывод"
   ]
  },
  {
   "cell_type": "markdown",
   "metadata": {},
   "source": [
    "Лучше всего себя показала модель случайного леса с исправленными тарифами, то есть с ключевым признаком **is_ultra_corrected**: точность составила 92.5%. Гиперпараметры: **n_estimators** = 15 и **max_depth** = 9. Её и можно использовать определения, какой новый тариф предложить пользователям архивных тарифов. "
   ]
  }
 ],
 "metadata": {
  "kernelspec": {
   "display_name": "Python 3",
   "language": "python",
   "name": "python3"
  },
  "language_info": {
   "codemirror_mode": {
    "name": "ipython",
    "version": 3
   },
   "file_extension": ".py",
   "mimetype": "text/x-python",
   "name": "python",
   "nbconvert_exporter": "python",
   "pygments_lexer": "ipython3",
   "version": "3.7.6"
  },
  "toc": {
   "base_numbering": 1,
   "nav_menu": {},
   "number_sections": true,
   "sideBar": true,
   "skip_h1_title": true,
   "title_cell": "Table of Contents",
   "title_sidebar": "Contents",
   "toc_cell": false,
   "toc_position": {},
   "toc_section_display": true,
   "toc_window_display": false
  }
 },
 "nbformat": 4,
 "nbformat_minor": 2
}
